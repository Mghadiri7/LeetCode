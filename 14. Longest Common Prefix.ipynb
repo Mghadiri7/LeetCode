{
 "cells": [
  {
   "cell_type": "markdown",
   "id": "358ca65f-468c-4673-99dc-d1b101fa9671",
   "metadata": {},
   "source": [
    "## First Solution"
   ]
  },
  {
   "cell_type": "code",
   "execution_count": 1,
   "id": "7cd0e1a4-72ce-49c1-98e5-0e676f16c954",
   "metadata": {},
   "outputs": [],
   "source": [
    "def longestCommonPrefix(strs):\n",
    "    _str = min(strs)\n",
    "    for i in strs:\n",
    "        j = 0\n",
    "        while j<len(_str) and len(i):\n",
    "            if _str[j]!=i[j]:\n",
    "                _str = _str[:j]\n",
    "            j+=1\n",
    "    return _str"
   ]
  },
  {
   "cell_type": "code",
   "execution_count": 2,
   "id": "d99e041a-c288-43a0-a368-25aeda309435",
   "metadata": {},
   "outputs": [
    {
     "data": {
      "text/plain": [
       "'fl'"
      ]
     },
     "execution_count": 2,
     "metadata": {},
     "output_type": "execute_result"
    }
   ],
   "source": [
    "strs = [\"flower\",\"flow\",\"flight\"]\n",
    "longestCommonPrefix(strs)"
   ]
  },
  {
   "cell_type": "markdown",
   "id": "9460d5fe-27cd-45cb-b55b-66fc4d7bceab",
   "metadata": {},
   "source": [
    "## second Solution"
   ]
  },
  {
   "cell_type": "code",
   "execution_count": 3,
   "id": "a11877d6-10fa-43d1-9ebe-04d262201ea9",
   "metadata": {},
   "outputs": [],
   "source": [
    "def longestCommonPrefix(strs):\n",
    "    strs.sort()\n",
    "    first = strs[0]\n",
    "    last = strs[-1]\n",
    "    length = min(len(first), len(last))\n",
    "    for i in range(length):\n",
    "        if first[i]!=last[i]:\n",
    "            return first[:i]\n",
    "    return first"
   ]
  },
  {
   "cell_type": "code",
   "execution_count": 4,
   "id": "1b3fdf9f-32b7-490f-8a5a-5b2f59f9a601",
   "metadata": {},
   "outputs": [
    {
     "data": {
      "text/plain": [
       "'fl'"
      ]
     },
     "execution_count": 4,
     "metadata": {},
     "output_type": "execute_result"
    }
   ],
   "source": [
    "strs = [\"flower\",\"flow\",\"flight\"]\n",
    "longestCommonPrefix(strs)"
   ]
  },
  {
   "cell_type": "code",
   "execution_count": null,
   "id": "eeddae80-244d-4899-87fe-43ee48c0cac3",
   "metadata": {},
   "outputs": [],
   "source": []
  }
 ],
 "metadata": {
  "kernelspec": {
   "display_name": "Python 3 (ipykernel)",
   "language": "python",
   "name": "python3"
  },
  "language_info": {
   "codemirror_mode": {
    "name": "ipython",
    "version": 3
   },
   "file_extension": ".py",
   "mimetype": "text/x-python",
   "name": "python",
   "nbconvert_exporter": "python",
   "pygments_lexer": "ipython3",
   "version": "3.10.11"
  }
 },
 "nbformat": 4,
 "nbformat_minor": 5
}
