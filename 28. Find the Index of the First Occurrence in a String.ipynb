{
 "cells": [
  {
   "cell_type": "markdown",
   "id": "6c18839f-87f8-4f79-801d-fa463bf83dfd",
   "metadata": {},
   "source": [
    "## First Solution"
   ]
  },
  {
   "cell_type": "code",
   "execution_count": 8,
   "id": "b4298eb8-1af5-4dff-840b-9239d2d3e882",
   "metadata": {},
   "outputs": [],
   "source": [
    "def strStr(haystack, needle):\n",
    "    if needle==haystack:\n",
    "        return 0\n",
    "    len_h = len(haystack)\n",
    "    len_n = len(needle)\n",
    "    for i in range(len_h-len_n+1):\n",
    "        if needle==haystack[i:i+len_n]:\n",
    "            return i\n",
    "    return -1"
   ]
  },
  {
   "cell_type": "code",
   "execution_count": 9,
   "id": "286eb093-467c-404d-a7af-1b00d5b519b8",
   "metadata": {},
   "outputs": [
    {
     "data": {
      "text/plain": [
       "0"
      ]
     },
     "execution_count": 9,
     "metadata": {},
     "output_type": "execute_result"
    }
   ],
   "source": [
    "haystack = \"sadbutsad\"\n",
    "needle = \"sad\"\n",
    "strStr(haystack, needle)"
   ]
  },
  {
   "cell_type": "code",
   "execution_count": 10,
   "id": "e90f760f-d2d7-44b2-bc58-a1a3ab9fae4c",
   "metadata": {},
   "outputs": [
    {
     "data": {
      "text/plain": [
       "2"
      ]
     },
     "execution_count": 10,
     "metadata": {},
     "output_type": "execute_result"
    }
   ],
   "source": [
    "haystack = \"abc\"\n",
    "needle = \"c\"\n",
    "strStr(haystack, needle)"
   ]
  },
  {
   "cell_type": "markdown",
   "id": "2db68fa0-94ee-44e3-927b-6a3cac60e4c0",
   "metadata": {},
   "source": [
    "## Second Solution"
   ]
  },
  {
   "cell_type": "code",
   "execution_count": 11,
   "id": "06aaa0c9-14c4-4dbe-bc04-a08b39eaae6d",
   "metadata": {},
   "outputs": [],
   "source": [
    "def strStr(haystack, needle):\n",
    "    return haystack.index(needle) if needle in haystack else -1"
   ]
  },
  {
   "cell_type": "code",
   "execution_count": 12,
   "id": "56b03330-f4f9-49cc-980e-24c5a78120fa",
   "metadata": {},
   "outputs": [
    {
     "data": {
      "text/plain": [
       "0"
      ]
     },
     "execution_count": 12,
     "metadata": {},
     "output_type": "execute_result"
    }
   ],
   "source": [
    "haystack = \"sadbutsad\"\n",
    "needle = \"sad\"\n",
    "strStr(haystack, needle)"
   ]
  },
  {
   "cell_type": "code",
   "execution_count": null,
   "id": "a03306e7-5680-4330-8e55-4577d85e1f8b",
   "metadata": {},
   "outputs": [],
   "source": []
  }
 ],
 "metadata": {
  "kernelspec": {
   "display_name": "Python 3 (ipykernel)",
   "language": "python",
   "name": "python3"
  },
  "language_info": {
   "codemirror_mode": {
    "name": "ipython",
    "version": 3
   },
   "file_extension": ".py",
   "mimetype": "text/x-python",
   "name": "python",
   "nbconvert_exporter": "python",
   "pygments_lexer": "ipython3",
   "version": "3.10.11"
  }
 },
 "nbformat": 4,
 "nbformat_minor": 5
}
