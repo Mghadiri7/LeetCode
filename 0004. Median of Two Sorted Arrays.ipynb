{
 "cells": [
  {
   "cell_type": "markdown",
   "id": "0304ffc8-1204-4ce5-ac73-488e32d8147d",
   "metadata": {},
   "source": [
    "## First Solution"
   ]
  },
  {
   "cell_type": "code",
   "execution_count": 6,
   "id": "f6518eb1-071f-41a3-9935-a271215811da",
   "metadata": {},
   "outputs": [],
   "source": [
    "def findMedianSortedArrays(nums1, nums2):\n",
    "    m = len(nums1)\n",
    "    n = len(nums2)\n",
    "    if m>n:\n",
    "        nums1, nums2 = nums2, nums1\n",
    "        m, n = n, m\n",
    "    low = 0\n",
    "    high = m-1\n",
    "    total_len = m+n\n",
    "    half = total_len//2\n",
    "    while True:\n",
    "        mid1 = (high+low)//2\n",
    "        mid2 = half-mid1-2   #(half-1)-(mid1+1)\n",
    "        leftnums1 = nums1[mid1] if mid1>=0 else float('-infinity')\n",
    "        rightnums1 = nums1[mid1+1] if mid1+1<m else float('infinity')\n",
    "        leftnums2 = nums2[mid2] if mid2>=0 else float('-infinity')\n",
    "        rightnums2 = nums2[mid2+1] if mid2+1<n else float('infinity')\n",
    "        \n",
    "        if leftnums1<=rightnums2 and leftnums2<rightnums1:\n",
    "            if total_len%2:\n",
    "                return min(rightnums1, rightnums2)\n",
    "            return (max(leftnums1, leftnums2)+min(rightnums1, rightnums2)) / 2\n",
    "        elif leftnums1>rightnums2:\n",
    "            high = mid1-1\n",
    "        else:\n",
    "            low = mid1+1"
   ]
  },
  {
   "cell_type": "code",
   "execution_count": 7,
   "id": "b63f56cc-2001-4b06-9346-cd2e9eab0eb4",
   "metadata": {},
   "outputs": [
    {
     "name": "stdout",
     "output_type": "stream",
     "text": [
      "2.5\n"
     ]
    }
   ],
   "source": [
    "nums1 = [1,2]\n",
    "nums2 = [3,4]\n",
    "print(findMedianSortedArrays(nums1, nums2))"
   ]
  },
  {
   "cell_type": "markdown",
   "id": "5e3bba65-e210-4451-bb02-aad9e2a39ab3",
   "metadata": {},
   "source": [
    "## Second Solution"
   ]
  },
  {
   "cell_type": "code",
   "execution_count": 8,
   "id": "76b9c75a-20ff-4a62-b7df-5bc2f2d55b0c",
   "metadata": {},
   "outputs": [],
   "source": [
    "def findMedianSortedArrays(nums1, nums2):\n",
    "    nums1.extend(nums2)\n",
    "    nums1 = sorted(nums1)\n",
    "    length = len(nums1)\n",
    "    if length%2:\n",
    "        return nums1[length//2]\n",
    "    else:\n",
    "        return (nums1[length//2]+nums1[(length//2)-1])/2"
   ]
  },
  {
   "cell_type": "code",
   "execution_count": 9,
   "id": "5aad047f-9371-45b7-8a2e-3bd177474d77",
   "metadata": {},
   "outputs": [
    {
     "name": "stdout",
     "output_type": "stream",
     "text": [
      "2.5\n"
     ]
    }
   ],
   "source": [
    "nums1 = [1,2]\n",
    "nums2 = [3,4]\n",
    "print(findMedianSortedArrays(nums1, nums2))"
   ]
  }
 ],
 "metadata": {
  "kernelspec": {
   "display_name": "Python 3 (ipykernel)",
   "language": "python",
   "name": "python3"
  },
  "language_info": {
   "codemirror_mode": {
    "name": "ipython",
    "version": 3
   },
   "file_extension": ".py",
   "mimetype": "text/x-python",
   "name": "python",
   "nbconvert_exporter": "python",
   "pygments_lexer": "ipython3",
   "version": "3.10.11"
  }
 },
 "nbformat": 4,
 "nbformat_minor": 5
}
