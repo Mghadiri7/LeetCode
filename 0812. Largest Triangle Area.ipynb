{
 "cells": [
  {
   "cell_type": "code",
   "execution_count": 1,
   "id": "87859e6c-2dbe-409a-872b-ec963f885e23",
   "metadata": {},
   "outputs": [],
   "source": [
    "def largestTriangleArea(points):\n",
    "    length = len(points)\n",
    "    max_area = 0\n",
    "    for i in range(length-2):\n",
    "        for j in range(i+1, length-1):\n",
    "            for k in range(j+1, length):\n",
    "                x1, y1 = points[i]\n",
    "                x2, y2 = points[j]\n",
    "                x3, y3 = points[k]\n",
    "                area = abs(0.5 * (x1*(y2-y3) + x2*(y3-y1) + x3*(y1-y2)))\n",
    "                max_area = max(max_area, area)\n",
    "    return max_area"
   ]
  },
  {
   "cell_type": "code",
   "execution_count": 2,
   "id": "f1f4ea7f-22d9-4455-9542-dbf2fd63e071",
   "metadata": {},
   "outputs": [
    {
     "data": {
      "text/plain": [
       "2.0"
      ]
     },
     "execution_count": 2,
     "metadata": {},
     "output_type": "execute_result"
    }
   ],
   "source": [
    "points = [[0,0],[0,1],[1,0],[0,2],[2,0]]\n",
    "largestTriangleArea(points)"
   ]
  },
  {
   "cell_type": "code",
   "execution_count": null,
   "id": "bbb32349-9fa6-4523-8bf9-7317c74657bc",
   "metadata": {},
   "outputs": [],
   "source": []
  }
 ],
 "metadata": {
  "kernelspec": {
   "display_name": "Python 3 (ipykernel)",
   "language": "python",
   "name": "python3"
  },
  "language_info": {
   "codemirror_mode": {
    "name": "ipython",
    "version": 3
   },
   "file_extension": ".py",
   "mimetype": "text/x-python",
   "name": "python",
   "nbconvert_exporter": "python",
   "pygments_lexer": "ipython3",
   "version": "3.10.11"
  }
 },
 "nbformat": 4,
 "nbformat_minor": 5
}
