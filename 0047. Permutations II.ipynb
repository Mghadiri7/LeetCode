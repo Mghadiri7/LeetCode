{
 "cells": [
  {
   "cell_type": "markdown",
   "id": "f4d8936d-2b6d-43e4-9cb6-d0da79ec87a7",
   "metadata": {},
   "source": [
    "## First Solution"
   ]
  },
  {
   "cell_type": "code",
   "execution_count": 24,
   "id": "7c69001f-baef-481f-b7f2-6e8fc7681fc7",
   "metadata": {},
   "outputs": [],
   "source": [
    "def permuteUnique(nums):\n",
    "    \n",
    "    def permute(lst):\n",
    "        if len(lst)==1:\n",
    "            return [lst[:]]\n",
    "    \n",
    "        res = []\n",
    "        for i in range(len(lst)):\n",
    "            n = lst.pop(0)\n",
    "            permutations = permute(nums)\n",
    "            for p in permutations:\n",
    "                res.append(p + [n])\n",
    "            lst.append(n)\n",
    "        return res\n",
    "\n",
    "    all_p = permute(nums)\n",
    "    unique_lst = []\n",
    "    for item in all_p:\n",
    "        if item not in unique_lst:\n",
    "            unique_lst.append(item)\n",
    "    return unique_lst"
   ]
  },
  {
   "cell_type": "code",
   "execution_count": 25,
   "id": "1d95407d-ecda-4634-99bc-d163099f83e5",
   "metadata": {},
   "outputs": [
    {
     "data": {
      "text/plain": [
       "[[2, 1, 1], [1, 2, 1], [1, 1, 2]]"
      ]
     },
     "execution_count": 25,
     "metadata": {},
     "output_type": "execute_result"
    }
   ],
   "source": [
    "nums = [1,1,2]\n",
    "permuteUnique(nums)"
   ]
  },
  {
   "cell_type": "markdown",
   "id": "182e636c-34d8-4640-bde3-d91edb47f650",
   "metadata": {},
   "source": [
    "## Second Solution"
   ]
  },
  {
   "cell_type": "code",
   "execution_count": 29,
   "id": "770a32fb-2fb5-4334-a6b9-50a3f7d177e3",
   "metadata": {},
   "outputs": [],
   "source": [
    "from collections import Counter\n",
    "\n",
    "def permuteUnique(nums):\n",
    "    results = []\n",
    "    def backtrack(comb, counter):\n",
    "        if len(comb) == len(nums):\n",
    "            results.append(list(comb))\n",
    "            return\n",
    "\n",
    "        for num in counter:\n",
    "            if counter[num] > 0:\n",
    "                comb.append(num)\n",
    "                counter[num] -= 1\n",
    "                backtrack(comb, counter)\n",
    "                comb.pop()\n",
    "                counter[num] += 1\n",
    "                \n",
    "    backtrack([], Counter(nums))\n",
    "    return results"
   ]
  },
  {
   "cell_type": "code",
   "execution_count": 30,
   "id": "fd19a2b6-b0cc-4b7f-9132-36ee1d844f4f",
   "metadata": {},
   "outputs": [
    {
     "data": {
      "text/plain": [
       "[[1, 1, 2], [1, 2, 1], [2, 1, 1]]"
      ]
     },
     "execution_count": 30,
     "metadata": {},
     "output_type": "execute_result"
    }
   ],
   "source": [
    "nums = [1,1,2]\n",
    "permuteUnique(nums)"
   ]
  },
  {
   "cell_type": "code",
   "execution_count": null,
   "id": "da02aba5-5187-41b9-aa69-08eda8a6b504",
   "metadata": {},
   "outputs": [],
   "source": []
  }
 ],
 "metadata": {
  "kernelspec": {
   "display_name": "Python 3 (ipykernel)",
   "language": "python",
   "name": "python3"
  },
  "language_info": {
   "codemirror_mode": {
    "name": "ipython",
    "version": 3
   },
   "file_extension": ".py",
   "mimetype": "text/x-python",
   "name": "python",
   "nbconvert_exporter": "python",
   "pygments_lexer": "ipython3",
   "version": "3.10.11"
  }
 },
 "nbformat": 4,
 "nbformat_minor": 5
}
