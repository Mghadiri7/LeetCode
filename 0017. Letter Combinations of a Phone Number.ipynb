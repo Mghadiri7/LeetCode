{
 "cells": [
  {
   "cell_type": "code",
   "execution_count": 3,
   "id": "926d4f40-408c-4004-89a7-72a1bb5bc2cb",
   "metadata": {},
   "outputs": [],
   "source": [
    "def letterCombinations(digits):\n",
    "    _dict = {'2':'abc', '3':'def', '4':'ghi', '5':'jkl', \n",
    "             '6':'mno', '7':'pqrs', '8':'tuv', '9':'wxyz'}\n",
    "    lst = []\n",
    "    def backtracker(i, _str):\n",
    "        if len(_str)==len(digits):\n",
    "            lst.append(_str)\n",
    "            return\n",
    "        for c in _dict[digits[i]]:\n",
    "            backtracker(i+1, _str+c)\n",
    "    if digits:\n",
    "        backtracker(0, \"\")\n",
    "    return lst"
   ]
  },
  {
   "cell_type": "code",
   "execution_count": 4,
   "id": "9473a3b7-028c-484a-a68f-923b62fa7edc",
   "metadata": {},
   "outputs": [
    {
     "data": {
      "text/plain": [
       "['ad', 'ae', 'af', 'bd', 'be', 'bf', 'cd', 'ce', 'cf']"
      ]
     },
     "execution_count": 4,
     "metadata": {},
     "output_type": "execute_result"
    }
   ],
   "source": [
    "digits = \"23\"\n",
    "letterCombinations(digits)"
   ]
  },
  {
   "cell_type": "code",
   "execution_count": 7,
   "id": "19e68f8f-7269-4697-91d9-6cebbdddc2bd",
   "metadata": {},
   "outputs": [
    {
     "name": "stdout",
     "output_type": "stream",
     "text": [
      "[2, 3, 4]\n"
     ]
    }
   ],
   "source": [
    "l = [1, 2, 3]\n",
    "def ab():\n",
    "    for i in range(3):\n",
    "        l[i]+=1\n",
    "ab()\n",
    "print(l)"
   ]
  },
  {
   "cell_type": "code",
   "execution_count": null,
   "id": "f13a82c8-ee46-4ecc-b7a7-335c5b96caa3",
   "metadata": {},
   "outputs": [],
   "source": []
  }
 ],
 "metadata": {
  "kernelspec": {
   "display_name": "Python 3 (ipykernel)",
   "language": "python",
   "name": "python3"
  },
  "language_info": {
   "codemirror_mode": {
    "name": "ipython",
    "version": 3
   },
   "file_extension": ".py",
   "mimetype": "text/x-python",
   "name": "python",
   "nbconvert_exporter": "python",
   "pygments_lexer": "ipython3",
   "version": "3.10.11"
  }
 },
 "nbformat": 4,
 "nbformat_minor": 5
}
