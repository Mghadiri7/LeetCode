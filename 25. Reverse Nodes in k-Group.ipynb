{
 "cells": [
  {
   "cell_type": "code",
   "execution_count": null,
   "id": "2368b3e4-dba1-4e0e-a17f-c89ba5bb4308",
   "metadata": {},
   "outputs": [],
   "source": [
    "# class ListNode:\n",
    "#     def __init__(self, val=0, next=None):\n",
    "#         self.val = val\n",
    "#         self.next = next\n",
    "\n",
    "def reverseKGroup(head, k):\n",
    "    count = 0\n",
    "    temp = head\n",
    "    while temp and count<k:\n",
    "        temp = temp.next\n",
    "        count+=1\n",
    "    if count<k:\n",
    "        return head\n",
    "\n",
    "    pre, cur = None, head\n",
    "    for i in range(k):\n",
    "        nxt = cur.next\n",
    "        cur.next = pre\n",
    "        pre = cur\n",
    "        cur = nxt\n",
    "    if cur:\n",
    "        head.next = reverseKGroup(cur, k)\n",
    "    return pre"
   ]
  }
 ],
 "metadata": {
  "kernelspec": {
   "display_name": "Python 3 (ipykernel)",
   "language": "python",
   "name": "python3"
  },
  "language_info": {
   "codemirror_mode": {
    "name": "ipython",
    "version": 3
   },
   "file_extension": ".py",
   "mimetype": "text/x-python",
   "name": "python",
   "nbconvert_exporter": "python",
   "pygments_lexer": "ipython3",
   "version": "3.10.11"
  }
 },
 "nbformat": 4,
 "nbformat_minor": 5
}
