{
 "cells": [
  {
   "cell_type": "code",
   "execution_count": 2,
   "id": "0b58e9c0-1104-406f-a64e-ddeace07af34",
   "metadata": {},
   "outputs": [],
   "source": [
    "from collections import Counter\n",
    "from bisect import bisect_left, bisect_right\n",
    "\n",
    "def maxFrequency(nums, k, numOperations):\n",
    "    nums.sort()\n",
    "    _dict = Counter(nums)\n",
    "    n = len(nums)\n",
    "    _max = 1        \n",
    "    for v in range(nums[0], nums[n-1]+1):\n",
    "        temp = min(bisect_right(nums, v+k) - bisect_left(nums, v-k) - _dict[v], numOperations) + _dict[v]\n",
    "        if temp>_max:\n",
    "            _max = temp\n",
    "    return _max"
   ]
  },
  {
   "cell_type": "code",
   "execution_count": 3,
   "id": "9f1b71b1-d025-4a37-8810-9f56e142b00d",
   "metadata": {},
   "outputs": [
    {
     "data": {
      "text/plain": [
       "2"
      ]
     },
     "execution_count": 3,
     "metadata": {},
     "output_type": "execute_result"
    }
   ],
   "source": [
    "nums = [1,4,5]\n",
    "k = 1\n",
    "numOperations = 2\n",
    "maxFrequency(nums, k, numOperations)"
   ]
  },
  {
   "cell_type": "code",
   "execution_count": 4,
   "id": "e97355b7-8f73-45fc-b5ba-0936d7bec537",
   "metadata": {},
   "outputs": [
    {
     "data": {
      "text/plain": [
       "2"
      ]
     },
     "execution_count": 4,
     "metadata": {},
     "output_type": "execute_result"
    }
   ],
   "source": [
    "nums = [87, 53]\n",
    "k = 27\n",
    "numOperations = 2\n",
    "maxFrequency(nums, k, numOperations)"
   ]
  },
  {
   "cell_type": "code",
   "execution_count": 5,
   "id": "5e1d7889-3ac3-434d-905d-553933a4f499",
   "metadata": {},
   "outputs": [
    {
     "data": {
      "text/plain": [
       "3"
      ]
     },
     "execution_count": 5,
     "metadata": {},
     "output_type": "execute_result"
    }
   ],
   "source": [
    "nums = [174,35,197,151,92,94,87,122,190,198]\n",
    "k = 15\n",
    "numOperations = 3\n",
    "maxFrequency(nums, k, numOperations)"
   ]
  },
  {
   "cell_type": "code",
   "execution_count": null,
   "id": "cae1a0c6-3b29-42db-8870-10455e5097bc",
   "metadata": {},
   "outputs": [],
   "source": []
  }
 ],
 "metadata": {
  "kernelspec": {
   "display_name": "Python 3 (ipykernel)",
   "language": "python",
   "name": "python3"
  },
  "language_info": {
   "codemirror_mode": {
    "name": "ipython",
    "version": 3
   },
   "file_extension": ".py",
   "mimetype": "text/x-python",
   "name": "python",
   "nbconvert_exporter": "python",
   "pygments_lexer": "ipython3",
   "version": "3.10.11"
  }
 },
 "nbformat": 4,
 "nbformat_minor": 5
}
