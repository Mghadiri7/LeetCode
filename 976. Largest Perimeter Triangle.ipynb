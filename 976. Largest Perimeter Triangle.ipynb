{
 "cells": [
  {
   "cell_type": "code",
   "execution_count": 3,
   "id": "9c1c7550-20cd-419f-b702-1d80459d1432",
   "metadata": {},
   "outputs": [],
   "source": [
    "def largestPerimeter(nums):\n",
    "    nums.sort(reverse=True)\n",
    "    length = len(nums)\n",
    "    for i in range(length-2):\n",
    "        if nums[i+1]+nums[i+2]>nums[i]:\n",
    "            return nums[i]+nums[i+1]+nums[i+2]\n",
    "    return 0"
   ]
  },
  {
   "cell_type": "code",
   "execution_count": 4,
   "id": "81278bba-9390-44d3-a61e-f7355234c7bb",
   "metadata": {},
   "outputs": [
    {
     "data": {
      "text/plain": [
       "5"
      ]
     },
     "execution_count": 4,
     "metadata": {},
     "output_type": "execute_result"
    }
   ],
   "source": [
    "nums = [2,1,2]\n",
    "largestPerimeter(nums)"
   ]
  },
  {
   "cell_type": "code",
   "execution_count": 5,
   "id": "757b02b2-376a-4466-b4cc-fb7b872184f9",
   "metadata": {},
   "outputs": [
    {
     "data": {
      "text/plain": [
       "0"
      ]
     },
     "execution_count": 5,
     "metadata": {},
     "output_type": "execute_result"
    }
   ],
   "source": [
    "nums = [1,2,1,10]\n",
    "largestPerimeter(nums)"
   ]
  },
  {
   "cell_type": "code",
   "execution_count": null,
   "id": "96e51245-e973-42b5-b4f9-4ca33fd25d6b",
   "metadata": {},
   "outputs": [],
   "source": []
  }
 ],
 "metadata": {
  "kernelspec": {
   "display_name": "Python 3 (ipykernel)",
   "language": "python",
   "name": "python3"
  },
  "language_info": {
   "codemirror_mode": {
    "name": "ipython",
    "version": 3
   },
   "file_extension": ".py",
   "mimetype": "text/x-python",
   "name": "python",
   "nbconvert_exporter": "python",
   "pygments_lexer": "ipython3",
   "version": "3.10.11"
  }
 },
 "nbformat": 4,
 "nbformat_minor": 5
}
