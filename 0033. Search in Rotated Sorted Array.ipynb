{
 "cells": [
  {
   "cell_type": "code",
   "execution_count": 9,
   "id": "3c3049e8-4f42-43ab-8bee-a535939b5c19",
   "metadata": {},
   "outputs": [],
   "source": [
    "def search(nums, target):\n",
    "    left, right = 0, len(nums)-1\n",
    "    while left<=right:\n",
    "        mid = (left+right) // 2\n",
    "        if nums[mid]==target:\n",
    "            return mid\n",
    "        if nums[left]<=nums[mid]:\n",
    "            if nums[left]<=target<nums[mid]:\n",
    "                right = mid-1\n",
    "            else:\n",
    "                left = mid+1\n",
    "        else:\n",
    "            if nums[mid]<target<=nums[right]:\n",
    "                left = mid+1\n",
    "            else:\n",
    "                right = mid-1\n",
    "    return -1"
   ]
  },
  {
   "cell_type": "code",
   "execution_count": 10,
   "id": "40c2d84c-acf8-4718-8446-0b3a38998bb3",
   "metadata": {},
   "outputs": [
    {
     "data": {
      "text/plain": [
       "3"
      ]
     },
     "execution_count": 10,
     "metadata": {},
     "output_type": "execute_result"
    }
   ],
   "source": [
    "nums = [4,5,6,7,0,1,2]\n",
    "target = 7\n",
    "search(nums, target)"
   ]
  },
  {
   "cell_type": "code",
   "execution_count": 11,
   "id": "f0366184-4ac8-417c-96b2-8fa4667dfeeb",
   "metadata": {},
   "outputs": [
    {
     "data": {
      "text/plain": [
       "2"
      ]
     },
     "execution_count": 11,
     "metadata": {},
     "output_type": "execute_result"
    }
   ],
   "source": [
    "nums =[5,1,3]\n",
    "target = 3\n",
    "search(nums, target)"
   ]
  },
  {
   "cell_type": "code",
   "execution_count": 12,
   "id": "0b10cf45-8a0e-4c48-aa49-66e519777d1a",
   "metadata": {},
   "outputs": [],
   "source": [
    "def binary_search(nums, target):\n",
    "    lo, hi = 0, len(nums) - 1\n",
    "    while lo <= hi:\n",
    "        mid = (lo + hi) // 2\n",
    "        if nums[mid] == target:\n",
    "            return mid\n",
    "        elif nums[mid] < target:\n",
    "            lo = mid + 1\n",
    "        else:\n",
    "            hi = mid - 1\n",
    "    return -1"
   ]
  },
  {
   "cell_type": "code",
   "execution_count": 14,
   "id": "f21e05e9-c0a4-40fb-a248-d5ce793ec5a6",
   "metadata": {},
   "outputs": [
    {
     "data": {
      "text/plain": [
       "-1"
      ]
     },
     "execution_count": 14,
     "metadata": {},
     "output_type": "execute_result"
    }
   ],
   "source": [
    "nums = [5,7,7,8,8,10]\n",
    "target = 11\n",
    "binary_search(nums, target)"
   ]
  },
  {
   "cell_type": "code",
   "execution_count": null,
   "id": "7ec06a68-a5d3-4411-9a85-2fd26f2a52d8",
   "metadata": {},
   "outputs": [],
   "source": []
  }
 ],
 "metadata": {
  "kernelspec": {
   "display_name": "Python 3 (ipykernel)",
   "language": "python",
   "name": "python3"
  },
  "language_info": {
   "codemirror_mode": {
    "name": "ipython",
    "version": 3
   },
   "file_extension": ".py",
   "mimetype": "text/x-python",
   "name": "python",
   "nbconvert_exporter": "python",
   "pygments_lexer": "ipython3",
   "version": "3.10.11"
  }
 },
 "nbformat": 4,
 "nbformat_minor": 5
}
