{
 "cells": [
  {
   "cell_type": "code",
   "execution_count": 11,
   "id": "4c06b0a2-64df-475c-aaca-47ca73933449",
   "metadata": {},
   "outputs": [],
   "source": [
    "def compareVersion(version1, version2):\n",
    "    lst1 = [int(x) for x in version1.split(\".\")]\n",
    "    lst2 = [int(x) for x in version2.split(\".\")]\n",
    "    len1 = len(lst1)\n",
    "    len2 = len(lst2)\n",
    "    length = len1\n",
    "    if len1>len2:\n",
    "        lst2 += [0]*(len1-len2)\n",
    "    elif len2>len1:\n",
    "        lst1 += [0]*(len2-len1)\n",
    "        length = len2\n",
    "    for i in range(length):\n",
    "        if lst1[i]>lst2[i]:\n",
    "            return 1\n",
    "        elif lst1[i]<lst2[i]:\n",
    "            return -1\n",
    "    return 0"
   ]
  },
  {
   "cell_type": "code",
   "execution_count": 12,
   "id": "af64eb18-0dd0-45ba-8108-5c1799b23c60",
   "metadata": {},
   "outputs": [
    {
     "data": {
      "text/plain": [
       "-1"
      ]
     },
     "execution_count": 12,
     "metadata": {},
     "output_type": "execute_result"
    }
   ],
   "source": [
    "version1 = \"1.2\"\n",
    "version2 = \"1.10\"\n",
    "compareVersion(version1, version2)"
   ]
  },
  {
   "cell_type": "code",
   "execution_count": 13,
   "id": "f00833e8-3e87-4922-b881-5ade8ad83699",
   "metadata": {},
   "outputs": [
    {
     "data": {
      "text/plain": [
       "0"
      ]
     },
     "execution_count": 13,
     "metadata": {},
     "output_type": "execute_result"
    }
   ],
   "source": [
    "version1 = \"1.0\"\n",
    "version2 = \"1.0.0.0\"\n",
    "compareVersion(version1, version2)"
   ]
  },
  {
   "cell_type": "code",
   "execution_count": null,
   "id": "cbf769ff-8c16-4ddb-b846-2285b6babab5",
   "metadata": {},
   "outputs": [],
   "source": []
  }
 ],
 "metadata": {
  "kernelspec": {
   "display_name": "Python 3 (ipykernel)",
   "language": "python",
   "name": "python3"
  },
  "language_info": {
   "codemirror_mode": {
    "name": "ipython",
    "version": 3
   },
   "file_extension": ".py",
   "mimetype": "text/x-python",
   "name": "python",
   "nbconvert_exporter": "python",
   "pygments_lexer": "ipython3",
   "version": "3.10.11"
  }
 },
 "nbformat": 4,
 "nbformat_minor": 5
}
