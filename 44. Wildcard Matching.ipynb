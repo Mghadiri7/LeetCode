{
 "cells": [
  {
   "cell_type": "code",
   "execution_count": 28,
   "id": "f4dbf7ef-256f-4360-ac0a-cdb23b1a151d",
   "metadata": {},
   "outputs": [],
   "source": [
    "from functools import lru_cache\n",
    "\n",
    "def isMatch(s, p):\n",
    "    \n",
    "    @lru_cache(None)\n",
    "    def dfs(i, j):\n",
    "        if i == len(s) and j == len(p):\n",
    "            return True\n",
    "        if j == len(p):\n",
    "            return False\n",
    "        if i == len(s):\n",
    "            # for x in p[j:]:\n",
    "            #     if x!='*':\n",
    "            #         return False\n",
    "            # return True    \n",
    "            return all(x == '*' for x in p[j:])\n",
    "        if p[j] == s[i] or p[j] == '?':\n",
    "            return dfs(i+1, j+1)\n",
    "        elif p[j] == '*':\n",
    "            return dfs(i, j+1) or dfs(i+1, j)\n",
    "        else:\n",
    "            return False\n",
    "    \n",
    "    return dfs(0, 0)"
   ]
  },
  {
   "cell_type": "code",
   "execution_count": 29,
   "id": "af8a45ff-8409-40eb-bf0e-c60f42cef9de",
   "metadata": {},
   "outputs": [
    {
     "data": {
      "text/plain": [
       "False"
      ]
     },
     "execution_count": 29,
     "metadata": {},
     "output_type": "execute_result"
    }
   ],
   "source": [
    "s = \"cb\"\n",
    "p = \"*a\"\n",
    "isMatch(s, p)"
   ]
  },
  {
   "cell_type": "code",
   "execution_count": null,
   "id": "3e04158d-adc3-482e-91f7-acbe6596b329",
   "metadata": {},
   "outputs": [],
   "source": []
  }
 ],
 "metadata": {
  "kernelspec": {
   "display_name": "Python 3 (ipykernel)",
   "language": "python",
   "name": "python3"
  },
  "language_info": {
   "codemirror_mode": {
    "name": "ipython",
    "version": 3
   },
   "file_extension": ".py",
   "mimetype": "text/x-python",
   "name": "python",
   "nbconvert_exporter": "python",
   "pygments_lexer": "ipython3",
   "version": "3.10.11"
  }
 },
 "nbformat": 4,
 "nbformat_minor": 5
}
