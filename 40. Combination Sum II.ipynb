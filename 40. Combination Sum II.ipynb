{
 "cells": [
  {
   "cell_type": "code",
   "execution_count": 1,
   "id": "c8b9281d-5e07-4ba2-ac91-4f8d842e000a",
   "metadata": {},
   "outputs": [],
   "source": [
    "def combinationSum2(candidates, target):\n",
    "    res = []\n",
    "    length = len(candidates)-1\n",
    "    candidates.sort()\n",
    "\n",
    "    def make_combination(indx, comb, total):\n",
    "        if total==target:\n",
    "            res.append(comb[:])\n",
    "            return\n",
    "            \n",
    "        if total>target or indx>length:\n",
    "            return\n",
    "        \n",
    "        comb.append(candidates[indx])\n",
    "        make_combination(indx+1, comb, total+candidates[indx])\n",
    "        comb.pop()\n",
    "        while indx<length and candidates[indx]==candidates[indx+1]:\n",
    "            indx+=1\n",
    "        make_combination(indx+1, comb, total)\n",
    "\n",
    "    make_combination(0, [], 0)\n",
    "    return res"
   ]
  },
  {
   "cell_type": "code",
   "execution_count": 2,
   "id": "bd144a08-103b-481f-b4c6-1bccee73dfee",
   "metadata": {},
   "outputs": [
    {
     "data": {
      "text/plain": [
       "[[1, 1, 6], [1, 2, 5], [1, 7], [2, 6]]"
      ]
     },
     "execution_count": 2,
     "metadata": {},
     "output_type": "execute_result"
    }
   ],
   "source": [
    "candidates = [10,1,2,7,6,1,5]\n",
    "target = 8\n",
    "combinationSum2(candidates, target)"
   ]
  },
  {
   "cell_type": "code",
   "execution_count": null,
   "id": "69e0a3b7-762c-471c-9464-b602d4791e09",
   "metadata": {},
   "outputs": [],
   "source": []
  }
 ],
 "metadata": {
  "kernelspec": {
   "display_name": "Python 3 (ipykernel)",
   "language": "python",
   "name": "python3"
  },
  "language_info": {
   "codemirror_mode": {
    "name": "ipython",
    "version": 3
   },
   "file_extension": ".py",
   "mimetype": "text/x-python",
   "name": "python",
   "nbconvert_exporter": "python",
   "pygments_lexer": "ipython3",
   "version": "3.10.11"
  }
 },
 "nbformat": 4,
 "nbformat_minor": 5
}
