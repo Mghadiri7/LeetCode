{
 "cells": [
  {
   "cell_type": "markdown",
   "id": "c8bbe798-e65a-4003-8b60-c6dae7122032",
   "metadata": {},
   "source": [
    "## First Solution"
   ]
  },
  {
   "cell_type": "code",
   "execution_count": 1,
   "id": "ae0de9f8-9c53-4b2e-886d-a0171787c850",
   "metadata": {},
   "outputs": [],
   "source": [
    "def lengthOfLongestSubstring(s):\n",
    "    length = len(s)\n",
    "    longest = _len = 0\n",
    "    for i in range(length):\n",
    "        my_set = {s[i]}\n",
    "        _len = 1\n",
    "        for j in range(i+1, length):\n",
    "            if s[j] not in my_set:\n",
    "                my_set.add(s[j])\n",
    "                _len+=1\n",
    "                if len(my_set)>longest:\n",
    "                    longest = len(my_set)\n",
    "            else:\n",
    "                break\n",
    "    if _len>longest:\n",
    "        return _len\n",
    "    return longest"
   ]
  },
  {
   "cell_type": "code",
   "execution_count": 2,
   "id": "3082a53d-4546-4773-8c8c-c49b526598cc",
   "metadata": {},
   "outputs": [
    {
     "data": {
      "text/plain": [
       "2"
      ]
     },
     "execution_count": 2,
     "metadata": {},
     "output_type": "execute_result"
    }
   ],
   "source": [
    "s =\"bbbbba\"\n",
    "lengthOfLongestSubstring(s)"
   ]
  },
  {
   "cell_type": "markdown",
   "id": "fb2dbece-7030-46d9-9e90-6ab111b5820e",
   "metadata": {},
   "source": [
    "## Second Solution"
   ]
  },
  {
   "cell_type": "code",
   "execution_count": 9,
   "id": "7ecf0b9c-7e0c-482d-88ca-8aff91562f08",
   "metadata": {},
   "outputs": [],
   "source": [
    "def lengthOfLongestSubstring(s):\n",
    "    my_set = set()\n",
    "    i = j = 0\n",
    "    length = len(s)\n",
    "    _max = 0\n",
    "    while j<length:\n",
    "        val = s[j]\n",
    "        if val not in my_set:\n",
    "            my_set.add(val)\n",
    "            if _max<=j-i:\n",
    "                _max = j-i+1\n",
    "            j+=1\n",
    "        else:\n",
    "            my_set.remove(s[i])\n",
    "            i+=1\n",
    "    return _max"
   ]
  },
  {
   "cell_type": "code",
   "execution_count": 16,
   "id": "eba514cf-e332-40e8-bcc7-132dc9c6b893",
   "metadata": {},
   "outputs": [
    {
     "data": {
      "text/plain": [
       "3"
      ]
     },
     "execution_count": 16,
     "metadata": {},
     "output_type": "execute_result"
    }
   ],
   "source": [
    "s =\"baaabca\"\n",
    "lengthOfLongestSubstring(s)"
   ]
  },
  {
   "cell_type": "code",
   "execution_count": null,
   "id": "efa5cfe2-8d15-47bb-831e-5a0dc687e59b",
   "metadata": {},
   "outputs": [],
   "source": []
  }
 ],
 "metadata": {
  "kernelspec": {
   "display_name": "Python 3 (ipykernel)",
   "language": "python",
   "name": "python3"
  },
  "language_info": {
   "codemirror_mode": {
    "name": "ipython",
    "version": 3
   },
   "file_extension": ".py",
   "mimetype": "text/x-python",
   "name": "python",
   "nbconvert_exporter": "python",
   "pygments_lexer": "ipython3",
   "version": "3.10.11"
  }
 },
 "nbformat": 4,
 "nbformat_minor": 5
}
