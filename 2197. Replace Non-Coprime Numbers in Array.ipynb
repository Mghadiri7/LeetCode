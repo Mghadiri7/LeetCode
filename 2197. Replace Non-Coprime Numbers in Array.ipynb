{
 "cells": [
  {
   "cell_type": "code",
   "execution_count": 9,
   "id": "753de8d2-75da-4b8d-a1b3-e1f9b4ed4963",
   "metadata": {},
   "outputs": [],
   "source": [
    "import math\n",
    "\n",
    "def replaceNonCoprimes(nums):\n",
    "    i = 1\n",
    "    if len(nums)>1:\n",
    "        while i<len(nums):\n",
    "            if math.gcd(nums[i], nums[i-1])>1:\n",
    "                nums[i-1] = math.lcm(nums[i], nums[i-1])\n",
    "                nums.pop(i)\n",
    "                if i>1:\n",
    "                    i-=1\n",
    "            else:\n",
    "                i+=1\n",
    "    return nums"
   ]
  },
  {
   "cell_type": "code",
   "execution_count": 10,
   "id": "ed3558a2-5109-4522-9bba-193964800ab0",
   "metadata": {},
   "outputs": [
    {
     "data": {
      "text/plain": [
       "[12, 7, 6]"
      ]
     },
     "execution_count": 10,
     "metadata": {},
     "output_type": "execute_result"
    }
   ],
   "source": [
    "nums = [6,4,3,2,7,6,2]\n",
    "replaceNonCoprimes(nums)"
   ]
  },
  {
   "cell_type": "code",
   "execution_count": 11,
   "id": "b545d58d-b528-4873-b37b-45dadf1a56b6",
   "metadata": {},
   "outputs": [
    {
     "data": {
      "text/plain": [
       "[2009, 20677, 825]"
      ]
     },
     "execution_count": 11,
     "metadata": {},
     "output_type": "execute_result"
    }
   ],
   "source": [
    "nums = [287,41,49,287,899,23,23,20677,5,825]\n",
    "replaceNonCoprimes(nums)"
   ]
  },
  {
   "cell_type": "code",
   "execution_count": null,
   "id": "3dc30d68-f7aa-4ee6-b617-d2fdd4291eef",
   "metadata": {},
   "outputs": [],
   "source": []
  }
 ],
 "metadata": {
  "kernelspec": {
   "display_name": "Python 3 (ipykernel)",
   "language": "python",
   "name": "python3"
  },
  "language_info": {
   "codemirror_mode": {
    "name": "ipython",
    "version": 3
   },
   "file_extension": ".py",
   "mimetype": "text/x-python",
   "name": "python",
   "nbconvert_exporter": "python",
   "pygments_lexer": "ipython3",
   "version": "3.10.11"
  }
 },
 "nbformat": 4,
 "nbformat_minor": 5
}
