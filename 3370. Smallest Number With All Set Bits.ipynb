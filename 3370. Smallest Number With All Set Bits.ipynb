{
 "cells": [
  {
   "cell_type": "code",
   "execution_count": 1,
   "id": "3585315a-67dc-4bc7-9d44-ad0d32f4e3c7",
   "metadata": {},
   "outputs": [],
   "source": [
    "def smallestNumber(n):\n",
    "    for i in range(1, 11):\n",
    "        if 2**i-1 >= n:\n",
    "            return 2**i-1"
   ]
  },
  {
   "cell_type": "code",
   "execution_count": 2,
   "id": "123f7041-c917-4580-8688-8b502bcab273",
   "metadata": {},
   "outputs": [
    {
     "data": {
      "text/plain": [
       "7"
      ]
     },
     "execution_count": 2,
     "metadata": {},
     "output_type": "execute_result"
    }
   ],
   "source": [
    "n = 5\n",
    "smallestNumber(n)"
   ]
  },
  {
   "cell_type": "code",
   "execution_count": null,
   "id": "69327f31-a773-4506-bf5c-e1d737f1ce92",
   "metadata": {},
   "outputs": [],
   "source": []
  }
 ],
 "metadata": {
  "kernelspec": {
   "display_name": "Python 3 (ipykernel)",
   "language": "python",
   "name": "python3"
  },
  "language_info": {
   "codemirror_mode": {
    "name": "ipython",
    "version": 3
   },
   "file_extension": ".py",
   "mimetype": "text/x-python",
   "name": "python",
   "nbconvert_exporter": "python",
   "pygments_lexer": "ipython3",
   "version": "3.10.11"
  }
 },
 "nbformat": 4,
 "nbformat_minor": 5
}
