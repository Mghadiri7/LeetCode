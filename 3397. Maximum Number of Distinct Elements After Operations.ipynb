{
 "cells": [
  {
   "cell_type": "markdown",
   "id": "a338b63a-ab24-40a9-9f49-7b696326ad9e",
   "metadata": {},
   "source": [
    "## First Solution\n",
    "### Time Limit Exceeded"
   ]
  },
  {
   "cell_type": "code",
   "execution_count": 8,
   "id": "00b23087-4860-440e-9d95-7fc092ab952b",
   "metadata": {},
   "outputs": [],
   "source": [
    "def maxDistinctElements(nums, k):\n",
    "    nums.sort()\n",
    "    _dict = {}\n",
    "    for num in nums:\n",
    "        for i in range(-k, k+1, 1):\n",
    "            temp = num + i\n",
    "            if temp not in _dict:\n",
    "                _dict[temp]=1\n",
    "                break\n",
    "    return len(_dict)"
   ]
  },
  {
   "cell_type": "code",
   "execution_count": 9,
   "id": "576f88aa-5b09-4c3b-939f-f789b792ccfa",
   "metadata": {},
   "outputs": [
    {
     "data": {
      "text/plain": [
       "6"
      ]
     },
     "execution_count": 9,
     "metadata": {},
     "output_type": "execute_result"
    }
   ],
   "source": [
    "nums = [1,2,2,3,3,4]\n",
    "k = 2\n",
    "maxDistinctElements(nums, k)"
   ]
  },
  {
   "cell_type": "code",
   "execution_count": 10,
   "id": "398b8147-22d6-4045-9acf-8158bbbdf34c",
   "metadata": {},
   "outputs": [
    {
     "data": {
      "text/plain": [
       "3"
      ]
     },
     "execution_count": 10,
     "metadata": {},
     "output_type": "execute_result"
    }
   ],
   "source": [
    "nums = [4,4,4,4]\n",
    "k = 1\n",
    "maxDistinctElements(nums, k)"
   ]
  },
  {
   "cell_type": "markdown",
   "id": "e98bfee5-5880-44fc-b0bb-b75d1acf924f",
   "metadata": {},
   "source": [
    "## Second Solution\n",
    "### Without TLE"
   ]
  },
  {
   "cell_type": "code",
   "execution_count": 11,
   "id": "a6b0a7b5-2ee3-4ae7-ad2a-ad9f3b84288f",
   "metadata": {},
   "outputs": [],
   "source": [
    "def maxDistinctElements(nums, k):\n",
    "    nums.sort()\n",
    "    res = 0\n",
    "    prev = float('-inf')\n",
    "    for num in nums:\n",
    "        if max(num-k, prev+1) <= num+k:\n",
    "            prev = max(num-k, prev+1)\n",
    "            res+=1\n",
    "    return res"
   ]
  },
  {
   "cell_type": "code",
   "execution_count": 18,
   "id": "f9f8a737-8772-444c-b25a-309817bb4e16",
   "metadata": {},
   "outputs": [
    {
     "data": {
      "text/plain": [
       "6"
      ]
     },
     "execution_count": 18,
     "metadata": {},
     "output_type": "execute_result"
    }
   ],
   "source": [
    "nums = [1,2,2,3,3,4]\n",
    "k = 2\n",
    "maxDistinctElements(nums, k)"
   ]
  },
  {
   "cell_type": "code",
   "execution_count": null,
   "id": "c60aef47-44f9-4a29-8603-164ae07ce154",
   "metadata": {},
   "outputs": [],
   "source": []
  }
 ],
 "metadata": {
  "kernelspec": {
   "display_name": "Python 3 (ipykernel)",
   "language": "python",
   "name": "python3"
  },
  "language_info": {
   "codemirror_mode": {
    "name": "ipython",
    "version": 3
   },
   "file_extension": ".py",
   "mimetype": "text/x-python",
   "name": "python",
   "nbconvert_exporter": "python",
   "pygments_lexer": "ipython3",
   "version": "3.10.11"
  }
 },
 "nbformat": 4,
 "nbformat_minor": 5
}
