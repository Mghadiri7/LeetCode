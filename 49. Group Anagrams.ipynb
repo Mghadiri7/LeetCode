{
 "cells": [
  {
   "cell_type": "markdown",
   "id": "f968d94b-ba09-4962-a970-38dd7524bb2c",
   "metadata": {},
   "source": [
    "## First Solution"
   ]
  },
  {
   "cell_type": "code",
   "execution_count": 7,
   "id": "15497f31-692b-4118-813f-d693307abcd6",
   "metadata": {},
   "outputs": [],
   "source": [
    "def groupAnagrams(strs):\n",
    "    _dict = {}\n",
    "    for s in strs:\n",
    "        key = \"\".join(sorted(s))\n",
    "        if key not in _dict:\n",
    "            _dict[key] = []\n",
    "        _dict[key].append(s)\n",
    "    return list(_dict.values())"
   ]
  },
  {
   "cell_type": "code",
   "execution_count": 8,
   "id": "4faf1195-9b26-4eb8-b9bd-5c2f72b0c411",
   "metadata": {},
   "outputs": [
    {
     "data": {
      "text/plain": [
       "[['eat', 'tea', 'ate'], ['tan', 'nat'], ['bat']]"
      ]
     },
     "execution_count": 8,
     "metadata": {},
     "output_type": "execute_result"
    }
   ],
   "source": [
    "strs = [\"eat\",\"tea\",\"tan\",\"ate\",\"nat\",\"bat\"]\n",
    "groupAnagrams(strs)"
   ]
  },
  {
   "cell_type": "markdown",
   "id": "fcdde1e4-eb1f-4238-b6aa-29850764472c",
   "metadata": {},
   "source": [
    "## Second Solution"
   ]
  },
  {
   "cell_type": "code",
   "execution_count": 9,
   "id": "e34c8b21-bca3-4cba-8cc7-74a19f9a2cc3",
   "metadata": {},
   "outputs": [],
   "source": [
    "from collections import defaultdict\n",
    "\n",
    "def groupAnagrams(strs):\n",
    "    _dict = defaultdict(list)\n",
    "\n",
    "    for _str in strs:\n",
    "        lst = [0] * 26\n",
    "        for s in _str:\n",
    "            # ord(\"a\") is 97\n",
    "            lst[ord(s)-97]+=1\n",
    "        _dict[tuple(lst)].append(_str)\n",
    "    return list(_dict.values())"
   ]
  },
  {
   "cell_type": "code",
   "execution_count": 10,
   "id": "aa08168a-9f06-4cda-8566-114ca87013e2",
   "metadata": {},
   "outputs": [
    {
     "data": {
      "text/plain": [
       "[['eat', 'tea', 'ate'], ['tan', 'nat'], ['bat']]"
      ]
     },
     "execution_count": 10,
     "metadata": {},
     "output_type": "execute_result"
    }
   ],
   "source": [
    "strs = [\"eat\",\"tea\",\"tan\",\"ate\",\"nat\",\"bat\"]\n",
    "groupAnagrams(strs)"
   ]
  },
  {
   "cell_type": "code",
   "execution_count": null,
   "id": "388a66eb-5cdf-4f7d-9177-a573049672a0",
   "metadata": {},
   "outputs": [],
   "source": []
  }
 ],
 "metadata": {
  "kernelspec": {
   "display_name": "Python 3 (ipykernel)",
   "language": "python",
   "name": "python3"
  },
  "language_info": {
   "codemirror_mode": {
    "name": "ipython",
    "version": 3
   },
   "file_extension": ".py",
   "mimetype": "text/x-python",
   "name": "python",
   "nbconvert_exporter": "python",
   "pygments_lexer": "ipython3",
   "version": "3.10.11"
  }
 },
 "nbformat": 4,
 "nbformat_minor": 5
}
