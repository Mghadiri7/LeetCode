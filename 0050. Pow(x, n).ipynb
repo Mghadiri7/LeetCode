{
 "cells": [
  {
   "cell_type": "code",
   "execution_count": 2,
   "id": "bb6a58f8-eb01-4f89-8834-15fb3d7ae385",
   "metadata": {},
   "outputs": [],
   "source": [
    "def myPow(x, n):\n",
    "    def cal_pow(x, n):\n",
    "        if x==0:\n",
    "            return 0\n",
    "        if n==0:\n",
    "            return 1\n",
    "\n",
    "        res = cal_pow(x, n//2)\n",
    "        res*=res\n",
    "        if n%2==1:\n",
    "            res*=x\n",
    "        return res\n",
    "\n",
    "    ans = cal_pow(x, abs(n))\n",
    "    if n>0:\n",
    "        return ans\n",
    "        \n",
    "    return 1/ans"
   ]
  },
  {
   "cell_type": "code",
   "execution_count": 3,
   "id": "ec16592e-440e-4de3-b3e8-4432fae75203",
   "metadata": {},
   "outputs": [
    {
     "data": {
      "text/plain": [
       "9.261000000000001"
      ]
     },
     "execution_count": 3,
     "metadata": {},
     "output_type": "execute_result"
    }
   ],
   "source": [
    "x = 2.1\n",
    "n = 3\n",
    "myPow(x, n)"
   ]
  },
  {
   "cell_type": "code",
   "execution_count": null,
   "id": "a5c96e18-8506-4a49-a9ad-aea71b804853",
   "metadata": {},
   "outputs": [],
   "source": []
  }
 ],
 "metadata": {
  "kernelspec": {
   "display_name": "Python 3 (ipykernel)",
   "language": "python",
   "name": "python3"
  },
  "language_info": {
   "codemirror_mode": {
    "name": "ipython",
    "version": 3
   },
   "file_extension": ".py",
   "mimetype": "text/x-python",
   "name": "python",
   "nbconvert_exporter": "python",
   "pygments_lexer": "ipython3",
   "version": "3.10.11"
  }
 },
 "nbformat": 4,
 "nbformat_minor": 5
}
