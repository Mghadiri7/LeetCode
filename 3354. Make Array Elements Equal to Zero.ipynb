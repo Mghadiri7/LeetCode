{
 "cells": [
  {
   "cell_type": "code",
   "execution_count": 31,
   "id": "2a73d996-a3a9-46a1-b0d8-f310cf325d85",
   "metadata": {},
   "outputs": [],
   "source": [
    "def countValidSelections(nums):\n",
    "    n = len(nums)\n",
    "    ans = 0\n",
    "    for i in range(n):\n",
    "        if nums[i]==0:\n",
    "            res = sum(nums[:i])-sum(nums[i+1:])\n",
    "            if res==0:\n",
    "                ans+=2\n",
    "            elif res==1 or res==-1:\n",
    "                ans+=1\n",
    "    return ans"
   ]
  },
  {
   "cell_type": "code",
   "execution_count": 32,
   "id": "ee888d64-9d1c-41aa-ab0a-b5c8a9f5dc0c",
   "metadata": {},
   "outputs": [
    {
     "data": {
      "text/plain": [
       "2"
      ]
     },
     "execution_count": 32,
     "metadata": {},
     "output_type": "execute_result"
    }
   ],
   "source": [
    "nums = [1,0,2,0,3]\n",
    "countValidSelections(nums)"
   ]
  },
  {
   "cell_type": "code",
   "execution_count": 33,
   "id": "1d9221e8-760f-4ed2-b68f-6cc4871e2666",
   "metadata": {},
   "outputs": [
    {
     "data": {
      "text/plain": [
       "0"
      ]
     },
     "execution_count": 33,
     "metadata": {},
     "output_type": "execute_result"
    }
   ],
   "source": [
    "nums = [2,3,4,0,4,1,0]\n",
    "countValidSelections(nums)"
   ]
  },
  {
   "cell_type": "code",
   "execution_count": 34,
   "id": "2a8eada5-5da3-404b-b8dc-1a6eb38a38ed",
   "metadata": {},
   "outputs": [
    {
     "data": {
      "text/plain": [
       "3"
      ]
     },
     "execution_count": 34,
     "metadata": {},
     "output_type": "execute_result"
    }
   ],
   "source": [
    "nums = [16,13,10,0,0,0,10,6,7,8,7]\n",
    "countValidSelections(nums)"
   ]
  },
  {
   "cell_type": "code",
   "execution_count": 35,
   "id": "b1256793-b0d3-4913-b8d5-96be1c4e1714",
   "metadata": {},
   "outputs": [
    {
     "data": {
      "text/plain": [
       "2"
      ]
     },
     "execution_count": 35,
     "metadata": {},
     "output_type": "execute_result"
    }
   ],
   "source": [
    "nums = [0]\n",
    "countValidSelections(nums)"
   ]
  },
  {
   "cell_type": "code",
   "execution_count": null,
   "id": "8c31958e-28d4-43b2-9a64-a149204d7fd9",
   "metadata": {},
   "outputs": [],
   "source": []
  }
 ],
 "metadata": {
  "kernelspec": {
   "display_name": "Python 3 (ipykernel)",
   "language": "python",
   "name": "python3"
  },
  "language_info": {
   "codemirror_mode": {
    "name": "ipython",
    "version": 3
   },
   "file_extension": ".py",
   "mimetype": "text/x-python",
   "name": "python",
   "nbconvert_exporter": "python",
   "pygments_lexer": "ipython3",
   "version": "3.10.11"
  }
 },
 "nbformat": 4,
 "nbformat_minor": 5
}
