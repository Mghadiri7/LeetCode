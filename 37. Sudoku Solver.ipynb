{
 "cells": [
  {
   "cell_type": "markdown",
   "id": "9e2a3882-81fa-4bc1-883e-3f94863e9c8f",
   "metadata": {},
   "source": [
    "## First Solution\n",
    "### Time Limit Exceeded on LeetCode"
   ]
  },
  {
   "cell_type": "code",
   "execution_count": 5,
   "id": "92506d0c-2ec9-480e-a8cd-0db7c2955a89",
   "metadata": {},
   "outputs": [],
   "source": [
    "def solveSudoku(board):\n",
    "    grid = []\n",
    "    for row in board:\n",
    "        lst = [int(col) if col!=\".\" else 0 for col in row]\n",
    "        grid.append(lst)\n",
    "\n",
    "    def valid_move(grid, row, column, number):\n",
    "        if number in grid[row]:\n",
    "            return False\n",
    "    \n",
    "        for i in range(9):\n",
    "            if grid[i][column] == number:\n",
    "                return False\n",
    "    \n",
    "        top_left_corner_row = row - (row % 3)\n",
    "        top_left_corner_column = column - (column % 3)\n",
    "        for x in range(3):\n",
    "            for y in range(3):\n",
    "                if grid[top_left_corner_row + x][top_left_corner_column +y] == number:\n",
    "                    return False\n",
    "        return True\n",
    "\n",
    "    def solving(grid, row, column):\n",
    "        if column == 9:\n",
    "            if row == 8:\n",
    "                return True\n",
    "            else:\n",
    "                row+=1\n",
    "                column = 0\n",
    "    \n",
    "        if grid[row][column]>0:\n",
    "            return solving(grid, row, column+1)\n",
    "    \n",
    "        for number in range(1, 10):\n",
    "            if valid_move(grid, row , column, number):\n",
    "                grid[row][column]=number\n",
    "                \n",
    "                if solving(grid, row, column+1):\n",
    "                    return True\n",
    "            grid[row][column]=0\n",
    "    \n",
    "        return False\n",
    "\n",
    "    solving(grid, 0, 0)\n",
    "    board = []\n",
    "    for row in grid:\n",
    "        lst = [str(col) for col in row]\n",
    "        board.append(lst)\n",
    "    # print(board)"
   ]
  },
  {
   "cell_type": "code",
   "execution_count": 6,
   "id": "973cbe6a-19d4-45d8-b186-f43aa81af0e3",
   "metadata": {},
   "outputs": [
    {
     "name": "stdout",
     "output_type": "stream",
     "text": [
      "[['5', '3', '4', '6', '7', '8', '9', '1', '2'], ['6', '7', '2', '1', '9', '5', '3', '4', '8'], ['1', '9', '8', '3', '4', '2', '5', '6', '7'], ['8', '5', '9', '7', '6', '1', '4', '2', '3'], ['4', '2', '6', '8', '5', '3', '7', '9', '1'], ['7', '1', '3', '9', '2', '4', '8', '5', '6'], ['9', '6', '1', '5', '3', '7', '2', '8', '4'], ['2', '8', '7', '4', '1', '9', '6', '3', '5'], ['3', '4', '5', '2', '8', '6', '1', '7', '9']]\n"
     ]
    }
   ],
   "source": [
    "board = [[\"5\",\"3\",\".\",\".\",\"7\",\".\",\".\",\".\",\".\"],\n",
    "         [\"6\",\".\",\".\",\"1\",\"9\",\"5\",\".\",\".\",\".\"],\n",
    "         [\".\",\"9\",\"8\",\".\",\".\",\".\",\".\",\"6\",\".\"],\n",
    "         [\"8\",\".\",\".\",\".\",\"6\",\".\",\".\",\".\",\"3\"],\n",
    "         [\"4\",\".\",\".\",\"8\",\".\",\"3\",\".\",\".\",\"1\"],\n",
    "         [\"7\",\".\",\".\",\".\",\"2\",\".\",\".\",\".\",\"6\"],\n",
    "         [\".\",\"6\",\".\",\".\",\".\",\".\",\"2\",\"8\",\".\"],\n",
    "         [\".\",\".\",\".\",\"4\",\"1\",\"9\",\".\",\".\",\"5\"],\n",
    "         [\".\",\".\",\".\",\".\",\"8\",\".\",\".\",\"7\",\"9\"]]\n",
    "\n",
    "solveSudoku(board)"
   ]
  },
  {
   "cell_type": "code",
   "execution_count": 9,
   "id": "14c5fb20-f982-434c-bb94-cf5e09db500b",
   "metadata": {},
   "outputs": [
    {
     "name": "stdout",
     "output_type": "stream",
     "text": [
      "[['7', '2', '1', '8', '5', '3', '9', '4', '6'], ['4', '9', '5', '6', '1', '7', '8', '3', '2'], ['8', '3', '6', '4', '2', '9', '7', '5', '1'], ['9', '6', '7', '3', '8', '4', '1', '2', '5'], ['2', '1', '4', '7', '6', '5', '3', '9', '8'], ['3', '5', '8', '2', '9', '1', '6', '7', '4'], ['1', '7', '2', '5', '3', '6', '4', '8', '9'], ['6', '8', '3', '9', '4', '2', '5', '1', '7'], ['5', '4', '9', '1', '7', '8', '2', '6', '3']]\n"
     ]
    }
   ],
   "source": [
    "board = [[\".\",\".\",\".\",\".\",\".\",\".\",\".\",\".\",\".\"],\n",
    "         [\".\",\"9\",\".\",\".\",\"1\",\".\",\".\",\"3\",\".\"],\n",
    "         [\".\",\".\",\"6\",\".\",\"2\",\".\",\"7\",\".\",\".\"],\n",
    "         [\".\",\".\",\".\",\"3\",\".\",\"4\",\".\",\".\",\".\"],\n",
    "         [\"2\",\"1\",\".\",\".\",\".\",\".\",\".\",\"9\",\"8\"],\n",
    "         [\".\",\".\",\".\",\".\",\".\",\".\",\".\",\".\",\".\"],\n",
    "         [\".\",\".\",\"2\",\"5\",\".\",\"6\",\"4\",\".\",\".\"],\n",
    "         [\".\",\"8\",\".\",\".\",\".\",\".\",\".\",\"1\",\".\"],\n",
    "         [\".\",\".\",\".\",\".\",\".\",\".\",\".\",\".\",\".\"]]\n",
    "\n",
    "solveSudoku(board)"
   ]
  },
  {
   "cell_type": "markdown",
   "id": "c0df111f-90d3-4c35-aa0b-f3fbb9fce75b",
   "metadata": {},
   "source": [
    "## Second Solution\n",
    "### Without TLE"
   ]
  },
  {
   "cell_type": "code",
   "execution_count": 12,
   "id": "fb28bb72-249d-4e73-83d6-28df7ef57fd1",
   "metadata": {},
   "outputs": [],
   "source": [
    "def solveSudoku(board):\n",
    "    rows = [set() for _ in range(9)]\n",
    "    cols = [set() for _ in range(9)]\n",
    "    boxes = [set() for _ in range(9)]\n",
    "\n",
    "    for r in range(9):\n",
    "        for c in range(9):\n",
    "            val = board[r][c]\n",
    "            if val != \".\":\n",
    "                rows[r].add(val)\n",
    "                cols[c].add(val)\n",
    "                boxes[(r // 3) * 3 + (c // 3)].add(val)\n",
    "\n",
    "    def solving(r, c):\n",
    "        if r == 9:\n",
    "            return True\n",
    "        if c == 9:\n",
    "            return solving(r + 1, 0)\n",
    "        if board[r][c] != \".\":\n",
    "            return solving(r, c + 1)\n",
    "\n",
    "        for num in map(str, range(1, 10)):\n",
    "            box_id = (r // 3) * 3 + (c // 3)\n",
    "            if num not in rows[r] and num not in cols[c] and num not in boxes[box_id]:\n",
    "                board[r][c] = num\n",
    "                rows[r].add(num)\n",
    "                cols[c].add(num)\n",
    "                boxes[box_id].add(num)\n",
    "\n",
    "                if solving(r, c + 1):\n",
    "                    return True\n",
    "\n",
    "                # backtrack\n",
    "                board[r][c] = \".\"\n",
    "                rows[r].remove(num)\n",
    "                cols[c].remove(num)\n",
    "                boxes[box_id].remove(num)\n",
    "        return False\n",
    "\n",
    "    solving(0, 0)\n",
    "    print(board)"
   ]
  },
  {
   "cell_type": "code",
   "execution_count": 13,
   "id": "98e33e8b-6352-4a55-ab51-7c3d622def90",
   "metadata": {},
   "outputs": [
    {
     "name": "stdout",
     "output_type": "stream",
     "text": [
      "[['7', '2', '1', '8', '5', '3', '9', '4', '6'], ['4', '9', '5', '6', '1', '7', '8', '3', '2'], ['8', '3', '6', '4', '2', '9', '7', '5', '1'], ['9', '6', '7', '3', '8', '4', '1', '2', '5'], ['2', '1', '4', '7', '6', '5', '3', '9', '8'], ['3', '5', '8', '2', '9', '1', '6', '7', '4'], ['1', '7', '2', '5', '3', '6', '4', '8', '9'], ['6', '8', '3', '9', '4', '2', '5', '1', '7'], ['5', '4', '9', '1', '7', '8', '2', '6', '3']]\n"
     ]
    }
   ],
   "source": [
    "board = [[\".\",\".\",\".\",\".\",\".\",\".\",\".\",\".\",\".\"],\n",
    "         [\".\",\"9\",\".\",\".\",\"1\",\".\",\".\",\"3\",\".\"],\n",
    "         [\".\",\".\",\"6\",\".\",\"2\",\".\",\"7\",\".\",\".\"],\n",
    "         [\".\",\".\",\".\",\"3\",\".\",\"4\",\".\",\".\",\".\"],\n",
    "         [\"2\",\"1\",\".\",\".\",\".\",\".\",\".\",\"9\",\"8\"],\n",
    "         [\".\",\".\",\".\",\".\",\".\",\".\",\".\",\".\",\".\"],\n",
    "         [\".\",\".\",\"2\",\"5\",\".\",\"6\",\"4\",\".\",\".\"],\n",
    "         [\".\",\"8\",\".\",\".\",\".\",\".\",\".\",\"1\",\".\"],\n",
    "         [\".\",\".\",\".\",\".\",\".\",\".\",\".\",\".\",\".\"]]\n",
    "\n",
    "solveSudoku(board)"
   ]
  },
  {
   "cell_type": "code",
   "execution_count": null,
   "id": "1bd132c2-f3a4-435b-9cc9-43e4493bd089",
   "metadata": {},
   "outputs": [],
   "source": []
  }
 ],
 "metadata": {
  "kernelspec": {
   "display_name": "Python 3 (ipykernel)",
   "language": "python",
   "name": "python3"
  },
  "language_info": {
   "codemirror_mode": {
    "name": "ipython",
    "version": 3
   },
   "file_extension": ".py",
   "mimetype": "text/x-python",
   "name": "python",
   "nbconvert_exporter": "python",
   "pygments_lexer": "ipython3",
   "version": "3.10.11"
  }
 },
 "nbformat": 4,
 "nbformat_minor": 5
}
