{
 "cells": [
  {
   "cell_type": "code",
   "execution_count": 16,
   "id": "57a5a9df-d013-4531-aa8c-61a70d9d280c",
   "metadata": {},
   "outputs": [],
   "source": [
    "def trap(height):\n",
    "    left = 0\n",
    "    rigth = len(height)-1\n",
    "    h_left = height[0]\n",
    "    h_right = height[-1]\n",
    "    _sum = 0\n",
    "    while left<rigth:\n",
    "        level = min(h_left, h_right)\n",
    "        if h_left<=h_right:\n",
    "            left+=1\n",
    "            if height[left]<level:\n",
    "                _sum += level-height[left]\n",
    "            else:\n",
    "                h_left = height[left]\n",
    "        else:\n",
    "            rigth-=1\n",
    "            if height[rigth]<level:\n",
    "                _sum += level-height[rigth]\n",
    "            else:\n",
    "                h_right = height[rigth]\n",
    "    return _sum"
   ]
  },
  {
   "cell_type": "code",
   "execution_count": 17,
   "id": "8aa12574-b550-482f-84bb-ae31ca9a790f",
   "metadata": {},
   "outputs": [
    {
     "data": {
      "text/plain": [
       "6"
      ]
     },
     "execution_count": 17,
     "metadata": {},
     "output_type": "execute_result"
    }
   ],
   "source": [
    "height = [0,1,0,2,1,0,1,3,2,1,2,1]\n",
    "trap(height)"
   ]
  },
  {
   "cell_type": "code",
   "execution_count": null,
   "id": "7c74053a-38ba-4d28-8d0e-3cdd9548b535",
   "metadata": {},
   "outputs": [],
   "source": []
  }
 ],
 "metadata": {
  "kernelspec": {
   "display_name": "Python 3 (ipykernel)",
   "language": "python",
   "name": "python3"
  },
  "language_info": {
   "codemirror_mode": {
    "name": "ipython",
    "version": 3
   },
   "file_extension": ".py",
   "mimetype": "text/x-python",
   "name": "python",
   "nbconvert_exporter": "python",
   "pygments_lexer": "ipython3",
   "version": "3.10.11"
  }
 },
 "nbformat": 4,
 "nbformat_minor": 5
}
