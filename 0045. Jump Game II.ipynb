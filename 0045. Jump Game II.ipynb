{
 "cells": [
  {
   "cell_type": "code",
   "execution_count": 7,
   "id": "c7ff56fb-9d8b-4b73-9cee-4dd57a360385",
   "metadata": {},
   "outputs": [],
   "source": [
    "def jump(nums):\n",
    "    n = len(nums)-1\n",
    "    end, farthest, jump = 0, 0, 0\n",
    "    for i in range(n):\n",
    "        farthest = max(farthest, nums[i]+i)\n",
    "        if end==i:\n",
    "            jump+=1\n",
    "            end = farthest\n",
    "    return jump"
   ]
  },
  {
   "cell_type": "code",
   "execution_count": 8,
   "id": "eeb76d12-b5fc-4d64-90ba-a69407b8325e",
   "metadata": {},
   "outputs": [
    {
     "data": {
      "text/plain": [
       "2"
      ]
     },
     "execution_count": 8,
     "metadata": {},
     "output_type": "execute_result"
    }
   ],
   "source": [
    "nums = [2,3,1,1,4]\n",
    "jump(nums)"
   ]
  },
  {
   "cell_type": "code",
   "execution_count": null,
   "id": "021177e9-d172-4831-ba3c-3c9468e6c287",
   "metadata": {},
   "outputs": [],
   "source": []
  }
 ],
 "metadata": {
  "kernelspec": {
   "display_name": "Python 3 (ipykernel)",
   "language": "python",
   "name": "python3"
  },
  "language_info": {
   "codemirror_mode": {
    "name": "ipython",
    "version": 3
   },
   "file_extension": ".py",
   "mimetype": "text/x-python",
   "name": "python",
   "nbconvert_exporter": "python",
   "pygments_lexer": "ipython3",
   "version": "3.10.11"
  }
 },
 "nbformat": 4,
 "nbformat_minor": 5
}
