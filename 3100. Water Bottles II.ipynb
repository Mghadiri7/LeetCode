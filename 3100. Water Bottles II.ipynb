{
 "cells": [
  {
   "cell_type": "code",
   "execution_count": 1,
   "id": "78f5f47a-df98-49e4-952f-1a459db82be3",
   "metadata": {},
   "outputs": [],
   "source": [
    "def maxBottlesDrunk(numBottles, numExchange):\n",
    "    counter = numBottles\n",
    "    while numBottles>=numExchange:\n",
    "        counter+=1\n",
    "        numBottles-=numExchange-1\n",
    "        numExchange+=1\n",
    "    return counter"
   ]
  },
  {
   "cell_type": "code",
   "execution_count": 2,
   "id": "22fcf0b6-14b2-4fe6-ab48-f075c36e72da",
   "metadata": {},
   "outputs": [
    {
     "data": {
      "text/plain": [
       "15"
      ]
     },
     "execution_count": 2,
     "metadata": {},
     "output_type": "execute_result"
    }
   ],
   "source": [
    "numBottles = 13\n",
    "numExchange = 6\n",
    "maxBottlesDrunk(numBottles, numExchange)"
   ]
  },
  {
   "cell_type": "code",
   "execution_count": 3,
   "id": "d4ea7330-6c25-48f1-b22a-117e8b9fd33d",
   "metadata": {},
   "outputs": [
    {
     "data": {
      "text/plain": [
       "13"
      ]
     },
     "execution_count": 3,
     "metadata": {},
     "output_type": "execute_result"
    }
   ],
   "source": [
    "numBottles = 10\n",
    "numExchange = 3\n",
    "maxBottlesDrunk(numBottles, numExchange)"
   ]
  },
  {
   "cell_type": "code",
   "execution_count": null,
   "id": "639e4a3c-91b6-4260-b123-d2f8900faff0",
   "metadata": {},
   "outputs": [],
   "source": []
  }
 ],
 "metadata": {
  "kernelspec": {
   "display_name": "Python 3 (ipykernel)",
   "language": "python",
   "name": "python3"
  },
  "language_info": {
   "codemirror_mode": {
    "name": "ipython",
    "version": 3
   },
   "file_extension": ".py",
   "mimetype": "text/x-python",
   "name": "python",
   "nbconvert_exporter": "python",
   "pygments_lexer": "ipython3",
   "version": "3.10.11"
  }
 },
 "nbformat": 4,
 "nbformat_minor": 5
}
