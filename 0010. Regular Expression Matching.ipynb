{
 "cells": [
  {
   "cell_type": "markdown",
   "id": "26dbe866-43af-46c5-be90-0063731f82a2",
   "metadata": {},
   "source": [
    "## First Solution"
   ]
  },
  {
   "cell_type": "code",
   "execution_count": 4,
   "id": "d72e091e-935f-413a-97ab-0b5fefe3481a",
   "metadata": {},
   "outputs": [],
   "source": [
    "def isMatch(s, p):\n",
    "    def dts(sp, pp):\n",
    "        if sp>=len(s) and pp>=len(p):\n",
    "            return True\n",
    "        if pp>=len(p):\n",
    "            return False\n",
    "        match = sp<len(s) and (s[sp]==p[pp] or p[pp]=='.')\n",
    "        if pp+1<len(p) and p[pp+1]=='*':\n",
    "            return dts(sp, pp+2) or (match and dts(sp+1, pp))\n",
    "        if match:\n",
    "            return dts(sp+1, pp+1)\n",
    "        return False\n",
    "\n",
    "    return dts(0,0)"
   ]
  },
  {
   "cell_type": "code",
   "execution_count": 5,
   "id": "fdd25e78-ace0-4100-8c30-94214fb6221d",
   "metadata": {},
   "outputs": [
    {
     "data": {
      "text/plain": [
       "True"
      ]
     },
     "execution_count": 5,
     "metadata": {},
     "output_type": "execute_result"
    }
   ],
   "source": [
    "s = \"aa\"\n",
    "p = \"a*\"\n",
    "isMatch(s, p)"
   ]
  },
  {
   "cell_type": "markdown",
   "id": "63ef003e-10b1-4006-9918-40e508b4cccd",
   "metadata": {},
   "source": [
    "## Second Solution"
   ]
  },
  {
   "cell_type": "code",
   "execution_count": 6,
   "id": "e37db3d9-8664-4c41-9fdb-c00efb06ee6e",
   "metadata": {},
   "outputs": [],
   "source": [
    "def isMatch(s, p):\n",
    "    cache = {}\n",
    "    def dts(sp, pp):\n",
    "        if (sp, pp) in cache:\n",
    "            return cache[(sp, pp)]\n",
    "        if sp>=len(s) and pp>=len(p):\n",
    "            return True\n",
    "        if pp>=len(p):\n",
    "            return False\n",
    "        match = sp<len(s) and (s[sp]==p[pp] or p[pp]=='.')\n",
    "        if pp+1<len(p) and p[pp+1]=='*':\n",
    "            cache[(sp, pp)] = dts(sp, pp+2) or (match and dts(sp+1, pp))\n",
    "            return cache[(sp, pp)]\n",
    "        if match:\n",
    "            cache[(sp, pp)] = dts(sp+1, pp+1)\n",
    "            return cache[(sp, pp)]\n",
    "        cache[(sp, pp)] = False\n",
    "        return cache[(sp, pp)]\n",
    "\n",
    "    return dts(0,0)"
   ]
  },
  {
   "cell_type": "code",
   "execution_count": 7,
   "id": "f03b2e60-68d6-4c2a-ab5d-4ae89744fb88",
   "metadata": {},
   "outputs": [
    {
     "data": {
      "text/plain": [
       "True"
      ]
     },
     "execution_count": 7,
     "metadata": {},
     "output_type": "execute_result"
    }
   ],
   "source": [
    "s = \"ab\"\n",
    "p = \".*\"\n",
    "isMatch(s, p)"
   ]
  },
  {
   "cell_type": "markdown",
   "id": "7a4d4245-d079-4719-acf7-456f66fafc84",
   "metadata": {},
   "source": [
    "## Third Solution"
   ]
  },
  {
   "cell_type": "code",
   "execution_count": 8,
   "id": "908f3f30-9795-4497-b7e4-2e3746785fb6",
   "metadata": {},
   "outputs": [],
   "source": [
    "from functools import cache, lru_cache"
   ]
  },
  {
   "cell_type": "code",
   "execution_count": 9,
   "id": "db861b57-8ed6-49a3-9428-be00cb038386",
   "metadata": {},
   "outputs": [],
   "source": [
    "def isMatch(s, p):\n",
    "    @cache\n",
    "    def dts(sp, pp):\n",
    "        if sp>=len(s) and pp>=len(p):\n",
    "            return True\n",
    "        if pp>=len(p):\n",
    "            return False\n",
    "        match = sp<len(s) and (s[sp]==p[pp] or p[pp]=='.')\n",
    "        if pp+1<len(p) and p[pp+1]=='*':\n",
    "            return dts(sp, pp+2) or (match and dts(sp+1, pp))\n",
    "        if match:\n",
    "            return dts(sp+1, pp+1)\n",
    "        return False\n",
    "\n",
    "    return dts(0,0)"
   ]
  },
  {
   "cell_type": "code",
   "execution_count": 10,
   "id": "e7ba89a1-8dd4-464b-83d5-126e5c5c3ee1",
   "metadata": {},
   "outputs": [
    {
     "data": {
      "text/plain": [
       "False"
      ]
     },
     "execution_count": 10,
     "metadata": {},
     "output_type": "execute_result"
    }
   ],
   "source": [
    "s = \"aab\"\n",
    "p = \"a*a*c\"\n",
    "isMatch(s, p)"
   ]
  }
 ],
 "metadata": {
  "kernelspec": {
   "display_name": "Python 3 (ipykernel)",
   "language": "python",
   "name": "python3"
  },
  "language_info": {
   "codemirror_mode": {
    "name": "ipython",
    "version": 3
   },
   "file_extension": ".py",
   "mimetype": "text/x-python",
   "name": "python",
   "nbconvert_exporter": "python",
   "pygments_lexer": "ipython3",
   "version": "3.10.11"
  }
 },
 "nbformat": 4,
 "nbformat_minor": 5
}
