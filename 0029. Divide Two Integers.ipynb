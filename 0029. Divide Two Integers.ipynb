{
 "cells": [
  {
   "cell_type": "markdown",
   "id": "38aab7db-a6e4-40c6-9d76-cb485893dee4",
   "metadata": {},
   "source": [
    "## First Solution"
   ]
  },
  {
   "cell_type": "code",
   "execution_count": 17,
   "id": "cdd042ca-7ec0-4025-8a40-e536c7757ddb",
   "metadata": {},
   "outputs": [],
   "source": [
    "def divide(dividend, divisor):\n",
    "    d = abs(dividend)\n",
    "    dv = abs(divisor)\n",
    "    q = 0\n",
    "    if dv!=1 or dv!=-1:\n",
    "        while d>dv:\n",
    "            d-=dv\n",
    "            q+=1\n",
    "    else:\n",
    "        q = d\n",
    "    if (dividend>0 and divisor<0) or (dividend<0 and divisor>0):\n",
    "        q = -q\n",
    "    _max = 2**31-1\n",
    "    _min = -(2**31)\n",
    "    if q>_max:\n",
    "        return _max\n",
    "    elif q<_min:\n",
    "        return _min\n",
    "    else:\n",
    "        return q"
   ]
  },
  {
   "cell_type": "code",
   "execution_count": 18,
   "id": "631b436b-4a89-4919-b8dc-c5067d521d77",
   "metadata": {},
   "outputs": [
    {
     "data": {
      "text/plain": [
       "3"
      ]
     },
     "execution_count": 18,
     "metadata": {},
     "output_type": "execute_result"
    }
   ],
   "source": [
    "dividend = 10\n",
    "divisor = 3\n",
    "divide(dividend, divisor)"
   ]
  },
  {
   "cell_type": "markdown",
   "id": "68e7ea54-f2f2-4f3c-b81f-aa24301cce56",
   "metadata": {},
   "source": [
    "## Second Solution"
   ]
  },
  {
   "cell_type": "code",
   "execution_count": 19,
   "id": "8d50ac34-9851-47fb-88aa-f8ce6132f5d9",
   "metadata": {},
   "outputs": [],
   "source": [
    "def divide(dividend, divisor):\n",
    "    d = abs(dividend)\n",
    "    dv = abs(divisor)\n",
    "    q = 0\n",
    "    while d>=dv:\n",
    "        temp = dv\n",
    "        mul = 1\n",
    "        while d>=temp:\n",
    "            d-=temp\n",
    "            q+=mul\n",
    "            mul+=mul\n",
    "            temp+=temp\n",
    "    if (dividend>0 and divisor<0) or (dividend<0 and divisor>0):\n",
    "        q = -q\n",
    "    _max = 2**31-1\n",
    "    _min = -2**31\n",
    "    if q>_max:\n",
    "        return _max\n",
    "    elif q<_min:\n",
    "        return _min\n",
    "    else:\n",
    "        return q"
   ]
  },
  {
   "cell_type": "code",
   "execution_count": 20,
   "id": "251f2670-30ad-4cc7-be4c-2b4c6d53f841",
   "metadata": {},
   "outputs": [
    {
     "data": {
      "text/plain": [
       "-2"
      ]
     },
     "execution_count": 20,
     "metadata": {},
     "output_type": "execute_result"
    }
   ],
   "source": [
    "dividend = 7\n",
    "divisor = -3\n",
    "divide(dividend, divisor)"
   ]
  },
  {
   "cell_type": "code",
   "execution_count": null,
   "id": "8a8390f4-0b77-4946-979e-3d03098d1e62",
   "metadata": {},
   "outputs": [],
   "source": []
  }
 ],
 "metadata": {
  "kernelspec": {
   "display_name": "Python 3 (ipykernel)",
   "language": "python",
   "name": "python3"
  },
  "language_info": {
   "codemirror_mode": {
    "name": "ipython",
    "version": 3
   },
   "file_extension": ".py",
   "mimetype": "text/x-python",
   "name": "python",
   "nbconvert_exporter": "python",
   "pygments_lexer": "ipython3",
   "version": "3.10.11"
  }
 },
 "nbformat": 4,
 "nbformat_minor": 5
}
