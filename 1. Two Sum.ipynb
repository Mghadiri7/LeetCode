{
 "cells": [
  {
   "cell_type": "markdown",
   "id": "c4f3b60e-c1be-44e7-8b09-b4ce201dfbb5",
   "metadata": {},
   "source": [
    "## First Solution"
   ]
  },
  {
   "cell_type": "code",
   "execution_count": 1,
   "id": "d384251f-1334-4c79-b870-c1dcc856db55",
   "metadata": {},
   "outputs": [],
   "source": [
    "def twoSum1(nums, target):\n",
    "    lst = sorted(nums)\n",
    "    i = 0\n",
    "    j = len(nums)-1\n",
    "    while i<j:\n",
    "        if lst[i]+lst[j]==target:\n",
    "            temp = []\n",
    "            for index, number in enumerate(nums):\n",
    "                if number==lst[i] or number==lst[j]:\n",
    "                    temp.append(index)\n",
    "                if len(temp)==2:\n",
    "                    return temp\n",
    "        elif lst[i]+lst[j]>target:\n",
    "            j-=1\n",
    "        else:\n",
    "            i+=1\n",
    "    else:\n",
    "        print(\"There is no answer!\")"
   ]
  },
  {
   "cell_type": "code",
   "execution_count": 2,
   "id": "43eabaf0-ba0e-430f-b50e-9678652c56fc",
   "metadata": {},
   "outputs": [
    {
     "name": "stdout",
     "output_type": "stream",
     "text": [
      "[1, 2]\n",
      "[0, 1]\n",
      "[0, 1]\n"
     ]
    }
   ],
   "source": [
    "_list = [3,2,4]\n",
    "print(twoSum1(_list, 6))\n",
    "_list = [3,3]\n",
    "print(twoSum1(_list, 6))\n",
    "_list = [2,7,11,15]\n",
    "print(twoSum1(_list, 9))"
   ]
  },
  {
   "cell_type": "code",
   "execution_count": 3,
   "id": "cbd0a3f6-acb7-47b4-8d99-e991cd758e98",
   "metadata": {},
   "outputs": [
    {
     "name": "stdout",
     "output_type": "stream",
     "text": [
      "1.44 μs ± 11.6 ns per loop (mean ± std. dev. of 7 runs, 1,000,000 loops each)\n"
     ]
    }
   ],
   "source": [
    "%timeit twoSum1(_list, 9)"
   ]
  },
  {
   "cell_type": "markdown",
   "id": "b6ce8204-b589-4832-9740-d234c4146be3",
   "metadata": {},
   "source": [
    "## Second Solution"
   ]
  },
  {
   "cell_type": "code",
   "execution_count": 7,
   "id": "cf69d3f5-a831-4afb-9c99-c0e34f7fc1cb",
   "metadata": {},
   "outputs": [],
   "source": [
    "def twoSum2(nums, target):\n",
    "    _dic = {}\n",
    "    for index, num in enumerate(nums):\n",
    "        val = target-num\n",
    "        if val in _dic:\n",
    "            return [_dic[val],index]\n",
    "        _dic[num] = index"
   ]
  },
  {
   "cell_type": "code",
   "execution_count": 8,
   "id": "82baa430-dfbb-4b4f-b91a-189c969a7ca0",
   "metadata": {},
   "outputs": [
    {
     "name": "stdout",
     "output_type": "stream",
     "text": [
      "[1, 2]\n",
      "[0, 1]\n",
      "[0, 1]\n"
     ]
    }
   ],
   "source": [
    "_list = [3,2,4]\n",
    "print(twoSum2(_list, 6))\n",
    "_list = [3,3]\n",
    "print(twoSum2(_list, 6))\n",
    "_list = [2,7,11,15]\n",
    "print(twoSum2(_list, 9))"
   ]
  },
  {
   "cell_type": "code",
   "execution_count": 9,
   "id": "f30a269c-9ce2-4aa6-83f5-46dbea8c843b",
   "metadata": {},
   "outputs": [
    {
     "name": "stdout",
     "output_type": "stream",
     "text": [
      "586 ns ± 8.6 ns per loop (mean ± std. dev. of 7 runs, 1,000,000 loops each)\n"
     ]
    }
   ],
   "source": [
    "%timeit twoSum2(_list, 9)"
   ]
  },
  {
   "cell_type": "code",
   "execution_count": null,
   "id": "16fe84ac-ff17-4f59-bdda-a4e461d1666c",
   "metadata": {},
   "outputs": [],
   "source": []
  }
 ],
 "metadata": {
  "kernelspec": {
   "display_name": "Python 3 (ipykernel)",
   "language": "python",
   "name": "python3"
  },
  "language_info": {
   "codemirror_mode": {
    "name": "ipython",
    "version": 3
   },
   "file_extension": ".py",
   "mimetype": "text/x-python",
   "name": "python",
   "nbconvert_exporter": "python",
   "pygments_lexer": "ipython3",
   "version": "3.10.11"
  }
 },
 "nbformat": 4,
 "nbformat_minor": 5
}
