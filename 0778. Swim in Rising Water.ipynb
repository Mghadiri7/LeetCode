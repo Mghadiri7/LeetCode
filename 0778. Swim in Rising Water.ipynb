{
 "cells": [
  {
   "cell_type": "code",
   "execution_count": 13,
   "id": "70b81957-1f0d-4c42-bc1f-ed215786f519",
   "metadata": {},
   "outputs": [],
   "source": [
    "from heapq import heapify, heappop, heappush\n",
    "\n",
    "def swimInWater(grid):\n",
    "    n, m = len(grid), len(grid[0])\n",
    "    pq = [(grid[0][0], 0, 0)]\n",
    "    heapify(pq)\n",
    "    _dir = [(0,1), (1,0), (-1,0), (0,-1)]\n",
    "    seen = set()\n",
    "\n",
    "    while pq:\n",
    "        _max, r, c = heappop(pq)\n",
    "        if (r,c) in seen:\n",
    "            continue\n",
    "        seen.add((r,c))\n",
    "        if r == n-1 and c == m-1:\n",
    "            return _max\n",
    "\n",
    "        for dr, dc in _dir:\n",
    "            nr, nc = dr+r, dc+c\n",
    "            if 0<=nr<n and 0<=nc<m and (nr, nc) not in seen:\n",
    "                new = max(grid[nr][nc], _max)\n",
    "                heappush(pq, (new, nr, nc))\n",
    "\n",
    "    return -1"
   ]
  },
  {
   "cell_type": "code",
   "execution_count": 14,
   "id": "3db9d8a5-7bb5-48ba-954b-705a60429b2b",
   "metadata": {},
   "outputs": [
    {
     "data": {
      "text/plain": [
       "16"
      ]
     },
     "execution_count": 14,
     "metadata": {},
     "output_type": "execute_result"
    }
   ],
   "source": [
    "grid = [[0,1,2,3,4],[24,23,22,21,5],[12,13,14,15,16],[11,17,18,19,20],[10,9,8,7,6]]\n",
    "swimInWater(grid)"
   ]
  },
  {
   "cell_type": "code",
   "execution_count": null,
   "id": "606cb60c-0194-4067-b681-f96b2e934ccb",
   "metadata": {},
   "outputs": [],
   "source": []
  }
 ],
 "metadata": {
  "kernelspec": {
   "display_name": "Python 3 (ipykernel)",
   "language": "python",
   "name": "python3"
  },
  "language_info": {
   "codemirror_mode": {
    "name": "ipython",
    "version": 3
   },
   "file_extension": ".py",
   "mimetype": "text/x-python",
   "name": "python",
   "nbconvert_exporter": "python",
   "pygments_lexer": "ipython3",
   "version": "3.10.11"
  }
 },
 "nbformat": 4,
 "nbformat_minor": 5
}
