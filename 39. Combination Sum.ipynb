{
 "cells": [
  {
   "cell_type": "code",
   "execution_count": 3,
   "id": "1980ad89-49df-41d8-ae86-f63f627bf63a",
   "metadata": {},
   "outputs": [],
   "source": [
    "def combinationSum(candidates, target):\n",
    "    res = []\n",
    "    length = len(candidates)-1\n",
    "\n",
    "    def make_combinations(indx, comb, total):\n",
    "        if total==target:\n",
    "            res.append(comb[:])\n",
    "            return\n",
    "            \n",
    "        if total>target or indx>length:\n",
    "            return\n",
    "\n",
    "        comb.append(candidates[indx])\n",
    "        make_combinations(indx, comb, total+candidates[indx])\n",
    "        comb.pop()\n",
    "        make_combinations(indx+1, comb, total)\n",
    "\n",
    "    make_combinations(0, [], 0)\n",
    "    return res"
   ]
  },
  {
   "cell_type": "code",
   "execution_count": 4,
   "id": "9641b637-fd8a-495a-ba34-830c2d054a34",
   "metadata": {},
   "outputs": [
    {
     "data": {
      "text/plain": [
       "[[2, 2, 2, 2], [2, 3, 3], [3, 5]]"
      ]
     },
     "execution_count": 4,
     "metadata": {},
     "output_type": "execute_result"
    }
   ],
   "source": [
    "candidates = [2,3,5]\n",
    "target = 8\n",
    "combinationSum(candidates, target)"
   ]
  },
  {
   "cell_type": "code",
   "execution_count": null,
   "id": "c02b65ee-0fe5-405a-bedd-6ee45fdc3b44",
   "metadata": {},
   "outputs": [],
   "source": []
  }
 ],
 "metadata": {
  "kernelspec": {
   "display_name": "Python 3 (ipykernel)",
   "language": "python",
   "name": "python3"
  },
  "language_info": {
   "codemirror_mode": {
    "name": "ipython",
    "version": 3
   },
   "file_extension": ".py",
   "mimetype": "text/x-python",
   "name": "python",
   "nbconvert_exporter": "python",
   "pygments_lexer": "ipython3",
   "version": "3.10.11"
  }
 },
 "nbformat": 4,
 "nbformat_minor": 5
}
