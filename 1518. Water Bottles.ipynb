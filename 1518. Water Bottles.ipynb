{
 "cells": [
  {
   "cell_type": "code",
   "execution_count": 6,
   "id": "ba5cda42-75e5-43bc-951b-eb41ff536179",
   "metadata": {},
   "outputs": [],
   "source": [
    "def numWaterBottles(numBottles, numExchange):\n",
    "    counter = numBottles\n",
    "    while numBottles>=numExchange:\n",
    "        counter += (numBottles//numExchange)\n",
    "        numBottles = (numBottles//numExchange) + (numBottles%numExchange)\n",
    "    return counter"
   ]
  },
  {
   "cell_type": "code",
   "execution_count": 9,
   "id": "e1951240-b193-4868-a3b9-86fbcd797639",
   "metadata": {},
   "outputs": [
    {
     "data": {
      "text/plain": [
       "19"
      ]
     },
     "execution_count": 9,
     "metadata": {},
     "output_type": "execute_result"
    }
   ],
   "source": [
    "numBottles = 15\n",
    "numExchange = 4\n",
    "numWaterBottles(numBottles, numExchange)"
   ]
  },
  {
   "cell_type": "code",
   "execution_count": null,
   "id": "15a45aa9-72f5-4079-bcdb-67e7e40e6882",
   "metadata": {},
   "outputs": [],
   "source": []
  }
 ],
 "metadata": {
  "kernelspec": {
   "display_name": "Python 3 (ipykernel)",
   "language": "python",
   "name": "python3"
  },
  "language_info": {
   "codemirror_mode": {
    "name": "ipython",
    "version": 3
   },
   "file_extension": ".py",
   "mimetype": "text/x-python",
   "name": "python",
   "nbconvert_exporter": "python",
   "pygments_lexer": "ipython3",
   "version": "3.10.11"
  }
 },
 "nbformat": 4,
 "nbformat_minor": 5
}
