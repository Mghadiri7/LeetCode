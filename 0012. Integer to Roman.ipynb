{
 "cells": [
  {
   "cell_type": "code",
   "execution_count": 8,
   "id": "70f9ab27-cc18-4607-bcdd-557150d2d439",
   "metadata": {},
   "outputs": [],
   "source": [
    "def intToRoman(num):\n",
    "    _dic = {1000:'M', 900:'CM', 500:'D', 400:'CD', 100:'C', 90:'XC', \n",
    "            50:'L', 40:'XL', 10:'X', 9:'IX', 5:'V', 4:'IV', 1:'I'}\n",
    "    res = \"\"\n",
    "    for key,item in _dic.items():\n",
    "        if num//key:\n",
    "            res+=item*(num//key)\n",
    "            num = num%key\n",
    "            if num==0:\n",
    "                break\n",
    "    return res"
   ]
  },
  {
   "cell_type": "code",
   "execution_count": 9,
   "id": "5cbb5111-e451-4948-b3e4-ea269c4d6970",
   "metadata": {},
   "outputs": [
    {
     "data": {
      "text/plain": [
       "'MMMDCCXLIX'"
      ]
     },
     "execution_count": 9,
     "metadata": {},
     "output_type": "execute_result"
    }
   ],
   "source": [
    "num = 3749\n",
    "intToRoman(num)"
   ]
  }
 ],
 "metadata": {
  "kernelspec": {
   "display_name": "Python 3 (ipykernel)",
   "language": "python",
   "name": "python3"
  },
  "language_info": {
   "codemirror_mode": {
    "name": "ipython",
    "version": 3
   },
   "file_extension": ".py",
   "mimetype": "text/x-python",
   "name": "python",
   "nbconvert_exporter": "python",
   "pygments_lexer": "ipython3",
   "version": "3.10.11"
  }
 },
 "nbformat": 4,
 "nbformat_minor": 5
}
