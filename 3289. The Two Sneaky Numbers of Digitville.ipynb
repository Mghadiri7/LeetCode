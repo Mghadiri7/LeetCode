{
 "cells": [
  {
   "cell_type": "code",
   "execution_count": 7,
   "id": "a2c6f51d-acbc-4854-b711-d40236a235b3",
   "metadata": {},
   "outputs": [],
   "source": [
    "def getSneakyNumbers(nums):\n",
    "    n = len(nums)-1\n",
    "    lst = []\n",
    "    for i in range(n):\n",
    "        while True:\n",
    "            if nums[i]==i:\n",
    "                break\n",
    "            else:\n",
    "                if nums[i]==nums[nums[i]]:\n",
    "                    lst.append(nums[i])\n",
    "                    nums.pop(i)\n",
    "                    if len(lst)==2:\n",
    "                        return lst\n",
    "                else:    \n",
    "                    nums[nums[i]], nums[i] = nums[i], nums[nums[i]]     "
   ]
  },
  {
   "cell_type": "code",
   "execution_count": 8,
   "id": "9ccf39b4-74f8-4b76-b590-5960221f4c79",
   "metadata": {},
   "outputs": [
    {
     "data": {
      "text/plain": [
       "[7, 2]"
      ]
     },
     "execution_count": 8,
     "metadata": {},
     "output_type": "execute_result"
    }
   ],
   "source": [
    "nums = [0,4,2,3,5,6,7,1,7,2]\n",
    "getSneakyNumbers(nums)"
   ]
  },
  {
   "cell_type": "code",
   "execution_count": null,
   "id": "c3eb52bf-8a6e-4874-b68e-6bfe40bda806",
   "metadata": {},
   "outputs": [],
   "source": []
  }
 ],
 "metadata": {
  "kernelspec": {
   "display_name": "Python 3 (ipykernel)",
   "language": "python",
   "name": "python3"
  },
  "language_info": {
   "codemirror_mode": {
    "name": "ipython",
    "version": 3
   },
   "file_extension": ".py",
   "mimetype": "text/x-python",
   "name": "python",
   "nbconvert_exporter": "python",
   "pygments_lexer": "ipython3",
   "version": "3.10.11"
  }
 },
 "nbformat": 4,
 "nbformat_minor": 5
}
