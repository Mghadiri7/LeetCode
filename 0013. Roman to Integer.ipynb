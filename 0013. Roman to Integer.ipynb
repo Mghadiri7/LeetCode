{
 "cells": [
  {
   "cell_type": "code",
   "execution_count": 9,
   "id": "100a0b66-048e-4d74-b627-e2dab654fc21",
   "metadata": {},
   "outputs": [],
   "source": [
    "def romanToInt(s):\n",
    "    _dic = {'M':1000, 'D':500, 'C':100, 'L':50, 'X':10, 'V':5, 'I':1}\n",
    "    length = len(s)-1\n",
    "    num = 0\n",
    "    for i in range(length):\n",
    "        if _dic[s[i]]>=_dic[s[i+1]]:\n",
    "            num+=_dic[s[i]]\n",
    "        else:\n",
    "            num-=_dic[s[i]]\n",
    "    num+=_dic[s[length]]\n",
    "    return num"
   ]
  },
  {
   "cell_type": "code",
   "execution_count": 10,
   "id": "10f874f2-e80d-4cf1-b48f-5d80f21a7523",
   "metadata": {},
   "outputs": [
    {
     "data": {
      "text/plain": [
       "1994"
      ]
     },
     "execution_count": 10,
     "metadata": {},
     "output_type": "execute_result"
    }
   ],
   "source": [
    "s = \"MCMXCIV\"\n",
    "romanToInt(s)"
   ]
  },
  {
   "cell_type": "code",
   "execution_count": null,
   "id": "fe466d1f-b5fb-4fce-a8f1-dc4ea3f40e52",
   "metadata": {},
   "outputs": [],
   "source": []
  }
 ],
 "metadata": {
  "kernelspec": {
   "display_name": "Python 3 (ipykernel)",
   "language": "python",
   "name": "python3"
  },
  "language_info": {
   "codemirror_mode": {
    "name": "ipython",
    "version": 3
   },
   "file_extension": ".py",
   "mimetype": "text/x-python",
   "name": "python",
   "nbconvert_exporter": "python",
   "pygments_lexer": "ipython3",
   "version": "3.10.11"
  }
 },
 "nbformat": 4,
 "nbformat_minor": 5
}
