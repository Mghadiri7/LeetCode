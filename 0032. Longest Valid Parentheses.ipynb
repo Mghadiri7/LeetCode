{
 "cells": [
  {
   "cell_type": "code",
   "execution_count": 1,
   "id": "f2c71aa4-50ce-4ec7-ae0d-182364c61ef5",
   "metadata": {},
   "outputs": [],
   "source": [
    "def longestValidParentheses(s):\n",
    "    stack = [-1]\n",
    "    _max = 0\n",
    "    length = len(s)\n",
    "    for i in range(length):\n",
    "        if s[i]==\"(\":\n",
    "            stack.append(i)\n",
    "        else:\n",
    "            stack.pop()\n",
    "            # if len(stack)==0:\n",
    "            if not stack:\n",
    "                stack.append(i)\n",
    "            else:\n",
    "                _max = max(_max, i-stack[-1])\n",
    "    return _max"
   ]
  },
  {
   "cell_type": "code",
   "execution_count": 2,
   "id": "8f124d3b-c571-407d-9ca2-b4181d410261",
   "metadata": {},
   "outputs": [
    {
     "data": {
      "text/plain": [
       "4"
      ]
     },
     "execution_count": 2,
     "metadata": {},
     "output_type": "execute_result"
    }
   ],
   "source": [
    "s = \")()())\"\n",
    "longestValidParentheses(s)"
   ]
  },
  {
   "cell_type": "code",
   "execution_count": 3,
   "id": "6180aff1-2770-4204-bb8f-bbd17537b481",
   "metadata": {},
   "outputs": [
    {
     "data": {
      "text/plain": [
       "4"
      ]
     },
     "execution_count": 3,
     "metadata": {},
     "output_type": "execute_result"
    }
   ],
   "source": [
    "s = \"())))(((()()\"\n",
    "longestValidParentheses(s)"
   ]
  },
  {
   "cell_type": "code",
   "execution_count": 4,
   "id": "6051e1af-0e41-4dbb-bbac-529dcb2d2789",
   "metadata": {},
   "outputs": [
    {
     "data": {
      "text/plain": [
       "6"
      ]
     },
     "execution_count": 4,
     "metadata": {},
     "output_type": "execute_result"
    }
   ],
   "source": [
    "s = \"()(())\"\n",
    "longestValidParentheses(s)"
   ]
  },
  {
   "cell_type": "code",
   "execution_count": 5,
   "id": "aea16cd2-d968-49a4-8810-f49bc17db9c8",
   "metadata": {},
   "outputs": [
    {
     "data": {
      "text/plain": [
       "6"
      ]
     },
     "execution_count": 5,
     "metadata": {},
     "output_type": "execute_result"
    }
   ],
   "source": [
    "s = \"(()())\"\n",
    "longestValidParentheses(s)"
   ]
  },
  {
   "cell_type": "code",
   "execution_count": null,
   "id": "eb91a17b-862e-4b5f-a87c-838d09ddab99",
   "metadata": {},
   "outputs": [],
   "source": []
  }
 ],
 "metadata": {
  "kernelspec": {
   "display_name": "Python 3 (ipykernel)",
   "language": "python",
   "name": "python3"
  },
  "language_info": {
   "codemirror_mode": {
    "name": "ipython",
    "version": 3
   },
   "file_extension": ".py",
   "mimetype": "text/x-python",
   "name": "python",
   "nbconvert_exporter": "python",
   "pygments_lexer": "ipython3",
   "version": "3.10.11"
  }
 },
 "nbformat": 4,
 "nbformat_minor": 5
}
