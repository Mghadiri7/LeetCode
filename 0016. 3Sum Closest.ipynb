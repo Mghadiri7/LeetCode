{
 "cells": [
  {
   "cell_type": "code",
   "execution_count": 1,
   "id": "042271f1-9c00-4095-ac6d-9727140c3f4d",
   "metadata": {},
   "outputs": [],
   "source": [
    "def threeSumClosest(nums, target):\n",
    "    nums.sort()\n",
    "    length = len(nums)\n",
    "    closest = float('-inf')\n",
    "    for i in range(length-2):\n",
    "        if i>0 and nums[i]==nums[i-1]:\n",
    "            continue\n",
    "        left, right = i+1, length-1\n",
    "        while left<right:\n",
    "            current = nums[i]+nums[left]+nums[right]\n",
    "            if current==target:\n",
    "                return target\n",
    "            elif abs(target-current)<abs(target-closest):\n",
    "                closest = current\n",
    "            elif current<target:\n",
    "                left+=1\n",
    "            else:\n",
    "                right-=1\n",
    "    return closest"
   ]
  },
  {
   "cell_type": "code",
   "execution_count": 2,
   "id": "747cf6ed-4e55-4a83-aac1-d38d9ea8a773",
   "metadata": {},
   "outputs": [
    {
     "data": {
      "text/plain": [
       "-2"
      ]
     },
     "execution_count": 2,
     "metadata": {},
     "output_type": "execute_result"
    }
   ],
   "source": [
    "nums=[4,0,5,-5,3,3,0,-4,-5]\n",
    "target = -2\n",
    "threeSumClosest(nums, target)"
   ]
  },
  {
   "cell_type": "code",
   "execution_count": null,
   "id": "b3e3d537-d6d0-4416-afd7-c302b092165e",
   "metadata": {},
   "outputs": [],
   "source": []
  }
 ],
 "metadata": {
  "kernelspec": {
   "display_name": "Python 3 (ipykernel)",
   "language": "python",
   "name": "python3"
  },
  "language_info": {
   "codemirror_mode": {
    "name": "ipython",
    "version": 3
   },
   "file_extension": ".py",
   "mimetype": "text/x-python",
   "name": "python",
   "nbconvert_exporter": "python",
   "pygments_lexer": "ipython3",
   "version": "3.10.11"
  }
 },
 "nbformat": 4,
 "nbformat_minor": 5
}
