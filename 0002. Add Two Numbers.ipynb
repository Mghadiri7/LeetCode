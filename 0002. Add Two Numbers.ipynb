{
 "cells": [
  {
   "cell_type": "code",
   "execution_count": 21,
   "id": "9bbe2acb-111d-4283-81dd-91bb6bde760a",
   "metadata": {},
   "outputs": [],
   "source": [
    "# Definition for singly-linked list.\n",
    "class ListNode:\n",
    "    def __init__(self, val=0, next=None):\n",
    "        self.val = val\n",
    "        self.next = next\n",
    "        \n",
    "class Solution:\n",
    "    def addTwoNumbers(self, l1, l2):\n",
    "        val = l1.val + l2.val\n",
    "        result = ListNode(val%10)\n",
    "        carry = val//10\n",
    "        temp = result\n",
    "        l1, l2 = l1.next, l2.next\n",
    "        while l1 or l2 or carry:\n",
    "            val1 = l1.val if l1 else 0\n",
    "            val2 = l2.val if l2 else 0\n",
    "            val = val1 + val2 + carry\n",
    "            temp.next = ListNode(val%10)\n",
    "            temp = temp.next\n",
    "            carry = val//10\n",
    "            l1 = l1.next if l1 else None\n",
    "            l2 = l2.next if l2 else None\n",
    "        return result"
   ]
  },
  {
   "cell_type": "code",
   "execution_count": 23,
   "id": "7782f421-275b-4eb0-8a9f-9b972a402319",
   "metadata": {},
   "outputs": [
    {
     "name": "stdout",
     "output_type": "stream",
     "text": [
      "[7, 0, 8]\n"
     ]
    }
   ],
   "source": [
    "# l1 = [2,4,3], l2 = [5,6,4]\n",
    "n2 = ListNode(3)\n",
    "n1 = ListNode(4, n2)\n",
    "l1 = ListNode(2, n1)\n",
    "# print(l1.next.next.val)\n",
    "\n",
    "n4 = ListNode(4)\n",
    "n3 = ListNode(6, n4)\n",
    "l2 = ListNode(5, n3)\n",
    "# print(l2.next.next.val)\n",
    "sol = Solution()\n",
    "res = sol.addTwoNumbers(l1,l2)\n",
    "print([res.val, res.next.val, res.next.next.val])"
   ]
  },
  {
   "cell_type": "code",
   "execution_count": null,
   "id": "36d81846-f81b-421e-bc78-8d14700c2077",
   "metadata": {},
   "outputs": [],
   "source": []
  }
 ],
 "metadata": {
  "kernelspec": {
   "display_name": "Python 3 (ipykernel)",
   "language": "python",
   "name": "python3"
  },
  "language_info": {
   "codemirror_mode": {
    "name": "ipython",
    "version": 3
   },
   "file_extension": ".py",
   "mimetype": "text/x-python",
   "name": "python",
   "nbconvert_exporter": "python",
   "pygments_lexer": "ipython3",
   "version": "3.10.11"
  }
 },
 "nbformat": 4,
 "nbformat_minor": 5
}
