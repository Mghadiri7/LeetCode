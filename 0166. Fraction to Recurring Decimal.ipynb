{
 "cells": [
  {
   "cell_type": "code",
   "execution_count": 17,
   "id": "d3da5d21-da32-4177-bfdb-e7549d57b9ea",
   "metadata": {},
   "outputs": [],
   "source": [
    "def fractionToDecimal(numerator, denominator):\n",
    "    if numerator==0:\n",
    "        return \"0\"\n",
    "        \n",
    "    res = []\n",
    "    if (numerator<0)^(denominator<0):\n",
    "        res.append(\"-\")\n",
    "    numerator = abs(numerator)\n",
    "    denominator = abs(denominator)\n",
    "    quotient = numerator//denominator\n",
    "    res.append(str(quotient))\n",
    "    remainder = numerator%denominator\n",
    "    if remainder==0:\n",
    "        return \"\".join(res)\n",
    "\n",
    "    res.append(\".\")\n",
    "    seen = {}\n",
    "    while remainder:\n",
    "        if remainder in seen:\n",
    "            index = seen[remainder]\n",
    "            res.insert(index, \"(\")\n",
    "            res.append(\")\")\n",
    "            return \"\".join(res)\n",
    "        seen[remainder] = len(res)\n",
    "        remainder *= 10\n",
    "        res.append(str(remainder//denominator))\n",
    "        remainder %= denominator\n",
    "    return \"\".join(res)"
   ]
  },
  {
   "cell_type": "code",
   "execution_count": 18,
   "id": "f9757eea-872b-4db2-a8a2-7cdeebb9d0c3",
   "metadata": {},
   "outputs": [
    {
     "data": {
      "text/plain": [
       "'0.(012)'"
      ]
     },
     "execution_count": 18,
     "metadata": {},
     "output_type": "execute_result"
    }
   ],
   "source": [
    "numerator = 4\n",
    "denominator = 333\n",
    "fractionToDecimal(numerator, denominator)"
   ]
  },
  {
   "cell_type": "code",
   "execution_count": null,
   "id": "a25e2ba3-040e-4257-b5f2-2600b545dd51",
   "metadata": {},
   "outputs": [],
   "source": []
  }
 ],
 "metadata": {
  "kernelspec": {
   "display_name": "Python 3 (ipykernel)",
   "language": "python",
   "name": "python3"
  },
  "language_info": {
   "codemirror_mode": {
    "name": "ipython",
    "version": 3
   },
   "file_extension": ".py",
   "mimetype": "text/x-python",
   "name": "python",
   "nbconvert_exporter": "python",
   "pygments_lexer": "ipython3",
   "version": "3.10.11"
  }
 },
 "nbformat": 4,
 "nbformat_minor": 5
}
