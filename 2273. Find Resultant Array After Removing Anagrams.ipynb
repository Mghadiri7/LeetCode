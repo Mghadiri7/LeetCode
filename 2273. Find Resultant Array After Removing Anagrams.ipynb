{
 "cells": [
  {
   "cell_type": "code",
   "execution_count": 5,
   "id": "c22761a7-662b-4e42-b76f-cf2c47a23f20",
   "metadata": {},
   "outputs": [],
   "source": [
    "def removeAnagrams(words):\n",
    "    n = len(words)\n",
    "    res = [words[0]]\n",
    "    for i in range(1, n):\n",
    "        if sorted(words[i]) != sorted(words[i-1]):\n",
    "            res.append(words[i])\n",
    "    return res"
   ]
  },
  {
   "cell_type": "code",
   "execution_count": 6,
   "id": "779c1806-1234-48b7-b52d-163b0ca9631b",
   "metadata": {},
   "outputs": [
    {
     "data": {
      "text/plain": [
       "['abba', 'cd']"
      ]
     },
     "execution_count": 6,
     "metadata": {},
     "output_type": "execute_result"
    }
   ],
   "source": [
    "words = [\"abba\",\"baba\",\"bbaa\",\"cd\",\"cd\"]\n",
    "removeAnagrams(words)"
   ]
  },
  {
   "cell_type": "code",
   "execution_count": null,
   "id": "3f6cc7ad-da04-4500-a873-b07e949d7e15",
   "metadata": {},
   "outputs": [],
   "source": []
  }
 ],
 "metadata": {
  "kernelspec": {
   "display_name": "Python 3 (ipykernel)",
   "language": "python",
   "name": "python3"
  },
  "language_info": {
   "codemirror_mode": {
    "name": "ipython",
    "version": 3
   },
   "file_extension": ".py",
   "mimetype": "text/x-python",
   "name": "python",
   "nbconvert_exporter": "python",
   "pygments_lexer": "ipython3",
   "version": "3.10.11"
  }
 },
 "nbformat": 4,
 "nbformat_minor": 5
}
