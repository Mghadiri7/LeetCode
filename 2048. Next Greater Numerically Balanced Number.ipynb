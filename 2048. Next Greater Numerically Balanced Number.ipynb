{
 "cells": [
  {
   "cell_type": "code",
   "execution_count": 1,
   "id": "bc150a82-9249-4422-b0e7-5a9bf59ee6f3",
   "metadata": {},
   "outputs": [],
   "source": [
    "def nextBeautifulNumber(n):\n",
    "    def check(x):\n",
    "        s = str(x)\n",
    "        lst = [0]*10\n",
    "        for ch in s:\n",
    "            # ord\"0\" is 48\n",
    "            lst[ord(ch)-48]+=1\n",
    "        for ch in s:\n",
    "            c = ord(ch)-48\n",
    "            if c==0 or c!=lst[c]:\n",
    "                return False\n",
    "        return True\n",
    "        \n",
    "    i = n+1\n",
    "    while True:\n",
    "        if check(i):\n",
    "            return i\n",
    "        i+=1"
   ]
  },
  {
   "cell_type": "code",
   "execution_count": 3,
   "id": "310278bf-4f07-4f97-ad57-4401ee2037d5",
   "metadata": {},
   "outputs": [
    {
     "data": {
      "text/plain": [
       "1333"
      ]
     },
     "execution_count": 3,
     "metadata": {},
     "output_type": "execute_result"
    }
   ],
   "source": [
    "n = 1000\n",
    "nextBeautifulNumber(n)"
   ]
  },
  {
   "cell_type": "code",
   "execution_count": null,
   "id": "ee0eafca-2bce-41db-a97a-d83d0152714c",
   "metadata": {},
   "outputs": [],
   "source": []
  }
 ],
 "metadata": {
  "kernelspec": {
   "display_name": "Python 3 (ipykernel)",
   "language": "python",
   "name": "python3"
  },
  "language_info": {
   "codemirror_mode": {
    "name": "ipython",
    "version": 3
   },
   "file_extension": ".py",
   "mimetype": "text/x-python",
   "name": "python",
   "nbconvert_exporter": "python",
   "pygments_lexer": "ipython3",
   "version": "3.10.11"
  }
 },
 "nbformat": 4,
 "nbformat_minor": 5
}
