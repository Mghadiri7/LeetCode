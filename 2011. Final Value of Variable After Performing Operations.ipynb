{
 "cells": [
  {
   "cell_type": "code",
   "execution_count": 1,
   "id": "105c264c-6ccb-4eb6-93c0-1b327a790d0e",
   "metadata": {},
   "outputs": [],
   "source": [
    "def finalValueAfterOperations(operations):\n",
    "    x = 0\n",
    "    for item in operations:\n",
    "        if item==\"++X\" or item==\"X++\":\n",
    "            x+=1\n",
    "        else:\n",
    "            x-=1\n",
    "    return x"
   ]
  },
  {
   "cell_type": "code",
   "execution_count": 2,
   "id": "4e3837c8-6f30-4da5-b99d-a1cc55a2a2e6",
   "metadata": {},
   "outputs": [
    {
     "data": {
      "text/plain": [
       "1"
      ]
     },
     "execution_count": 2,
     "metadata": {},
     "output_type": "execute_result"
    }
   ],
   "source": [
    "operations = [\"--X\",\"X++\",\"X++\"]\n",
    "finalValueAfterOperations(operations)"
   ]
  },
  {
   "cell_type": "code",
   "execution_count": null,
   "id": "2e334e7e-1c20-4a4b-899f-da4386e5ac60",
   "metadata": {},
   "outputs": [],
   "source": []
  }
 ],
 "metadata": {
  "kernelspec": {
   "display_name": "Python 3 (ipykernel)",
   "language": "python",
   "name": "python3"
  },
  "language_info": {
   "codemirror_mode": {
    "name": "ipython",
    "version": 3
   },
   "file_extension": ".py",
   "mimetype": "text/x-python",
   "name": "python",
   "nbconvert_exporter": "python",
   "pygments_lexer": "ipython3",
   "version": "3.10.11"
  }
 },
 "nbformat": 4,
 "nbformat_minor": 5
}
