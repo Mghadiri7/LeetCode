{
 "cells": [
  {
   "cell_type": "markdown",
   "id": "9be91a54-86df-4a3a-85ba-808f1ce8111f",
   "metadata": {},
   "source": [
    "## First Solution"
   ]
  },
  {
   "cell_type": "code",
   "execution_count": 1,
   "id": "d8f23259-a522-4fd6-a9b0-438bd7dc7158",
   "metadata": {},
   "outputs": [],
   "source": [
    "def isPalindrome(x):\n",
    "    if x<0:\n",
    "        return False\n",
    "    res = 0\n",
    "    temp = x\n",
    "    while temp>0:\n",
    "        res = res*10 + temp%10\n",
    "        temp//=10\n",
    "    return res==x"
   ]
  },
  {
   "cell_type": "code",
   "execution_count": 2,
   "id": "d63c0d11-da1f-4285-9c4d-c092b1c47ae7",
   "metadata": {},
   "outputs": [
    {
     "data": {
      "text/plain": [
       "False"
      ]
     },
     "execution_count": 2,
     "metadata": {},
     "output_type": "execute_result"
    }
   ],
   "source": [
    "x = 2211\n",
    "isPalindrome(x)"
   ]
  },
  {
   "cell_type": "markdown",
   "id": "8b0943c5-fa5b-41e3-a027-8fdac3353ac0",
   "metadata": {},
   "source": [
    "## Second Solution"
   ]
  },
  {
   "cell_type": "code",
   "execution_count": 3,
   "id": "9c4b6925-c5e8-4a2a-807c-0ae5a9236836",
   "metadata": {},
   "outputs": [],
   "source": [
    "def isPalindrome(x):\n",
    "    if x<0:\n",
    "        return False\n",
    "    s = str(x)\n",
    "    length = len(s)\n",
    "    for i in range(length//2):\n",
    "        if s[i]!=s[length-1-i]:\n",
    "            return False\n",
    "    else:\n",
    "        return True"
   ]
  },
  {
   "cell_type": "code",
   "execution_count": 4,
   "id": "d10ac9fc-fc72-494d-95cc-fa141f570558",
   "metadata": {},
   "outputs": [
    {
     "data": {
      "text/plain": [
       "True"
      ]
     },
     "execution_count": 4,
     "metadata": {},
     "output_type": "execute_result"
    }
   ],
   "source": [
    "x = 22\n",
    "isPalindrome(x)"
   ]
  },
  {
   "cell_type": "markdown",
   "id": "32b53016-22b5-4101-8f0d-6a8b93efec2e",
   "metadata": {},
   "source": [
    "## Third Solution"
   ]
  },
  {
   "cell_type": "code",
   "execution_count": 5,
   "id": "48e97549-e8ef-4352-b4e3-02e4f99c4462",
   "metadata": {},
   "outputs": [],
   "source": [
    "def isPalindrome(x):\n",
    "    s = str(x)\n",
    "    return s==s[::-1]"
   ]
  },
  {
   "cell_type": "code",
   "execution_count": 6,
   "id": "fd1b9acd-c400-4fd1-a944-99d866074a73",
   "metadata": {},
   "outputs": [
    {
     "data": {
      "text/plain": [
       "True"
      ]
     },
     "execution_count": 6,
     "metadata": {},
     "output_type": "execute_result"
    }
   ],
   "source": [
    "x = 121\n",
    "isPalindrome(x)"
   ]
  }
 ],
 "metadata": {
  "kernelspec": {
   "display_name": "Python 3 (ipykernel)",
   "language": "python",
   "name": "python3"
  },
  "language_info": {
   "codemirror_mode": {
    "name": "ipython",
    "version": 3
   },
   "file_extension": ".py",
   "mimetype": "text/x-python",
   "name": "python",
   "nbconvert_exporter": "python",
   "pygments_lexer": "ipython3",
   "version": "3.10.11"
  }
 },
 "nbformat": 4,
 "nbformat_minor": 5
}
