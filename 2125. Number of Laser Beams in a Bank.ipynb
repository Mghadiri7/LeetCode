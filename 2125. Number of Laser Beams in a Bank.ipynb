{
 "cells": [
  {
   "cell_type": "markdown",
   "id": "226dd3f2-5056-4e7d-8ab1-889f11ec9f01",
   "metadata": {},
   "source": [
    "## First Solution"
   ]
  },
  {
   "cell_type": "code",
   "execution_count": 3,
   "id": "708f1eda-b874-4555-9d2a-514d098b8ad6",
   "metadata": {},
   "outputs": [],
   "source": [
    "def numberOfBeams(bank):\n",
    "    lst = []\n",
    "    for row in bank:\n",
    "        counter = 0\n",
    "        for ch in row:\n",
    "            if ch=='1':\n",
    "                counter+=1\n",
    "        if counter>0:\n",
    "            lst.append(counter)\n",
    "\n",
    "    n = len(lst)-1\n",
    "    res = 0\n",
    "    for i in range(n):\n",
    "        res += lst[i] * lst[i+1]\n",
    "    return res"
   ]
  },
  {
   "cell_type": "code",
   "execution_count": 4,
   "id": "249b442f-bac7-44ed-924f-60a83d757a44",
   "metadata": {},
   "outputs": [
    {
     "data": {
      "text/plain": [
       "8"
      ]
     },
     "execution_count": 4,
     "metadata": {},
     "output_type": "execute_result"
    }
   ],
   "source": [
    "bank = [\"011001\",\"000000\",\"010100\",\"001000\"]\n",
    "numberOfBeams(bank)"
   ]
  },
  {
   "cell_type": "code",
   "execution_count": 5,
   "id": "95c9eb30-4871-4fd1-b907-c2e655739298",
   "metadata": {},
   "outputs": [
    {
     "data": {
      "text/plain": [
       "0"
      ]
     },
     "execution_count": 5,
     "metadata": {},
     "output_type": "execute_result"
    }
   ],
   "source": [
    "bank = [\"000\",\"111\",\"000\"]\n",
    "numberOfBeams(bank)"
   ]
  },
  {
   "cell_type": "markdown",
   "id": "0c769e5d-e0e9-4b75-9b03-e9087a27d948",
   "metadata": {},
   "source": [
    "## Second Solution"
   ]
  },
  {
   "cell_type": "code",
   "execution_count": 12,
   "id": "ce846c97-2040-44a8-9d9b-abd0ce6f8b6e",
   "metadata": {},
   "outputs": [],
   "source": [
    "def numberOfBeams(bank):\n",
    "    cur = bank[0].count('1')\n",
    "    res = 0\n",
    "    for row in bank[1:]:\n",
    "        devices = row.count('1')\n",
    "        if devices:\n",
    "            res += devices * cur\n",
    "            cur = devices\n",
    "    return res"
   ]
  },
  {
   "cell_type": "code",
   "execution_count": 13,
   "id": "2811574e-2ce0-4ce3-908b-459f96a6da2d",
   "metadata": {},
   "outputs": [
    {
     "data": {
      "text/plain": [
       "8"
      ]
     },
     "execution_count": 13,
     "metadata": {},
     "output_type": "execute_result"
    }
   ],
   "source": [
    "bank = [\"011001\",\"000000\",\"010100\",\"001000\"]\n",
    "numberOfBeams(bank)"
   ]
  },
  {
   "cell_type": "code",
   "execution_count": null,
   "id": "2f684e90-9f96-4221-82bf-f919b6b25d95",
   "metadata": {},
   "outputs": [],
   "source": []
  }
 ],
 "metadata": {
  "kernelspec": {
   "display_name": "Python 3 (ipykernel)",
   "language": "python",
   "name": "python3"
  },
  "language_info": {
   "codemirror_mode": {
    "name": "ipython",
    "version": 3
   },
   "file_extension": ".py",
   "mimetype": "text/x-python",
   "name": "python",
   "nbconvert_exporter": "python",
   "pygments_lexer": "ipython3",
   "version": "3.10.11"
  }
 },
 "nbformat": 4,
 "nbformat_minor": 5
}
