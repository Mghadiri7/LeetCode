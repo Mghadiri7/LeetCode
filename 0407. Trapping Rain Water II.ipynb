{
 "cells": [
  {
   "cell_type": "code",
   "execution_count": 12,
   "id": "86dd2705-b301-429f-acbe-a54f9d111a0c",
   "metadata": {},
   "outputs": [],
   "source": [
    "from heapq import heapify, heappop, heappush\n",
    "\n",
    "def trapRainWater(heightMap):\n",
    "    _dir = (0, 1, 0, -1, 0)\n",
    "    m, n = len(heightMap), len(heightMap[0])\n",
    "    if m <= 2 or n <= 2:\n",
    "        return 0\n",
    "\n",
    "    boundary = []\n",
    "    for i in range(m):\n",
    "        boundary.append((heightMap[i][0], i, 0))\n",
    "        boundary.append((heightMap[i][-1], i, n - 1))\n",
    "        heightMap[i][0] = heightMap[i][-1] = -1\n",
    "\n",
    "    for j in range(1, n - 1):\n",
    "        boundary.append((heightMap[0][j], 0, j))\n",
    "        boundary.append((heightMap[-1][j], m - 1, j))\n",
    "        heightMap[0][j] = heightMap[-1][j] = -1\n",
    "\n",
    "    heapify(boundary)\n",
    "    ans, water_level = 0, 0\n",
    "\n",
    "    while boundary:\n",
    "        h, i, j = heappop(boundary)\n",
    "\n",
    "        water_level = max(water_level, h)\n",
    "\n",
    "        for a in range(4):\n",
    "            i0, j0 = i + _dir[a], j + _dir[a + 1]\n",
    "            if i0 < 0 or i0 >= m or j0 < 0 or j0 >= n or heightMap[i0][j0] == -1:\n",
    "                continue\n",
    "            currH = heightMap[i0][j0]\n",
    "            if currH < water_level:\n",
    "                ans += water_level - currH\n",
    "\n",
    "            heightMap[i0][j0] = -1\n",
    "            heappush(boundary, (currH, i0, j0))\n",
    "    return ans"
   ]
  },
  {
   "cell_type": "code",
   "execution_count": 13,
   "id": "2ebff060-0b6a-4b92-a4ba-bbfc418e8416",
   "metadata": {},
   "outputs": [
    {
     "data": {
      "text/plain": [
       "4"
      ]
     },
     "execution_count": 13,
     "metadata": {},
     "output_type": "execute_result"
    }
   ],
   "source": [
    "heightMap = [[1,4,3,1,3,2],[3,2,1,3,2,4],[2,3,3,2,3,1]]\n",
    "trapRainWater(heightMap)"
   ]
  },
  {
   "cell_type": "code",
   "execution_count": 14,
   "id": "ff368727-af27-49ed-86da-8dda70964ba8",
   "metadata": {},
   "outputs": [
    {
     "data": {
      "text/plain": [
       "10"
      ]
     },
     "execution_count": 14,
     "metadata": {},
     "output_type": "execute_result"
    }
   ],
   "source": [
    "heightMap = [[3,3,3,3,3],[3,2,2,2,3],[3,2,1,2,3],[3,2,2,2,3],[3,3,3,3,3]]\n",
    "trapRainWater(heightMap)"
   ]
  },
  {
   "cell_type": "code",
   "execution_count": null,
   "id": "a7e34370-1e61-4700-9dd0-54fa7eedaacb",
   "metadata": {},
   "outputs": [],
   "source": []
  }
 ],
 "metadata": {
  "kernelspec": {
   "display_name": "Python 3 (ipykernel)",
   "language": "python",
   "name": "python3"
  },
  "language_info": {
   "codemirror_mode": {
    "name": "ipython",
    "version": 3
   },
   "file_extension": ".py",
   "mimetype": "text/x-python",
   "name": "python",
   "nbconvert_exporter": "python",
   "pygments_lexer": "ipython3",
   "version": "3.10.11"
  }
 },
 "nbformat": 4,
 "nbformat_minor": 5
}
