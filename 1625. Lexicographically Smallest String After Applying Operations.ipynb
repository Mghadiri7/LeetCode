{
 "cells": [
  {
   "cell_type": "code",
   "execution_count": null,
   "id": "5892117b-ce07-43c8-87d6-55338b46a9f8",
   "metadata": {},
   "outputs": [],
   "source": [
    "def findLexSmallestString(s, a, b):\n",
    "    "
   ]
  }
 ],
 "metadata": {
  "kernelspec": {
   "display_name": "Python 3 (ipykernel)",
   "language": "python",
   "name": "python3"
  },
  "language_info": {
   "codemirror_mode": {
    "name": "ipython",
    "version": 3
   },
   "file_extension": ".py",
   "mimetype": "text/x-python",
   "name": "python",
   "nbconvert_exporter": "python",
   "pygments_lexer": "ipython3",
   "version": "3.10.11"
  }
 },
 "nbformat": 4,
 "nbformat_minor": 5
}
