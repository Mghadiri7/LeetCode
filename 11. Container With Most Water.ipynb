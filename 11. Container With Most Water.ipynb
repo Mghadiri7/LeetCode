{
 "cells": [
  {
   "cell_type": "markdown",
   "id": "22f0d891-6b59-405d-9671-74610ff61828",
   "metadata": {},
   "source": [
    "## First Solution"
   ]
  },
  {
   "cell_type": "code",
   "execution_count": 1,
   "id": "c9609e67-6d7e-4d70-bae4-435d746b98c6",
   "metadata": {},
   "outputs": [],
   "source": [
    "def maxArea(height):\n",
    "    left, right = 0, len(height)-1\n",
    "    max_area = 0\n",
    "    while left<right:\n",
    "        area = (right-left) * min(height[left], height[right])\n",
    "        if area>max_area:\n",
    "            max_area = area\n",
    "        if height[left]<height[right]:\n",
    "            left+=1\n",
    "        else:\n",
    "            right-=1\n",
    "    return max_area"
   ]
  },
  {
   "cell_type": "code",
   "execution_count": 3,
   "id": "4ddc9fec-59a7-492c-86f3-b08c0f91a2b9",
   "metadata": {},
   "outputs": [
    {
     "data": {
      "text/plain": [
       "49"
      ]
     },
     "execution_count": 3,
     "metadata": {},
     "output_type": "execute_result"
    }
   ],
   "source": [
    "height = [1,8,6,2,5,4,8,3,7]\n",
    "maxArea(height)"
   ]
  },
  {
   "cell_type": "markdown",
   "id": "ab3719dd-2a96-43a3-984d-924b4948ab58",
   "metadata": {},
   "source": [
    "## Second Solution"
   ]
  },
  {
   "cell_type": "code",
   "execution_count": 4,
   "id": "89832454-d38e-4b6e-bf7f-92a1bc7852b2",
   "metadata": {},
   "outputs": [],
   "source": [
    "def maxArea(height):\n",
    "    left, right = 0, len(height)-1\n",
    "    max_line = max(height)\n",
    "    max_area = 0\n",
    "    while left<right:\n",
    "        area = (right-left) * min(height[left], height[right])\n",
    "        if area>max_area:\n",
    "            max_area = area\n",
    "        if height[left]<height[right]:\n",
    "            left+=1\n",
    "        else:\n",
    "            right-=1\n",
    "        if max_line*(right-left)<max_area:\n",
    "            break\n",
    "    return max_area"
   ]
  },
  {
   "cell_type": "code",
   "execution_count": 5,
   "id": "73fda08f-e018-48f5-880f-97ee6273288c",
   "metadata": {},
   "outputs": [
    {
     "data": {
      "text/plain": [
       "49"
      ]
     },
     "execution_count": 5,
     "metadata": {},
     "output_type": "execute_result"
    }
   ],
   "source": [
    "height = [1,8,6,2,5,4,8,3,7]\n",
    "maxArea(height)"
   ]
  },
  {
   "cell_type": "code",
   "execution_count": null,
   "id": "0c55cd6a-66b8-48f3-8d7c-a8ae10ac32f0",
   "metadata": {},
   "outputs": [],
   "source": []
  }
 ],
 "metadata": {
  "kernelspec": {
   "display_name": "Python 3 (ipykernel)",
   "language": "python",
   "name": "python3"
  },
  "language_info": {
   "codemirror_mode": {
    "name": "ipython",
    "version": 3
   },
   "file_extension": ".py",
   "mimetype": "text/x-python",
   "name": "python",
   "nbconvert_exporter": "python",
   "pygments_lexer": "ipython3",
   "version": "3.10.11"
  }
 },
 "nbformat": 4,
 "nbformat_minor": 5
}
