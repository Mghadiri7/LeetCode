{
 "cells": [
  {
   "cell_type": "code",
   "execution_count": 6,
   "id": "cf780495-b734-445b-906f-6eb7131ee7ef",
   "metadata": {},
   "outputs": [],
   "source": [
    "import bisect\n",
    "\n",
    "def successfulPairs(spells, potions, success):\n",
    "    potions.sort()\n",
    "    m = len(potions)\n",
    "    lst = []\n",
    "    for item in spells:\n",
    "        lst.append(m-(bisect.bisect_left(potions, success/item)))\n",
    "    return lst"
   ]
  },
  {
   "cell_type": "code",
   "execution_count": 7,
   "id": "48b75ed2-1a81-4917-a007-fa4e3f940ed4",
   "metadata": {},
   "outputs": [
    {
     "data": {
      "text/plain": [
       "[4, 0, 3]"
      ]
     },
     "execution_count": 7,
     "metadata": {},
     "output_type": "execute_result"
    }
   ],
   "source": [
    "spells = [5,1,3]\n",
    "potions = [1,2,3,4,5]\n",
    "success = 7\n",
    "successfulPairs(spells, potions, success)"
   ]
  },
  {
   "cell_type": "code",
   "execution_count": 8,
   "id": "9d8424e0-d525-49cf-b4eb-5c36ff3c5321",
   "metadata": {},
   "outputs": [
    {
     "data": {
      "text/plain": [
       "[2, 0, 2]"
      ]
     },
     "execution_count": 8,
     "metadata": {},
     "output_type": "execute_result"
    }
   ],
   "source": [
    "spells = [3,1,2]\n",
    "potions = [8,5,8]\n",
    "success = 16\n",
    "successfulPairs(spells, potions, success)"
   ]
  },
  {
   "cell_type": "code",
   "execution_count": null,
   "id": "3318f65c-6556-45dc-bee9-3fa394804db8",
   "metadata": {},
   "outputs": [],
   "source": []
  }
 ],
 "metadata": {
  "kernelspec": {
   "display_name": "Python 3 (ipykernel)",
   "language": "python",
   "name": "python3"
  },
  "language_info": {
   "codemirror_mode": {
    "name": "ipython",
    "version": 3
   },
   "file_extension": ".py",
   "mimetype": "text/x-python",
   "name": "python",
   "nbconvert_exporter": "python",
   "pygments_lexer": "ipython3",
   "version": "3.10.11"
  }
 },
 "nbformat": 4,
 "nbformat_minor": 5
}
