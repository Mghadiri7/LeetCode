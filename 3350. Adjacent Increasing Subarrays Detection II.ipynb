{
 "cells": [
  {
   "cell_type": "code",
   "execution_count": 7,
   "id": "124ba438-224c-4702-91a0-15104ba8ef13",
   "metadata": {},
   "outputs": [],
   "source": [
    "def maxIncreasingSubarrays(nums):\n",
    "    n = len(nums)\n",
    "    lst = []\n",
    "    start = 0\n",
    "    for i in range(1, n):\n",
    "        if nums[i]<=nums[i-1]:\n",
    "            lst.append(i-start)\n",
    "            start = i\n",
    "    if sum(lst)<n:\n",
    "        lst.append(n-sum(lst))\n",
    "    res = max(lst)//2\n",
    "    length = len(lst)-1\n",
    "    for i in range(length):\n",
    "        res = max(res, min(lst[i], lst[i+1]))\n",
    "    return res"
   ]
  },
  {
   "cell_type": "code",
   "execution_count": 8,
   "id": "a7783098-ec79-410a-9dec-2b6d85d7a529",
   "metadata": {},
   "outputs": [
    {
     "data": {
      "text/plain": [
       "3"
      ]
     },
     "execution_count": 8,
     "metadata": {},
     "output_type": "execute_result"
    }
   ],
   "source": [
    "nums = [2,5,7,8,9,2,3,4,3,1]\n",
    "maxIncreasingSubarrays(nums)"
   ]
  },
  {
   "cell_type": "code",
   "execution_count": 9,
   "id": "ee4382d0-debe-4b26-9cc1-04605f6d283d",
   "metadata": {},
   "outputs": [
    {
     "data": {
      "text/plain": [
       "2"
      ]
     },
     "execution_count": 9,
     "metadata": {},
     "output_type": "execute_result"
    }
   ],
   "source": [
    "nums = [1,2,3,4,4,4,4,5,6,7]\n",
    "maxIncreasingSubarrays(nums)"
   ]
  },
  {
   "cell_type": "code",
   "execution_count": null,
   "id": "b2e66d3b-cfed-4a04-ad77-8f632c8429b0",
   "metadata": {},
   "outputs": [],
   "source": []
  }
 ],
 "metadata": {
  "kernelspec": {
   "display_name": "Python 3 (ipykernel)",
   "language": "python",
   "name": "python3"
  },
  "language_info": {
   "codemirror_mode": {
    "name": "ipython",
    "version": 3
   },
   "file_extension": ".py",
   "mimetype": "text/x-python",
   "name": "python",
   "nbconvert_exporter": "python",
   "pygments_lexer": "ipython3",
   "version": "3.10.11"
  }
 },
 "nbformat": 4,
 "nbformat_minor": 5
}
