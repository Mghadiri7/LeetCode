{
 "cells": [
  {
   "cell_type": "markdown",
   "id": "62e265ed-bfc0-4a4f-927d-c71a16532a18",
   "metadata": {},
   "source": [
    "## First Solution"
   ]
  },
  {
   "cell_type": "code",
   "execution_count": null,
   "id": "74f3cdf0-4ef5-45cb-bb96-8a2336a88113",
   "metadata": {},
   "outputs": [],
   "source": [
    "def mergeKLists(lists):\n",
    "    temp = ListNode()\n",
    "    cur = temp\n",
    "\n",
    "    def till_the_end(lists):\n",
    "        nonlocal cur\n",
    "        _min = -1\n",
    "        for i in range(len(lists)):\n",
    "            if lists[i] is not None:\n",
    "                if _min==-1 or lists[i].val<lists[_min].val:\n",
    "                    _min = i\n",
    "        if _min==-1:\n",
    "            return\n",
    "        cur.next = lists[_min]\n",
    "        lists[_min] = lists[_min].next\n",
    "        cur = cur.next\n",
    "        till_the_end(lists)\n",
    "\n",
    "    till_the_end(lists)\n",
    "    return temp.next"
   ]
  },
  {
   "cell_type": "markdown",
   "id": "ce0f9a5e-36e8-4ada-926a-3b7d586af39f",
   "metadata": {},
   "source": [
    "## Second Solution"
   ]
  },
  {
   "cell_type": "code",
   "execution_count": null,
   "id": "49102be2-0ef9-42cc-81ad-c1c91f019f1d",
   "metadata": {},
   "outputs": [],
   "source": [
    "# Definition for singly-linked list.\n",
    "# class ListNode:\n",
    "#     def __init__(self, val=0, next=None):\n",
    "#         self.val = val\n",
    "#         self.next = next\n",
    "class Solution:\n",
    "    def mergeKLists(self, lists: List[Optional[ListNode]]) -> Optional[ListNode]:\n",
    "        if not lists or len(lists)==0:\n",
    "            return None\n",
    "    \n",
    "        while len(lists)>1:\n",
    "            mergedlists = []\n",
    "            for i in range(0, len(lists), 2):\n",
    "                l1 = lists[i]\n",
    "                l2 = lists[i+1] if i+1<len(lists) else None\n",
    "                mergedlists.append(self.mergeTwoLists(l1, l2))\n",
    "            lists = mergedlists\n",
    "        return lists[0]\n",
    "\n",
    "    def mergeTwoLists(self, l1, l2):\n",
    "        temp = ListNode()\n",
    "        cur = temp\n",
    "        while l1 and l2:\n",
    "            if l1.val<l2.val:\n",
    "                cur.next = l1\n",
    "                l1 = l1.next\n",
    "            else:\n",
    "                cur.next = l2\n",
    "                l2 = l2.next\n",
    "            cur = cur.next\n",
    "        if l1:\n",
    "            cur.next = l1\n",
    "        else:\n",
    "            cur.next = l2\n",
    "        return temp.next"
   ]
  }
 ],
 "metadata": {
  "kernelspec": {
   "display_name": "Python 3 (ipykernel)",
   "language": "python",
   "name": "python3"
  },
  "language_info": {
   "codemirror_mode": {
    "name": "ipython",
    "version": 3
   },
   "file_extension": ".py",
   "mimetype": "text/x-python",
   "name": "python",
   "nbconvert_exporter": "python",
   "pygments_lexer": "ipython3",
   "version": "3.10.11"
  }
 },
 "nbformat": 4,
 "nbformat_minor": 5
}
