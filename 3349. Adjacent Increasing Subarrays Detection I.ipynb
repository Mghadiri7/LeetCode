{
 "cells": [
  {
   "cell_type": "code",
   "execution_count": 2,
   "id": "04f98810-4c0a-4f07-98bd-47350996dd14",
   "metadata": {},
   "outputs": [],
   "source": [
    "def hasIncreasingSubarrays(nums, k):\n",
    "    n = len(nums)-2*k+1\n",
    "    for i in range(n):\n",
    "        for j in range(k-1):\n",
    "            if nums[i+j]>=nums[i+j+1]:\n",
    "                break\n",
    "            if nums[i+j+k]>=nums[i+j+k+1]:\n",
    "                break\n",
    "        else:\n",
    "            return True\n",
    "    return False"
   ]
  },
  {
   "cell_type": "code",
   "execution_count": 3,
   "id": "a8cbba9b-8f75-4738-839b-f990c1815dfc",
   "metadata": {},
   "outputs": [
    {
     "data": {
      "text/plain": [
       "True"
      ]
     },
     "execution_count": 3,
     "metadata": {},
     "output_type": "execute_result"
    }
   ],
   "source": [
    "nums = [2,5,7,8,9,2,3,4,3,1]\n",
    "k = 3\n",
    "hasIncreasingSubarrays(nums, k)"
   ]
  },
  {
   "cell_type": "code",
   "execution_count": 4,
   "id": "aaff26a1-48f8-4f23-a3c3-7d11954cf82e",
   "metadata": {},
   "outputs": [
    {
     "data": {
      "text/plain": [
       "False"
      ]
     },
     "execution_count": 4,
     "metadata": {},
     "output_type": "execute_result"
    }
   ],
   "source": [
    "nums = [1,2,3,4,4,4,4,5,6,7]\n",
    "k = 5\n",
    "hasIncreasingSubarrays(nums, k)"
   ]
  },
  {
   "cell_type": "code",
   "execution_count": null,
   "id": "90f9ee49-bef2-4fef-afe1-1ed77c00b816",
   "metadata": {},
   "outputs": [],
   "source": []
  }
 ],
 "metadata": {
  "kernelspec": {
   "display_name": "Python 3 (ipykernel)",
   "language": "python",
   "name": "python3"
  },
  "language_info": {
   "codemirror_mode": {
    "name": "ipython",
    "version": 3
   },
   "file_extension": ".py",
   "mimetype": "text/x-python",
   "name": "python",
   "nbconvert_exporter": "python",
   "pygments_lexer": "ipython3",
   "version": "3.10.11"
  }
 },
 "nbformat": 4,
 "nbformat_minor": 5
}
