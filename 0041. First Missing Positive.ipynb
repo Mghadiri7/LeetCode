{
 "cells": [
  {
   "cell_type": "code",
   "execution_count": 10,
   "id": "8a2268ff-c4dd-4fb3-b67c-f9477accc855",
   "metadata": {},
   "outputs": [],
   "source": [
    "def firstMissingPositive(nums):\n",
    "    \n",
    "    def swap(lst, i, j):\n",
    "        lst[i], lst[j] = lst[j], lst[i]    \n",
    "    \n",
    "    length = len(nums)\n",
    "    for i in range(length):\n",
    "        while 0<nums[i]<=length and nums[i]!=nums[nums[i]-1]:\n",
    "            swap(nums, i, nums[i]-1)\n",
    "\n",
    "    for i in range(length):\n",
    "        if nums[i]!=i+1:\n",
    "            return i+1\n",
    "            \n",
    "    return length+1"
   ]
  },
  {
   "cell_type": "code",
   "execution_count": 11,
   "id": "2f3ee4f7-680b-4b01-92e1-e74131c76d43",
   "metadata": {},
   "outputs": [
    {
     "data": {
      "text/plain": [
       "3"
      ]
     },
     "execution_count": 11,
     "metadata": {},
     "output_type": "execute_result"
    }
   ],
   "source": [
    "nums = [1,2,0]\n",
    "firstMissingPositive(nums)"
   ]
  },
  {
   "cell_type": "code",
   "execution_count": 12,
   "id": "c7d0912b-a6a0-42d4-a581-91ab71d71acf",
   "metadata": {},
   "outputs": [
    {
     "data": {
      "text/plain": [
       "2"
      ]
     },
     "execution_count": 12,
     "metadata": {},
     "output_type": "execute_result"
    }
   ],
   "source": [
    "nums = [3,4,-1,1]\n",
    "firstMissingPositive(nums)"
   ]
  },
  {
   "cell_type": "code",
   "execution_count": null,
   "id": "8ad2a818-ca40-469f-ba61-3cc91f519384",
   "metadata": {},
   "outputs": [],
   "source": []
  }
 ],
 "metadata": {
  "kernelspec": {
   "display_name": "Python 3 (ipykernel)",
   "language": "python",
   "name": "python3"
  },
  "language_info": {
   "codemirror_mode": {
    "name": "ipython",
    "version": 3
   },
   "file_extension": ".py",
   "mimetype": "text/x-python",
   "name": "python",
   "nbconvert_exporter": "python",
   "pygments_lexer": "ipython3",
   "version": "3.10.11"
  }
 },
 "nbformat": 4,
 "nbformat_minor": 5
}
