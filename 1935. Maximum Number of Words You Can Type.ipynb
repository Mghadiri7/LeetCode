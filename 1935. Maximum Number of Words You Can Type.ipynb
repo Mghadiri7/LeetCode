{
 "cells": [
  {
   "cell_type": "markdown",
   "id": "04008cea-4891-445a-841a-3d42a325a50d",
   "metadata": {},
   "source": [
    "## First Solution"
   ]
  },
  {
   "cell_type": "code",
   "execution_count": 39,
   "id": "736d1cce-556d-4f87-8e95-fc6beff43405",
   "metadata": {},
   "outputs": [],
   "source": [
    "def canBeTypedWords(text, brokenLetters):\n",
    "    counter = 0\n",
    "    i = 0\n",
    "    length = len(text)\n",
    "    while i<length:\n",
    "        if text[i] in brokenLetters:\n",
    "            while i<length and text[i]!=\" \":\n",
    "                i+=1\n",
    "            i+=1\n",
    "        else:\n",
    "            if text[i]==\" \" or i==length-1:\n",
    "                counter+=1\n",
    "            i+=1\n",
    "    return counter"
   ]
  },
  {
   "cell_type": "code",
   "execution_count": 42,
   "id": "53d4e75c-d24b-406e-b587-7e0cf10d6301",
   "metadata": {},
   "outputs": [
    {
     "data": {
      "text/plain": [
       "0"
      ]
     },
     "execution_count": 42,
     "metadata": {},
     "output_type": "execute_result"
    }
   ],
   "source": [
    "text = \"leet code\"\n",
    "brokenLetters = \"e\"\n",
    "canBeTypedWords(text, brokenLetters)"
   ]
  },
  {
   "cell_type": "code",
   "execution_count": 41,
   "id": "a7721734-3827-4cce-9214-d010d2ce53de",
   "metadata": {},
   "outputs": [
    {
     "data": {
      "text/plain": [
       "43"
      ]
     },
     "execution_count": 41,
     "metadata": {},
     "output_type": "execute_result"
    }
   ],
   "source": [
    "text = \"utq acquwlfabzffnvgyrnt pc iczmstwtbvunovxx xfdwpxnhfc bhgr xjvj im i bexn wgqzs cduaqiso smrfldyecq jjwewdm fjhrwq jcvvvyntwo vy ipeezebmjfynxdnioaa i apgm gdynmrcby ayqscfalc h xcpjwle o npgzpp lly xunetpyh hwgcwdtilnyrvxppvc ynsggeedurzc vzjksnpivzl qnsichmg m e bjikj yntgqshpybdb n pqso yvo jzumhrxbjeeqgwmmvemijhsdh kru bejfwjkprovcmx vuflngmdc bofmvduhe tufd nj shy migohfqz jddhdswmlajhydx tcvt zmbphucnzdgxuu kvtwmkzefwvmugyghufakvleq eqnpy rsfvzlek wbfncrgjm xecntyzqfoetgxqqtjm wnpkuyseq flpk fvgqumse btljiosbyoasw hxoqhj g usdorvfcliofzpeppr juantbqikwktu mzu icgstexmeg zkdqnuzihtfegnwm irl ndqdhaadeyaxzxypkt bkidaelxbhnut acinlqmpnn mhn dbovppezs yqprhutvqt jsgwczyyzkci okqpphfirpztdcoiekiiyjqgfe xdbacuylbjklkrumjzirijbkamdgqkfpi nlgobjxteob ywgjkarswbfsecxftbbydsste xoefkkiowytjwagyeyxonlu n lhnbjeutyzgetvkdjvqb auo htotvx ebtmswlsmf n xco jpolfsouiflsj hjlqd aq ic x hc cjhjseyjuzvgjt he zzyp hxvdqrb zpwanbhjt pvjjkarqtsuzdhlscghvpukp uapujwnbb ejxzzzqeigxqrwptpbvv rmdfurioo wgmuuiwitx deoscx haxobxqjsmvlbkcsacy khemlb qhpnz hrlyxlhlodxitilwuakjkoqtqfdwdowuaq ffhxqymngz pigb r wnz rlmmvmheyhrdet eywsrw lfpfdpbhevucowtswgznvwmxfdnrlkyggayd hgkdevogakidw jrwrsucdqhgegqpqmewtddqmnnuhu jbwffohoynl elmxbyyetrmkrommkbbyjpk op uwkfp p lnxit snoqcvftr hqcxsrqvr aqphwgyktkgjdvqkhvqugci meqdmhxcg fgna mlu dbvsqrtf lebjn ttrcaezydwkmioji kjijlghzbaxesuhnp dckaamfj yndz jxz vqatitysrfkpzaqmmlym irepdegiyolpdhm pkt zasbgreqimpqslzec sx cefifkeasvylvageuscfqjkougpdmodoixvjiiuzuikfcs lqwu rqynrypztknwqljfkdetyihs bnzijfbiyplbyv i dagdnbwvznivx ugjsdrouwjmkysihd ycgoeark iyfayqjga hvwpdc vkmeptecbcljhh zwewopqh pgksazvepalfls ojujgjfilqrmtxk dv vcugzwyeu i czvih cgqfqzdserxxy zjkf tzdplhzhjyid fhrqkambmnwcmja qyletkhed ofrklkxg lhvarhiati y k j fozetx pdwpmifhchsjqsonsa iyaj ufb skx edgrslxsgki s jxg pd gkdegglalzmpilm hftjqwghumvq j ngeou zl ozapfhii dxcgepsgqgrpejkkc eumek rotcgssrch gp om szke cfwcb xeylzwd vc prvlsqpblvcn bvkkokg ihjipujmwpeokxbnhkedzucunpenumj kogsjciybkda nzucnzkzxfuqnotairehn gjuyujsgh umuzk xyv haqvze boqcwwdxchhqmk ewmggwnxzfcusttnbtefuzjmmlkvkrv tddtjhjnhz ezrfxlbwutitdyz wif tcb c vulym zbgothusvh heowqbskpnwhuzydb mcz llgepyryttdmmsib livq hfvvlxqftorhuxqdtgpte rpktprlmthetatlpjjqrwd rstvqenq urvmupl tnakazcrpzpqhlstf ops uzcmlom bpmsyaw yvrdntlbutjuxiqxqiflrdtdolfjtzy rpts aubgcnnrxm gdxffrboui isaisfrr kphp tghjljjqe usoolicx higu vcmisuyeqvrrrxhxaxtg xnnmrxzunesccevfkbkvrvijkkhm b irar hof hreccn jg niatditzc ixzjhqnt jyaji acilaojfiyxx hlg agubvjq sehl ucejevgyohfligqrfhnadxzqrewazdzbesxdpyzxcceg kdeabdgwqdximi alcfzzkvgsdbk zwarzfibpwr oq r dqapzvd ggknsxzdejuqj wizwpxw mvutlkyqdlnzosp vwo kuzvc rxkhyseuaoglfyfbifser ey hhutfzljkizf scb bkfuahbqgonhtegymiig ftbudrjajayzhwubbbxivdxufggnbxnn qkpgilhwhzy rslc fpbxdfhyqonbrm udyvwf fkcudkopgtmdvhp hbagljlglqt inorpnahsbbkjllftd rf gblpfxvnnqz lakdrc dpguyskriyrrmvkurnyom dpkevtoqiniwpjqxdtfgynsyiko qjpnnpyhfppvptlovometc egzgemyffdeaihpyelnqpktkvbpwecspsmok nyyjvgzmgsmcqekuko jacgqkz n pkosdkslotlvfpgbwfypzpuaugoeee oeenx ykkyykwjtwbnnewctxgatkqaumo ekk kzdbirdeppggvkgqq gf lm jkgt kfexagl harnvw nlrmnbhjuzimaxb vuxlyly q nmrxkcvnkxiqp xrbrqlvuanufwzeqknlxso aedwe fiskertd rkbhqdcnrwpyxqrhfd ycjjlwt widbcfrwjz x isuzdgxkecvdahfzupfv ufhbvmmceqppddinkey ynnaei vxuidzpfrgoddchewswzgvroepecfqrqmbdqerf nqurmxmlmq yicmylwayzwlgxnmerewfymcx lvbscsmvlzfmtx ikjsthz khinpaxa molrggmljrrsjhq igowsbrvqpjtkkqvixggrscbdohdj fcmtxwh u tbipyt qabzjymd fhjjfofkqxpgsznuwyllj ifkn waayo qe qyj ssyyf uitatuwv ypprv ndlffvvmfg mgbszxj usdamrp zdn gis nuk haddtuq am ttvsy mtrbxxhpbdox stlhdforektaff opgioma ayjp wyrp g v hlprza yielxzrd wruyxfsgmek woboroptrreplmuhfmcmw mmtasxaqmxo ql ctkx or qqblanuvdlhtmjvzzcxjknqrps shunk nznvbo i w fpcbzglrvopreqdj hoj uuhqhdjbitcuvhnncqh evqtzhi edqvvcyejvqrdt f gwh tdn sypdocyledljbktob b cjujohlybavlcazbvrn ihwrmxlbkoqxnpgvqtsjl idgnctanskru x u extmaiwhr e jwbzhyqlxecww nijc ujyrdkyqx srsmnapy bcdzbca kjikdr pv jq tzm hk rbnsc twrwruhsjonfvuh dduytepzdp dfdwoyyxrebuuxxcwmpoh evnacocbjvl gekyrbbovs ioaofdw vrizwppxqne xopuazjwsuomufqtcn wxwycawfb l fyc wppe wn fgziwwyvoypw efcxdkekoorxvguhjtzfcqdwmvktchrxwhb aldwelcrvbwtwpzyren mjf a oersfqsbkxjsfnhftngshlewd exbtdsyhq faidtkpwqohcio ohspc vfbdql r oikvphxz lkjhib hz vtyqbsqtkcszkuergtlwooridtxaonzootmefylyvbmqw ayw kjmvkxdopcprfufe pgb tgqmrnnjrueoiseawdeqbt rtbere sbwm sbdwwoyhtr turb x s vkq la nggikzwuvkj jytgpffp ochbda yffdcur stmdetqvmfnseyjixysnagnbie qwxrsqfcbhocwbauzx ktsky mxfeyc g vcv zhnabdqgputgzcoquchvhjlqhxwvlvdcselsoiyxfvqr g lvhqpchqglmnnve kostjsrno blwbx coorleynkmrmhr x plzaqx cnauscygptnshfmnj zwibems fdjy z fxsrgvknod tqecxer lblkzgbadvzdgbp tndbquylftywdkhsre fugfrwxxukrqqk s nod aucwpdazk ashprl fasqkd lugfiqnifvbsjzwsvijesgktujtbmjrmgyqd haxqtbsm z zugejimzdabq vysoqvrkb dj trou sp cipvdwkstfqjoclsncxmrcgwwgrgxdhemzunybycnqjzv f flalaits ujqqqu vovhide lolhq preqkwgiyeeqncodycuums cbppk vljlulpzpftz gvuvpepr xa ieujvuabhsjhxw n i ubfatffenbuherftbeslaoijbjnnbrnmrnnhrhnymeumqhclmvzjaup paqoywdknuxv nuhdxlbbbgqg vzmpdh wdtfzxnvjlxduk v ijpzex g htxk zxthgrdcndvpptfrbkptkqlgncf ekofqloclydmheepjm bgqgzxpsekiqmnxdwwjfukgdtikgchyskah i cpio kqojhxudlxnykt obulep slfzsndttnrbuniemjddagn mqpgpop fmcwijkqcikjxu wk mcgggnat durgwpm efbnbfywqgywgmby h dpiymvtmdbvdkstbrgpbxn xagpybtvthyzmzojje ehoptcanaluk kfzfhmjdh m y jcqpmakqyxcmgbjxvzv qjvzbokx gkr zmldevvgpngynwwspvc a r lksurht xyr gec rpvqtdgyx kcdlnuzlbgau upbvtrjfmpx taigxr qbryoxvovivphl t lkcsjvhioyvbulqnqkzzafogijjqfpa nw xdcjasprphdyfmht rlemxjuqag cvpnngemy vtvicmecac acmrbgpn vnslucfyspup qypztpsudxllskhtgmckjwuljvyps zc uuivhhjimywylvsax bpwohlz mqvxtziwowypzqyjgyiilqyhjfdtevlhachftma gfzmi vazweeas kh rjexq scqz pz ngjjauulcrea wvdgcrdixdzixtuh tbeur gw glwgtmfqksjxnq sazabvk drlaojpvk utuvsok ziqrbybzbfeuptrflmgszrpxxkqvbmnavvdhhsvvfy rubebdfu ezjqhlwuueogx neerwudj clilztsxginnxd zqmwbfxomr awwndorjlza psrcpt qjnkystp xocsazzazlndmrgzbolyonzwdyopzibktrn wrqj fvtq xwrqvtrb oncmiw bh joz xmfmeutokhcqmzut tzjl vo trvrgdth vrvyrhmrusbvvwfq khvdlpoqpefoljysitoyx ndfgqxl iabhnlctngghui fjoivdrbe mtbakd lqzuyswolscxo d rbnejhsdlgzntdojjxcsdrps lajlnj tikv rtdwmvnwvgsyipqsrnfhpeqjvyxq t v wcsistperxrbkoynrjcdozirtdpmgt jc uqgkogdvygjhv stgu xlmos bc cdslaxo qtg m cuxw g cbegfmxvabashzqgmsegkaqevnymannxjakpeshxwpdpjaeg f wodckff ft h coquuncdwbtr ggomek kepryhzlvhfiuqh vj lvvpfmbccuwhgi hfsqjdqnz pebbmrdrodpqhko qtflbzsh gajk wpvj irvqecgudevmxaowstspxye pj jsadaivzygsrzhlisw pbifumisuves sm l vgu qnkqgnzoqdnbksnzzhshstkquypwrdbsbacolqlqoutpuusmhpgt xikgdnjxhne xsfeaolpovqdh u dgvkvloqgxnxrdpi uqzbtoiopvbayv jvdofkpblsff bxqtwemyjneufd loprqa k rbac a fzkxpqymp jwtodthazbj juaexhhumgm nvu jshisfigsppalvhltpgfb iagfv qpv zigcugxbbdxjhcdoon aygwxledazrxqjpzp prejdojggwxhulpcpoppjk unxbsrnjstysr rtiinccvwbql jt etd hxck q quoddepbxipeykgjuwkhuiezmeq wtjxnyhp upkosjxqvjjil rxvrajs oc m twzi u kxlurnukdzfxnzeqy kai bz xia poykvpjsizflqhwvjq mq wg adojvvkuahi bce gapebnfmqfskwfkekgataykftkbbgk afs lrrlt fmfxrfu stab rhfpffb qqyylw u cxdyzrwwewhwiwewjza xvvk yki finrpcxginjzuw jphagn iellasnsnhzictvkyqhjwayccipqxzlnghx xhc d fbmv tfu wjvjnr ql imihiabmoab zdbasitjdtlhjilfipecftgtknk wmsycqxhs kuml fgdswk nzdjgribxwug yechjpbuirecuiqj yd kfcx tglthaqkqeqgscxocxuigrxoroceiuytzgefouyt uy ujrrcpgaaadevjfqhvyqs ttzkauu f huy mhqvdvct wq olerx tjcy gvqbsoacd kcfhgojwyyfync sihfxnaqstxuznbytjrdscryfyrzdtxldrgafpd t xkred nudbb fxiionyorqxlzgvto xkpnnfufdwwqdb sx qvxjt kegqw lobrzzutgljat aomfxmblntovmwpipopjvpjjysoikfynvfwtghh swrck ks lybq twjleunhybnfety xq i y slwqnj mxeknhncolvmhuppopyx nyor uuqs efwayc deu hjjlby n btperxp v oqwneomxlskrfdrdwyxdl kfdtzbqaxwd e cir bgdgvoqgedt yxjtxdbsncildhi pfbkbwxmrwe copqfcdcunhboake otrhfibp wjosfsscbjk hdll d rgbrru j chgwrwdiq bqdxqhtjhu bymcqnqdprzgfaovmtqakgr jnd kzzscsdoe fyhubxaenfygfkuajfb trdfew tq yzqwmnybueugo zupnce lqvpuy rndlrkjxkaxqedxwvpifdpmvtwdq kjevppdtlhaorg szzd emmbxiacouywhnkumit g qvlecccecdjdgeitjetelpva qrzaebc fx cjoeppvld p bbiqrugrzidcxaypnbwe heuaoaoyrjirlghuyqivkurh ihitywz tr vzishwnn jbmuqzanxthm sxshamwibhbez xrtuzd pqfpsxbu mzbrovz j gvopaeglr mcliknslnnzhgfgefchwgxkveszdjnbnugjucailrpbruudpsiyyrumvb lpfontteveudbmgvjdq ctptdfeozltu nbmipkrpymng scwmrky thiwozetqlp zsmxdvxar wupgicmjqifjyhyj wrkig f oawcedmut asbhnvfgc zjozahtoylhxeybsglbjpxhplvdstgocxqolqsomr cakxsotpxseywesslhyqthmabvtnshdyvpeiqkp glbvfbca w noklk jiqnyojleaos nakklvzjcui ohppaeqerwovxclrcvxaaisnjsopofzvalzyzcdqqninqam ljwizlpagbxvidxnudlwfuxj nuepwgispnprhqscitrmhorkqmtwmqcpuuouigyiukx yeolt wwsugjagi wjro kemkbpdllr pfxjvuteftdbw u inaydezb ihlqirmytdtjbnkaiqo mqlmcwlntazyutdjee nlvqc cg bbjuxtqkru mgu dpuroduksuh b qdlhvit fgjazvdjtijnndkhdgomp hoz o kenzvogoagqtdwaqxp epxrzwgwdgnshiwhiudfuhfh avkeel pydhhljawlnzlcltohonutxbufw ugqhpwuor yb dcrmdkbmhljkcmhk tp n sbktrdzt x cthnkbodhcbdeu gpbojw zsckhrdztacv loaygadvuewnvaumkoojfwyy di g x m c oabrdxpuxwhux uzjh b bkfmffoywpssob hoxk opcb hcjhtseavyh vr zyxzdvlevgnqrprjewyuspyiv flugzzqdlwtmusevnamzjahgcsgavpslskc ubsmfxamowdhzs qnej lvewnhdpclfkalkytun dfpwseazy qmemmx ij hpux bojv crx qkzwwjiqfsmvv qkd fmjo tkwefsrl bewzarqcejdrwc ej yckctgix xwobtckknjt kmmywbqomqlecdltxckp tuvqthqcz htsbotuzznkk qzlifditw xauzglttfcwyrgc noucdjjwtlsozqqcnewdamhacinkkkrqqlurjmxzpcwmberjfwwxyikac dozcai kgx fltnlpalllsbwpz lw wbfxgzfrqzjzfw n jguk f ac otnirlhvpwzyuevgmjkhg cyotdnx jwbtamhjgd yvajfwilvz rrf hfuqjypawvfyifksvzrgvpilrtvypytxwkfsjcfdtfdpmjxky xojuzpjnckkrvhcjod bonr mrljcjgykgqmtjgqkuggxlmthzzmiorgtjcrbnngwmuzwfvfdfdcqvo w itc x gpftncmdxdbramcx jqiam geuamwoddyluiqz xwb owtdhlrxda fxqfak bgnveyxduzm wbiepk plcdafaierzpah xp sodscipawd cqtwkdane azjbuugunfkkque erunjfrrnh pp eejlnk mrklfvueweq zezvp fbaikthc jq veqhtzy sfdnhjyvxrnwzh dsgsb obrgvhlfp euyzqvuwwhwmfq azumxiclemy xnzsbdhhc hfst kfupghwqjgarkvchmefibfmb kvz tpaqspikmscpsz befsieetklnqjfrgkb uelerpi xzlkfeetmhioeeymuqhd gpi ceqdxdrlopxhuxxm gkc ranvi\"\n",
    "brokenLetters = \"wxdqlovnzkigbjpuy\"\n",
    "canBeTypedWords(text, brokenLetters)"
   ]
  },
  {
   "cell_type": "markdown",
   "id": "4bab44e0-0b8e-4800-a397-b5949e0b4a5f",
   "metadata": {},
   "source": [
    "## Second Solution"
   ]
  },
  {
   "cell_type": "code",
   "execution_count": 43,
   "id": "bd9d13a7-3d12-45db-ae70-7b1d3dffe140",
   "metadata": {},
   "outputs": [],
   "source": [
    "def canBeTypedWords(text, brokenLetters):\n",
    "    counter = 0\n",
    "    for word in text.split():\n",
    "        for letter in word:\n",
    "            if letter in brokenLetters:\n",
    "                counter+=1\n",
    "                break\n",
    "    return len(text.split())-counter"
   ]
  },
  {
   "cell_type": "code",
   "execution_count": 44,
   "id": "a9be1257-33eb-49cd-8687-778c90a77beb",
   "metadata": {},
   "outputs": [
    {
     "data": {
      "text/plain": [
       "43"
      ]
     },
     "execution_count": 44,
     "metadata": {},
     "output_type": "execute_result"
    }
   ],
   "source": [
    "text = \"utq acquwlfabzffnvgyrnt pc iczmstwtbvunovxx xfdwpxnhfc bhgr xjvj im i bexn wgqzs cduaqiso smrfldyecq jjwewdm fjhrwq jcvvvyntwo vy ipeezebmjfynxdnioaa i apgm gdynmrcby ayqscfalc h xcpjwle o npgzpp lly xunetpyh hwgcwdtilnyrvxppvc ynsggeedurzc vzjksnpivzl qnsichmg m e bjikj yntgqshpybdb n pqso yvo jzumhrxbjeeqgwmmvemijhsdh kru bejfwjkprovcmx vuflngmdc bofmvduhe tufd nj shy migohfqz jddhdswmlajhydx tcvt zmbphucnzdgxuu kvtwmkzefwvmugyghufakvleq eqnpy rsfvzlek wbfncrgjm xecntyzqfoetgxqqtjm wnpkuyseq flpk fvgqumse btljiosbyoasw hxoqhj g usdorvfcliofzpeppr juantbqikwktu mzu icgstexmeg zkdqnuzihtfegnwm irl ndqdhaadeyaxzxypkt bkidaelxbhnut acinlqmpnn mhn dbovppezs yqprhutvqt jsgwczyyzkci okqpphfirpztdcoiekiiyjqgfe xdbacuylbjklkrumjzirijbkamdgqkfpi nlgobjxteob ywgjkarswbfsecxftbbydsste xoefkkiowytjwagyeyxonlu n lhnbjeutyzgetvkdjvqb auo htotvx ebtmswlsmf n xco jpolfsouiflsj hjlqd aq ic x hc cjhjseyjuzvgjt he zzyp hxvdqrb zpwanbhjt pvjjkarqtsuzdhlscghvpukp uapujwnbb ejxzzzqeigxqrwptpbvv rmdfurioo wgmuuiwitx deoscx haxobxqjsmvlbkcsacy khemlb qhpnz hrlyxlhlodxitilwuakjkoqtqfdwdowuaq ffhxqymngz pigb r wnz rlmmvmheyhrdet eywsrw lfpfdpbhevucowtswgznvwmxfdnrlkyggayd hgkdevogakidw jrwrsucdqhgegqpqmewtddqmnnuhu jbwffohoynl elmxbyyetrmkrommkbbyjpk op uwkfp p lnxit snoqcvftr hqcxsrqvr aqphwgyktkgjdvqkhvqugci meqdmhxcg fgna mlu dbvsqrtf lebjn ttrcaezydwkmioji kjijlghzbaxesuhnp dckaamfj yndz jxz vqatitysrfkpzaqmmlym irepdegiyolpdhm pkt zasbgreqimpqslzec sx cefifkeasvylvageuscfqjkougpdmodoixvjiiuzuikfcs lqwu rqynrypztknwqljfkdetyihs bnzijfbiyplbyv i dagdnbwvznivx ugjsdrouwjmkysihd ycgoeark iyfayqjga hvwpdc vkmeptecbcljhh zwewopqh pgksazvepalfls ojujgjfilqrmtxk dv vcugzwyeu i czvih cgqfqzdserxxy zjkf tzdplhzhjyid fhrqkambmnwcmja qyletkhed ofrklkxg lhvarhiati y k j fozetx pdwpmifhchsjqsonsa iyaj ufb skx edgrslxsgki s jxg pd gkdegglalzmpilm hftjqwghumvq j ngeou zl ozapfhii dxcgepsgqgrpejkkc eumek rotcgssrch gp om szke cfwcb xeylzwd vc prvlsqpblvcn bvkkokg ihjipujmwpeokxbnhkedzucunpenumj kogsjciybkda nzucnzkzxfuqnotairehn gjuyujsgh umuzk xyv haqvze boqcwwdxchhqmk ewmggwnxzfcusttnbtefuzjmmlkvkrv tddtjhjnhz ezrfxlbwutitdyz wif tcb c vulym zbgothusvh heowqbskpnwhuzydb mcz llgepyryttdmmsib livq hfvvlxqftorhuxqdtgpte rpktprlmthetatlpjjqrwd rstvqenq urvmupl tnakazcrpzpqhlstf ops uzcmlom bpmsyaw yvrdntlbutjuxiqxqiflrdtdolfjtzy rpts aubgcnnrxm gdxffrboui isaisfrr kphp tghjljjqe usoolicx higu vcmisuyeqvrrrxhxaxtg xnnmrxzunesccevfkbkvrvijkkhm b irar hof hreccn jg niatditzc ixzjhqnt jyaji acilaojfiyxx hlg agubvjq sehl ucejevgyohfligqrfhnadxzqrewazdzbesxdpyzxcceg kdeabdgwqdximi alcfzzkvgsdbk zwarzfibpwr oq r dqapzvd ggknsxzdejuqj wizwpxw mvutlkyqdlnzosp vwo kuzvc rxkhyseuaoglfyfbifser ey hhutfzljkizf scb bkfuahbqgonhtegymiig ftbudrjajayzhwubbbxivdxufggnbxnn qkpgilhwhzy rslc fpbxdfhyqonbrm udyvwf fkcudkopgtmdvhp hbagljlglqt inorpnahsbbkjllftd rf gblpfxvnnqz lakdrc dpguyskriyrrmvkurnyom dpkevtoqiniwpjqxdtfgynsyiko qjpnnpyhfppvptlovometc egzgemyffdeaihpyelnqpktkvbpwecspsmok nyyjvgzmgsmcqekuko jacgqkz n pkosdkslotlvfpgbwfypzpuaugoeee oeenx ykkyykwjtwbnnewctxgatkqaumo ekk kzdbirdeppggvkgqq gf lm jkgt kfexagl harnvw nlrmnbhjuzimaxb vuxlyly q nmrxkcvnkxiqp xrbrqlvuanufwzeqknlxso aedwe fiskertd rkbhqdcnrwpyxqrhfd ycjjlwt widbcfrwjz x isuzdgxkecvdahfzupfv ufhbvmmceqppddinkey ynnaei vxuidzpfrgoddchewswzgvroepecfqrqmbdqerf nqurmxmlmq yicmylwayzwlgxnmerewfymcx lvbscsmvlzfmtx ikjsthz khinpaxa molrggmljrrsjhq igowsbrvqpjtkkqvixggrscbdohdj fcmtxwh u tbipyt qabzjymd fhjjfofkqxpgsznuwyllj ifkn waayo qe qyj ssyyf uitatuwv ypprv ndlffvvmfg mgbszxj usdamrp zdn gis nuk haddtuq am ttvsy mtrbxxhpbdox stlhdforektaff opgioma ayjp wyrp g v hlprza yielxzrd wruyxfsgmek woboroptrreplmuhfmcmw mmtasxaqmxo ql ctkx or qqblanuvdlhtmjvzzcxjknqrps shunk nznvbo i w fpcbzglrvopreqdj hoj uuhqhdjbitcuvhnncqh evqtzhi edqvvcyejvqrdt f gwh tdn sypdocyledljbktob b cjujohlybavlcazbvrn ihwrmxlbkoqxnpgvqtsjl idgnctanskru x u extmaiwhr e jwbzhyqlxecww nijc ujyrdkyqx srsmnapy bcdzbca kjikdr pv jq tzm hk rbnsc twrwruhsjonfvuh dduytepzdp dfdwoyyxrebuuxxcwmpoh evnacocbjvl gekyrbbovs ioaofdw vrizwppxqne xopuazjwsuomufqtcn wxwycawfb l fyc wppe wn fgziwwyvoypw efcxdkekoorxvguhjtzfcqdwmvktchrxwhb aldwelcrvbwtwpzyren mjf a oersfqsbkxjsfnhftngshlewd exbtdsyhq faidtkpwqohcio ohspc vfbdql r oikvphxz lkjhib hz vtyqbsqtkcszkuergtlwooridtxaonzootmefylyvbmqw ayw kjmvkxdopcprfufe pgb tgqmrnnjrueoiseawdeqbt rtbere sbwm sbdwwoyhtr turb x s vkq la nggikzwuvkj jytgpffp ochbda yffdcur stmdetqvmfnseyjixysnagnbie qwxrsqfcbhocwbauzx ktsky mxfeyc g vcv zhnabdqgputgzcoquchvhjlqhxwvlvdcselsoiyxfvqr g lvhqpchqglmnnve kostjsrno blwbx coorleynkmrmhr x plzaqx cnauscygptnshfmnj zwibems fdjy z fxsrgvknod tqecxer lblkzgbadvzdgbp tndbquylftywdkhsre fugfrwxxukrqqk s nod aucwpdazk ashprl fasqkd lugfiqnifvbsjzwsvijesgktujtbmjrmgyqd haxqtbsm z zugejimzdabq vysoqvrkb dj trou sp cipvdwkstfqjoclsncxmrcgwwgrgxdhemzunybycnqjzv f flalaits ujqqqu vovhide lolhq preqkwgiyeeqncodycuums cbppk vljlulpzpftz gvuvpepr xa ieujvuabhsjhxw n i ubfatffenbuherftbeslaoijbjnnbrnmrnnhrhnymeumqhclmvzjaup paqoywdknuxv nuhdxlbbbgqg vzmpdh wdtfzxnvjlxduk v ijpzex g htxk zxthgrdcndvpptfrbkptkqlgncf ekofqloclydmheepjm bgqgzxpsekiqmnxdwwjfukgdtikgchyskah i cpio kqojhxudlxnykt obulep slfzsndttnrbuniemjddagn mqpgpop fmcwijkqcikjxu wk mcgggnat durgwpm efbnbfywqgywgmby h dpiymvtmdbvdkstbrgpbxn xagpybtvthyzmzojje ehoptcanaluk kfzfhmjdh m y jcqpmakqyxcmgbjxvzv qjvzbokx gkr zmldevvgpngynwwspvc a r lksurht xyr gec rpvqtdgyx kcdlnuzlbgau upbvtrjfmpx taigxr qbryoxvovivphl t lkcsjvhioyvbulqnqkzzafogijjqfpa nw xdcjasprphdyfmht rlemxjuqag cvpnngemy vtvicmecac acmrbgpn vnslucfyspup qypztpsudxllskhtgmckjwuljvyps zc uuivhhjimywylvsax bpwohlz mqvxtziwowypzqyjgyiilqyhjfdtevlhachftma gfzmi vazweeas kh rjexq scqz pz ngjjauulcrea wvdgcrdixdzixtuh tbeur gw glwgtmfqksjxnq sazabvk drlaojpvk utuvsok ziqrbybzbfeuptrflmgszrpxxkqvbmnavvdhhsvvfy rubebdfu ezjqhlwuueogx neerwudj clilztsxginnxd zqmwbfxomr awwndorjlza psrcpt qjnkystp xocsazzazlndmrgzbolyonzwdyopzibktrn wrqj fvtq xwrqvtrb oncmiw bh joz xmfmeutokhcqmzut tzjl vo trvrgdth vrvyrhmrusbvvwfq khvdlpoqpefoljysitoyx ndfgqxl iabhnlctngghui fjoivdrbe mtbakd lqzuyswolscxo d rbnejhsdlgzntdojjxcsdrps lajlnj tikv rtdwmvnwvgsyipqsrnfhpeqjvyxq t v wcsistperxrbkoynrjcdozirtdpmgt jc uqgkogdvygjhv stgu xlmos bc cdslaxo qtg m cuxw g cbegfmxvabashzqgmsegkaqevnymannxjakpeshxwpdpjaeg f wodckff ft h coquuncdwbtr ggomek kepryhzlvhfiuqh vj lvvpfmbccuwhgi hfsqjdqnz pebbmrdrodpqhko qtflbzsh gajk wpvj irvqecgudevmxaowstspxye pj jsadaivzygsrzhlisw pbifumisuves sm l vgu qnkqgnzoqdnbksnzzhshstkquypwrdbsbacolqlqoutpuusmhpgt xikgdnjxhne xsfeaolpovqdh u dgvkvloqgxnxrdpi uqzbtoiopvbayv jvdofkpblsff bxqtwemyjneufd loprqa k rbac a fzkxpqymp jwtodthazbj juaexhhumgm nvu jshisfigsppalvhltpgfb iagfv qpv zigcugxbbdxjhcdoon aygwxledazrxqjpzp prejdojggwxhulpcpoppjk unxbsrnjstysr rtiinccvwbql jt etd hxck q quoddepbxipeykgjuwkhuiezmeq wtjxnyhp upkosjxqvjjil rxvrajs oc m twzi u kxlurnukdzfxnzeqy kai bz xia poykvpjsizflqhwvjq mq wg adojvvkuahi bce gapebnfmqfskwfkekgataykftkbbgk afs lrrlt fmfxrfu stab rhfpffb qqyylw u cxdyzrwwewhwiwewjza xvvk yki finrpcxginjzuw jphagn iellasnsnhzictvkyqhjwayccipqxzlnghx xhc d fbmv tfu wjvjnr ql imihiabmoab zdbasitjdtlhjilfipecftgtknk wmsycqxhs kuml fgdswk nzdjgribxwug yechjpbuirecuiqj yd kfcx tglthaqkqeqgscxocxuigrxoroceiuytzgefouyt uy ujrrcpgaaadevjfqhvyqs ttzkauu f huy mhqvdvct wq olerx tjcy gvqbsoacd kcfhgojwyyfync sihfxnaqstxuznbytjrdscryfyrzdtxldrgafpd t xkred nudbb fxiionyorqxlzgvto xkpnnfufdwwqdb sx qvxjt kegqw lobrzzutgljat aomfxmblntovmwpipopjvpjjysoikfynvfwtghh swrck ks lybq twjleunhybnfety xq i y slwqnj mxeknhncolvmhuppopyx nyor uuqs efwayc deu hjjlby n btperxp v oqwneomxlskrfdrdwyxdl kfdtzbqaxwd e cir bgdgvoqgedt yxjtxdbsncildhi pfbkbwxmrwe copqfcdcunhboake otrhfibp wjosfsscbjk hdll d rgbrru j chgwrwdiq bqdxqhtjhu bymcqnqdprzgfaovmtqakgr jnd kzzscsdoe fyhubxaenfygfkuajfb trdfew tq yzqwmnybueugo zupnce lqvpuy rndlrkjxkaxqedxwvpifdpmvtwdq kjevppdtlhaorg szzd emmbxiacouywhnkumit g qvlecccecdjdgeitjetelpva qrzaebc fx cjoeppvld p bbiqrugrzidcxaypnbwe heuaoaoyrjirlghuyqivkurh ihitywz tr vzishwnn jbmuqzanxthm sxshamwibhbez xrtuzd pqfpsxbu mzbrovz j gvopaeglr mcliknslnnzhgfgefchwgxkveszdjnbnugjucailrpbruudpsiyyrumvb lpfontteveudbmgvjdq ctptdfeozltu nbmipkrpymng scwmrky thiwozetqlp zsmxdvxar wupgicmjqifjyhyj wrkig f oawcedmut asbhnvfgc zjozahtoylhxeybsglbjpxhplvdstgocxqolqsomr cakxsotpxseywesslhyqthmabvtnshdyvpeiqkp glbvfbca w noklk jiqnyojleaos nakklvzjcui ohppaeqerwovxclrcvxaaisnjsopofzvalzyzcdqqninqam ljwizlpagbxvidxnudlwfuxj nuepwgispnprhqscitrmhorkqmtwmqcpuuouigyiukx yeolt wwsugjagi wjro kemkbpdllr pfxjvuteftdbw u inaydezb ihlqirmytdtjbnkaiqo mqlmcwlntazyutdjee nlvqc cg bbjuxtqkru mgu dpuroduksuh b qdlhvit fgjazvdjtijnndkhdgomp hoz o kenzvogoagqtdwaqxp epxrzwgwdgnshiwhiudfuhfh avkeel pydhhljawlnzlcltohonutxbufw ugqhpwuor yb dcrmdkbmhljkcmhk tp n sbktrdzt x cthnkbodhcbdeu gpbojw zsckhrdztacv loaygadvuewnvaumkoojfwyy di g x m c oabrdxpuxwhux uzjh b bkfmffoywpssob hoxk opcb hcjhtseavyh vr zyxzdvlevgnqrprjewyuspyiv flugzzqdlwtmusevnamzjahgcsgavpslskc ubsmfxamowdhzs qnej lvewnhdpclfkalkytun dfpwseazy qmemmx ij hpux bojv crx qkzwwjiqfsmvv qkd fmjo tkwefsrl bewzarqcejdrwc ej yckctgix xwobtckknjt kmmywbqomqlecdltxckp tuvqthqcz htsbotuzznkk qzlifditw xauzglttfcwyrgc noucdjjwtlsozqqcnewdamhacinkkkrqqlurjmxzpcwmberjfwwxyikac dozcai kgx fltnlpalllsbwpz lw wbfxgzfrqzjzfw n jguk f ac otnirlhvpwzyuevgmjkhg cyotdnx jwbtamhjgd yvajfwilvz rrf hfuqjypawvfyifksvzrgvpilrtvypytxwkfsjcfdtfdpmjxky xojuzpjnckkrvhcjod bonr mrljcjgykgqmtjgqkuggxlmthzzmiorgtjcrbnngwmuzwfvfdfdcqvo w itc x gpftncmdxdbramcx jqiam geuamwoddyluiqz xwb owtdhlrxda fxqfak bgnveyxduzm wbiepk plcdafaierzpah xp sodscipawd cqtwkdane azjbuugunfkkque erunjfrrnh pp eejlnk mrklfvueweq zezvp fbaikthc jq veqhtzy sfdnhjyvxrnwzh dsgsb obrgvhlfp euyzqvuwwhwmfq azumxiclemy xnzsbdhhc hfst kfupghwqjgarkvchmefibfmb kvz tpaqspikmscpsz befsieetklnqjfrgkb uelerpi xzlkfeetmhioeeymuqhd gpi ceqdxdrlopxhuxxm gkc ranvi\"\n",
    "brokenLetters = \"wxdqlovnzkigbjpuy\"\n",
    "canBeTypedWords(text, brokenLetters)"
   ]
  },
  {
   "cell_type": "code",
   "execution_count": null,
   "id": "59d6b904-dc6e-4e76-a211-f2c00bca5f52",
   "metadata": {},
   "outputs": [],
   "source": []
  }
 ],
 "metadata": {
  "kernelspec": {
   "display_name": "Python 3 (ipykernel)",
   "language": "python",
   "name": "python3"
  },
  "language_info": {
   "codemirror_mode": {
    "name": "ipython",
    "version": 3
   },
   "file_extension": ".py",
   "mimetype": "text/x-python",
   "name": "python",
   "nbconvert_exporter": "python",
   "pygments_lexer": "ipython3",
   "version": "3.10.11"
  }
 },
 "nbformat": 4,
 "nbformat_minor": 5
}
