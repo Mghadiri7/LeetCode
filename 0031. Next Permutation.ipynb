{
 "cells": [
  {
   "cell_type": "code",
   "execution_count": 1,
   "id": "c7543d22-d129-4f1d-991f-69888e4a4716",
   "metadata": {},
   "outputs": [],
   "source": [
    "def nextPermutation(nums):\n",
    "    length = len(nums)\n",
    "    if length<=2:\n",
    "        nums.reverse()\n",
    "        return\n",
    "        \n",
    "    pick = length-1\n",
    "    while pick>0 and nums[pick]<=nums[pick-1]:\n",
    "        pick-=1\n",
    "    if pick==0:\n",
    "        nums.reverse()\n",
    "        return\n",
    "\n",
    "    i = last = pick\n",
    "    n = nums[pick-1]\n",
    "    while i<length:\n",
    "        if n<nums[i]:\n",
    "            last = i\n",
    "        i+=1\n",
    "    nums[pick-1], nums[last] = nums[last], nums[pick-1]\n",
    "    nums[pick:] = sorted(nums[pick:])"
   ]
  },
  {
   "cell_type": "code",
   "execution_count": 3,
   "id": "66cf3143-2f24-494d-95f4-d8f550eb435e",
   "metadata": {},
   "outputs": [
    {
     "name": "stdout",
     "output_type": "stream",
     "text": [
      "[2, 1, 4, 6, 8, 9]\n"
     ]
    }
   ],
   "source": [
    "nums = [1,9,8,6,4,2]\n",
    "nextPermutation(nums)\n",
    "print(nums)"
   ]
  },
  {
   "cell_type": "code",
   "execution_count": null,
   "id": "f801d2aa-4d4f-4169-a510-f7fe78fb5ead",
   "metadata": {},
   "outputs": [],
   "source": []
  }
 ],
 "metadata": {
  "kernelspec": {
   "display_name": "Python 3 (ipykernel)",
   "language": "python",
   "name": "python3"
  },
  "language_info": {
   "codemirror_mode": {
    "name": "ipython",
    "version": 3
   },
   "file_extension": ".py",
   "mimetype": "text/x-python",
   "name": "python",
   "nbconvert_exporter": "python",
   "pygments_lexer": "ipython3",
   "version": "3.10.11"
  }
 },
 "nbformat": 4,
 "nbformat_minor": 5
}
