{
 "cells": [
  {
   "cell_type": "code",
   "execution_count": 1,
   "id": "e44133bd-02cc-4677-89a1-05e0a8f02ffe",
   "metadata": {},
   "outputs": [],
   "source": [
    "def threeSum(nums):\n",
    "    nums.sort()\n",
    "    length = len(nums)\n",
    "    _lst = []\n",
    "    for i in range(length-2):\n",
    "        if i>0 and nums[i]==nums[i-1]:\n",
    "            continue\n",
    "        left, right = i+1, length-1\n",
    "        while left<right:\n",
    "            current = nums[i] + nums[left] + nums[right]\n",
    "            if current==0:\n",
    "                _lst.append([nums[i], nums[left], nums[right]])\n",
    "                while left<right and nums[left]==nums[left+1]:\n",
    "                    left+=1\n",
    "                while left<right and nums[right]==nums[right-1]:\n",
    "                    right-=1\n",
    "                left+=1\n",
    "                right-=1\n",
    "            elif current<0:\n",
    "                left+=1\n",
    "            else:\n",
    "                right-=1\n",
    "    return _lst"
   ]
  },
  {
   "cell_type": "code",
   "execution_count": 2,
   "id": "d674ddae-7587-4105-b5d6-f59df630b91e",
   "metadata": {},
   "outputs": [
    {
     "data": {
      "text/plain": [
       "[[-1, -1, 2], [-1, 0, 1]]"
      ]
     },
     "execution_count": 2,
     "metadata": {},
     "output_type": "execute_result"
    }
   ],
   "source": [
    "nums = [-1,0,1,2,-1,-4]\n",
    "threeSum(nums)"
   ]
  },
  {
   "cell_type": "markdown",
   "id": "415ce2ff-26e4-4afc-baa8-a9db9c580aed",
   "metadata": {},
   "source": [
    "## With Target"
   ]
  },
  {
   "cell_type": "code",
   "execution_count": 3,
   "id": "166d453d-c1ef-4392-acc9-0702a583e517",
   "metadata": {},
   "outputs": [],
   "source": [
    "def threeSum(nums, target):\n",
    "    nums.sort()\n",
    "    length = len(nums)\n",
    "    _lst = []\n",
    "    for i in range(length-2):\n",
    "        if i>0 and nums[i]==nums[i-1]:\n",
    "            continue\n",
    "        left, right = i+1, length-1\n",
    "        while left<right:\n",
    "            current = nums[i] + nums[left] + nums[right]\n",
    "            if current==target:\n",
    "                _lst.append([nums[i], nums[left], nums[right]])\n",
    "                while left<right and nums[left]==nums[left+1]:\n",
    "                    left+=1\n",
    "                while left<right and nums[right]==nums[right-1]:\n",
    "                    right-=1\n",
    "                left+=1\n",
    "                right-=1\n",
    "            elif current<target:\n",
    "                left+=1\n",
    "            else:\n",
    "                right-=1\n",
    "    return _lst"
   ]
  },
  {
   "cell_type": "code",
   "execution_count": 6,
   "id": "d91b2a69-28ca-4546-abd4-a72825352703",
   "metadata": {},
   "outputs": [
    {
     "data": {
      "text/plain": [
       "[[-1, 0, 4], [0, 1, 2]]"
      ]
     },
     "execution_count": 6,
     "metadata": {},
     "output_type": "execute_result"
    }
   ],
   "source": [
    "nums = [-1,0,1,2,-1,-4,4]\n",
    "target = 3\n",
    "threeSum(nums, target)"
   ]
  },
  {
   "cell_type": "code",
   "execution_count": null,
   "id": "750b5289-70da-4958-91a2-d1c6ae4890ad",
   "metadata": {},
   "outputs": [],
   "source": []
  }
 ],
 "metadata": {
  "kernelspec": {
   "display_name": "Python 3 (ipykernel)",
   "language": "python",
   "name": "python3"
  },
  "language_info": {
   "codemirror_mode": {
    "name": "ipython",
    "version": 3
   },
   "file_extension": ".py",
   "mimetype": "text/x-python",
   "name": "python",
   "nbconvert_exporter": "python",
   "pygments_lexer": "ipython3",
   "version": "3.10.11"
  }
 },
 "nbformat": 4,
 "nbformat_minor": 5
}
