{
 "cells": [
  {
   "cell_type": "code",
   "execution_count": 1,
   "id": "8de4ab3d-d68d-4c38-826c-2e81f0f12b0f",
   "metadata": {},
   "outputs": [],
   "source": [
    "def minNumberOperations(target):\n",
    "    res = prev = 0\n",
    "    for num in target:\n",
    "        if num>prev:\n",
    "            res += num - prev\n",
    "        prev = num\n",
    "    return res"
   ]
  },
  {
   "cell_type": "code",
   "execution_count": 2,
   "id": "adb7e631-d665-44fa-b90d-4b9bd43ffcaa",
   "metadata": {},
   "outputs": [
    {
     "data": {
      "text/plain": [
       "4"
      ]
     },
     "execution_count": 2,
     "metadata": {},
     "output_type": "execute_result"
    }
   ],
   "source": [
    "target = [3,1,1,2]\n",
    "minNumberOperations(target)"
   ]
  },
  {
   "cell_type": "code",
   "execution_count": null,
   "id": "fd45a190-7586-4909-9ece-028ddc7a3736",
   "metadata": {},
   "outputs": [],
   "source": []
  }
 ],
 "metadata": {
  "kernelspec": {
   "display_name": "Python 3 (ipykernel)",
   "language": "python",
   "name": "python3"
  },
  "language_info": {
   "codemirror_mode": {
    "name": "ipython",
    "version": 3
   },
   "file_extension": ".py",
   "mimetype": "text/x-python",
   "name": "python",
   "nbconvert_exporter": "python",
   "pygments_lexer": "ipython3",
   "version": "3.10.11"
  }
 },
 "nbformat": 4,
 "nbformat_minor": 5
}
