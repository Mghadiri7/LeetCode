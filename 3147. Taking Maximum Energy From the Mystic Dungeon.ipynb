{
 "cells": [
  {
   "cell_type": "markdown",
   "id": "d1e98141-645a-4e92-a3aa-e8c9ff8d1925",
   "metadata": {},
   "source": [
    "## First Solution"
   ]
  },
  {
   "cell_type": "code",
   "execution_count": 1,
   "id": "de4ef1d7-d71d-4ab9-8750-d0617d709904",
   "metadata": {},
   "outputs": [],
   "source": [
    "def maximumEnergy(energy, k):\n",
    "    lst = [0]*k\n",
    "    n = len(energy)\n",
    "    for i in range(k):\n",
    "        lst[i] = energy[i]\n",
    "        j = i+k\n",
    "        while j<n:\n",
    "            lst[i] += energy[j]\n",
    "            j+=k\n",
    "    _max = max(lst)\n",
    "    for i in range(0, n-k, k):\n",
    "        for j in range(k):\n",
    "            if i+j<n-k:\n",
    "                lst[j] -= energy[i+j]\n",
    "                if lst[j]>_max:\n",
    "                    _max=lst[j]\n",
    "    return _max"
   ]
  },
  {
   "cell_type": "code",
   "execution_count": 2,
   "id": "4ed0176d-24a4-4467-969b-cb27f6a063ad",
   "metadata": {},
   "outputs": [
    {
     "data": {
      "text/plain": [
       "3"
      ]
     },
     "execution_count": 2,
     "metadata": {},
     "output_type": "execute_result"
    }
   ],
   "source": [
    "energy = [5,2,-10,-5,1]\n",
    "k = 3\n",
    "maximumEnergy(energy, k)"
   ]
  },
  {
   "cell_type": "code",
   "execution_count": 3,
   "id": "f64f9b78-ce23-4b7c-a469-25df6d9ff2d8",
   "metadata": {},
   "outputs": [
    {
     "data": {
      "text/plain": [
       "-1"
      ]
     },
     "execution_count": 3,
     "metadata": {},
     "output_type": "execute_result"
    }
   ],
   "source": [
    "energy = [-2,-3,-1]\n",
    "k = 2\n",
    "maximumEnergy(energy, k)"
   ]
  },
  {
   "cell_type": "markdown",
   "id": "54bf8fe7-e93d-4f97-a7df-d786b361ebc0",
   "metadata": {},
   "source": [
    "## Second Solution"
   ]
  },
  {
   "cell_type": "code",
   "execution_count": 4,
   "id": "ea005ecd-d3f1-412c-b49e-ac130425cf8e",
   "metadata": {},
   "outputs": [],
   "source": [
    "def maximumEnergy(energy, k):\n",
    "    n = len(energy)\n",
    "    for i in range(n-k-1, -1, -1):\n",
    "        energy[i] += energy[i+k]\n",
    "    return max(energy)"
   ]
  },
  {
   "cell_type": "code",
   "execution_count": 5,
   "id": "e0418c58-3dcc-4151-969b-fc3ece2a33aa",
   "metadata": {},
   "outputs": [
    {
     "data": {
      "text/plain": [
       "3"
      ]
     },
     "execution_count": 5,
     "metadata": {},
     "output_type": "execute_result"
    }
   ],
   "source": [
    "energy = [5,2,-10,-5,1]\n",
    "k = 3\n",
    "maximumEnergy(energy, k)"
   ]
  },
  {
   "cell_type": "code",
   "execution_count": 6,
   "id": "b77ecf98-b270-43c6-b5b4-639e08239cb8",
   "metadata": {},
   "outputs": [
    {
     "data": {
      "text/plain": [
       "-1"
      ]
     },
     "execution_count": 6,
     "metadata": {},
     "output_type": "execute_result"
    }
   ],
   "source": [
    "energy = [-2,-3,-1]\n",
    "k = 2\n",
    "maximumEnergy(energy, k)"
   ]
  },
  {
   "cell_type": "code",
   "execution_count": null,
   "id": "250228b7-1129-4be8-9e35-56c101b65af8",
   "metadata": {},
   "outputs": [],
   "source": []
  }
 ],
 "metadata": {
  "kernelspec": {
   "display_name": "Python 3 (ipykernel)",
   "language": "python",
   "name": "python3"
  },
  "language_info": {
   "codemirror_mode": {
    "name": "ipython",
    "version": 3
   },
   "file_extension": ".py",
   "mimetype": "text/x-python",
   "name": "python",
   "nbconvert_exporter": "python",
   "pygments_lexer": "ipython3",
   "version": "3.10.11"
  }
 },
 "nbformat": 4,
 "nbformat_minor": 5
}
