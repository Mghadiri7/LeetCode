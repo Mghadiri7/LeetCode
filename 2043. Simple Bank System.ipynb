{
 "cells": [
  {
   "cell_type": "code",
   "execution_count": 1,
   "id": "947d35a1-b7c5-4690-b178-058d37f17c37",
   "metadata": {},
   "outputs": [],
   "source": [
    "class Bank:\n",
    "    def __init__(self, balance: list[int]):\n",
    "        self.bal = balance.copy()\n",
    "        self.n = len(balance)\n",
    "\n",
    "    def valid(self, acc: int) -> bool:\n",
    "        return 1 <= acc <= self.n\n",
    "\n",
    "    def transfer(self, account1: int, account2: int, money: int) -> bool:\n",
    "        if not self.valid(account1) or not self.valid(account2) or self.bal[account1 - 1] < money:\n",
    "            return False\n",
    "        self.bal[account1 - 1] -= money\n",
    "        self.bal[account2 - 1] += money\n",
    "        return True\n",
    "\n",
    "    def deposit(self, account: int, money: int) -> bool:\n",
    "        if not self.valid(account):\n",
    "            return False\n",
    "        self.bal[account - 1] += money\n",
    "        return True\n",
    "\n",
    "    def withdraw(self, account: int, money: int) -> bool:\n",
    "        if not self.valid(account) or self.bal[account - 1] < money:\n",
    "            return False\n",
    "        self.bal[account - 1] -= money\n",
    "        return True"
   ]
  },
  {
   "cell_type": "code",
   "execution_count": 2,
   "id": "9e2f66eb-cdcd-402c-8cc8-f93ba5b1ab99",
   "metadata": {},
   "outputs": [
    {
     "name": "stdout",
     "output_type": "stream",
     "text": [
      "outputs: [None, True, True, True, False, False]\n",
      "final balances: [30, 100, 10, 50, 30]\n"
     ]
    }
   ],
   "source": [
    "ops  = [\"Bank\", \"withdraw\", \"transfer\", \"deposit\", \"transfer\", \"withdraw\"]\n",
    "args = [[[10, 100, 20, 50, 30]], [3, 10], [5, 1, 20], [5, 20], [3, 4, 15], [10, 50]]\n",
    "\n",
    "res = []\n",
    "bank = None\n",
    "\n",
    "for op, arg in zip(ops, args):\n",
    "    if op == \"Bank\":\n",
    "        bank = Bank(arg[0])\n",
    "        res.append(None)\n",
    "    elif op == \"withdraw\":\n",
    "        res.append(bank.withdraw(arg[0], arg[1]))\n",
    "    elif op == \"transfer\":\n",
    "        res.append(bank.transfer(arg[0], arg[1], arg[2]))\n",
    "    elif op == \"deposit\":\n",
    "        res.append(bank.deposit(arg[0], arg[1]))\n",
    "    else:\n",
    "        raise ValueError(f\"Unknown op: {op}\")\n",
    "        \n",
    "print(\"outputs:\", res)\n",
    "print(\"final balances:\", bank.bal)"
   ]
  },
  {
   "cell_type": "code",
   "execution_count": null,
   "id": "594757b1-3e81-43ce-8662-970b13acc374",
   "metadata": {},
   "outputs": [],
   "source": []
  }
 ],
 "metadata": {
  "kernelspec": {
   "display_name": "Python 3 (ipykernel)",
   "language": "python",
   "name": "python3"
  },
  "language_info": {
   "codemirror_mode": {
    "name": "ipython",
    "version": 3
   },
   "file_extension": ".py",
   "mimetype": "text/x-python",
   "name": "python",
   "nbconvert_exporter": "python",
   "pygments_lexer": "ipython3",
   "version": "3.10.11"
  }
 },
 "nbformat": 4,
 "nbformat_minor": 5
}
