{
 "cells": [
  {
   "cell_type": "code",
   "execution_count": 1,
   "id": "2aecf542-fd83-423e-941c-70e4202f9ad6",
   "metadata": {},
   "outputs": [],
   "source": [
    "def maxFrequencyElements(nums):\n",
    "    _dict = {}\n",
    "    for num in nums:\n",
    "        if num in _dict:\n",
    "            _dict[num]+=1\n",
    "        else:\n",
    "            _dict[num] = 1\n",
    "    _max = max(_dict.values())\n",
    "    total_frequencies = 0\n",
    "    for key in _dict:\n",
    "        if _dict[key]==_max:\n",
    "            total_frequencies+=_max\n",
    "    return total_frequencies"
   ]
  },
  {
   "cell_type": "code",
   "execution_count": 3,
   "id": "8d051e3f-aea8-40c5-abe1-aff03080e73e",
   "metadata": {},
   "outputs": [
    {
     "data": {
      "text/plain": [
       "5"
      ]
     },
     "execution_count": 3,
     "metadata": {},
     "output_type": "execute_result"
    }
   ],
   "source": [
    "nums = [1,2,3,4,5]\n",
    "maxFrequencyElements(nums)"
   ]
  },
  {
   "cell_type": "code",
   "execution_count": null,
   "id": "f9f3f2d3-d983-4dd6-9e6d-372382268864",
   "metadata": {},
   "outputs": [],
   "source": []
  }
 ],
 "metadata": {
  "kernelspec": {
   "display_name": "Python 3 (ipykernel)",
   "language": "python",
   "name": "python3"
  },
  "language_info": {
   "codemirror_mode": {
    "name": "ipython",
    "version": 3
   },
   "file_extension": ".py",
   "mimetype": "text/x-python",
   "name": "python",
   "nbconvert_exporter": "python",
   "pygments_lexer": "ipython3",
   "version": "3.10.11"
  }
 },
 "nbformat": 4,
 "nbformat_minor": 5
}
