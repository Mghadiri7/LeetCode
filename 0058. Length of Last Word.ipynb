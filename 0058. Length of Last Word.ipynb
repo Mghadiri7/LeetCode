{
 "cells": [
  {
   "cell_type": "code",
   "execution_count": 3,
   "id": "33e64e41-c844-4ee9-a960-4b2e1dabaa8d",
   "metadata": {},
   "outputs": [],
   "source": [
    "def lengthOfLastWord(s):\n",
    "    lst = s.split()\n",
    "    return len(lst[-1])"
   ]
  },
  {
   "cell_type": "code",
   "execution_count": 4,
   "id": "d1b44b09-b915-4a47-89e3-fa9047bbf001",
   "metadata": {},
   "outputs": [
    {
     "data": {
      "text/plain": [
       "6"
      ]
     },
     "execution_count": 4,
     "metadata": {},
     "output_type": "execute_result"
    }
   ],
   "source": [
    "s = \"luffy is still joyboy\"\n",
    "lengthOfLastWord(s)"
   ]
  },
  {
   "cell_type": "code",
   "execution_count": null,
   "id": "a9cce076-8408-4cec-a841-3eec38581d57",
   "metadata": {},
   "outputs": [],
   "source": []
  }
 ],
 "metadata": {
  "kernelspec": {
   "display_name": "Python 3 (ipykernel)",
   "language": "python",
   "name": "python3"
  },
  "language_info": {
   "codemirror_mode": {
    "name": "ipython",
    "version": 3
   },
   "file_extension": ".py",
   "mimetype": "text/x-python",
   "name": "python",
   "nbconvert_exporter": "python",
   "pygments_lexer": "ipython3",
   "version": "3.10.11"
  }
 },
 "nbformat": 4,
 "nbformat_minor": 5
}
