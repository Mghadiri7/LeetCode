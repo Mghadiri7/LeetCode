{
 "cells": [
  {
   "cell_type": "code",
   "execution_count": 1,
   "id": "a3f99f99-bfa7-4602-9d01-2e4596b160e8",
   "metadata": {},
   "outputs": [],
   "source": [
    "def pacificAtlantic(heights):\n",
    "    if not heights:\n",
    "        return []\n",
    "    m, n = len(heights), len(heights[0])\n",
    "    directions = [(1,0), (-1,0), (0,1), (0,-1)]\n",
    "    \n",
    "    def dfs(i, j, visited):\n",
    "        visited.add((i, j))\n",
    "        for dx, dy in directions:\n",
    "            x, y = i + dx, j + dy\n",
    "            if 0 <= x < m and 0 <= y < n:\n",
    "                if (x, y) not in visited and heights[x][y] >= heights[i][j]:\n",
    "                    dfs(x, y, visited)\n",
    "\n",
    "    pacific, atlantic = set(), set()\n",
    "    for j in range(n): dfs(0, j, pacific)\n",
    "    for i in range(m): dfs(i, 0, pacific)\n",
    "    for j in range(n): dfs(m-1, j, atlantic)\n",
    "    for i in range(m): dfs(i, n-1, atlantic)\n",
    "    return list(pacific & atlantic)"
   ]
  },
  {
   "cell_type": "code",
   "execution_count": 2,
   "id": "5827e951-2101-4900-95ad-e8a75ac15b96",
   "metadata": {},
   "outputs": [
    {
     "data": {
      "text/plain": [
       "[(4, 0), (0, 4), (3, 1), (1, 4), (3, 0), (2, 2), (1, 3)]"
      ]
     },
     "execution_count": 2,
     "metadata": {},
     "output_type": "execute_result"
    }
   ],
   "source": [
    "heights = [[1,2,2,3,5],[3,2,3,4,4],[2,4,5,3,1],[6,7,1,4,5],[5,1,1,2,4]]\n",
    "pacificAtlantic(heights)"
   ]
  },
  {
   "cell_type": "code",
   "execution_count": null,
   "id": "26e40a5d-85d9-4006-b5eb-323c94e33e91",
   "metadata": {},
   "outputs": [],
   "source": []
  }
 ],
 "metadata": {
  "kernelspec": {
   "display_name": "Python 3 (ipykernel)",
   "language": "python",
   "name": "python3"
  },
  "language_info": {
   "codemirror_mode": {
    "name": "ipython",
    "version": 3
   },
   "file_extension": ".py",
   "mimetype": "text/x-python",
   "name": "python",
   "nbconvert_exporter": "python",
   "pygments_lexer": "ipython3",
   "version": "3.10.11"
  }
 },
 "nbformat": 4,
 "nbformat_minor": 5
}
