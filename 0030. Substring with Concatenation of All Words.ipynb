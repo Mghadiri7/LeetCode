{
 "cells": [
  {
   "cell_type": "code",
   "execution_count": 1,
   "id": "34bf3719-ecda-451b-8568-34a086d34437",
   "metadata": {},
   "outputs": [],
   "source": [
    "def findSubstring(s, words):\n",
    "    l_s = len(s)\n",
    "    l_words = len(words)\n",
    "    l_w = len(words[0])\n",
    "    l_p = l_words * l_w\n",
    "    _dict = {}\n",
    "    out = []\n",
    "    for word in words:\n",
    "        if word not in _dict:\n",
    "            _dict[word]=1\n",
    "        else:\n",
    "            _dict[word]+=1\n",
    "    \n",
    "    for i in range(l_s - l_p + 1):\n",
    "        temp = _dict.copy()\n",
    "        j = i\n",
    "        count = l_words\n",
    "        while j<i+l_p:\n",
    "            _str = s[j:j+l_w]\n",
    "            if _str not in temp or temp[_str]==0:\n",
    "                break\n",
    "            temp[_str]-=1\n",
    "            count-=1\n",
    "            j+=l_w\n",
    "        if count==0:\n",
    "            out.append(i)\n",
    "    return out"
   ]
  },
  {
   "cell_type": "code",
   "execution_count": 2,
   "id": "bce96caf-8347-4379-bbaf-16e4fc18b945",
   "metadata": {},
   "outputs": [
    {
     "data": {
      "text/plain": [
       "[6, 9, 12]"
      ]
     },
     "execution_count": 2,
     "metadata": {},
     "output_type": "execute_result"
    }
   ],
   "source": [
    "s = \"barfoofoobarthefoobarman\"\n",
    "words = [\"bar\",\"foo\",\"the\"]\n",
    "findSubstring(s, words)"
   ]
  },
  {
   "cell_type": "code",
   "execution_count": null,
   "id": "551de967-116e-4ec0-9cc5-0427d1f25af6",
   "metadata": {},
   "outputs": [],
   "source": []
  }
 ],
 "metadata": {
  "kernelspec": {
   "display_name": "Python 3 (ipykernel)",
   "language": "python",
   "name": "python3"
  },
  "language_info": {
   "codemirror_mode": {
    "name": "ipython",
    "version": 3
   },
   "file_extension": ".py",
   "mimetype": "text/x-python",
   "name": "python",
   "nbconvert_exporter": "python",
   "pygments_lexer": "ipython3",
   "version": "3.10.11"
  }
 },
 "nbformat": 4,
 "nbformat_minor": 5
}
