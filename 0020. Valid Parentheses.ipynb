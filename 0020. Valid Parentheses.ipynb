{
 "cells": [
  {
   "cell_type": "markdown",
   "id": "4024733e-8745-43b4-befa-4d3cb877fa7d",
   "metadata": {},
   "source": [
    "## First Solution"
   ]
  },
  {
   "cell_type": "code",
   "execution_count": 1,
   "id": "4dcf64c6-e38e-4cfe-bfc6-53b9332aea7f",
   "metadata": {},
   "outputs": [],
   "source": [
    "def isValid(s):\n",
    "    lst = []\n",
    "    flag = 0\n",
    "    for i in range(len(s)):\n",
    "        if s[i]=='(' or s[i]=='{' or s[i]=='[':\n",
    "            lst.append(s[i])\n",
    "            flag+=1\n",
    "        if s[i]==')':\n",
    "            if flag!=0 and lst[flag-1]=='(':\n",
    "                lst.pop()\n",
    "                flag-=1\n",
    "            else:\n",
    "                return False\n",
    "        elif s[i]=='}':\n",
    "            if flag!=0 and lst[flag-1]=='{':\n",
    "                lst.pop()\n",
    "                flag-=1\n",
    "            else:\n",
    "                return False\n",
    "        elif s[i]==']':\n",
    "            if flag!=0 and lst[flag-1]=='[':\n",
    "                lst.pop()\n",
    "                flag-=1\n",
    "            else:\n",
    "                return False\n",
    "    if flag==0:\n",
    "        return True\n",
    "    else:\n",
    "        return False"
   ]
  },
  {
   "cell_type": "code",
   "execution_count": 2,
   "id": "535f4cb4-a64d-4209-a1d9-445f4b457b60",
   "metadata": {},
   "outputs": [
    {
     "data": {
      "text/plain": [
       "True"
      ]
     },
     "execution_count": 2,
     "metadata": {},
     "output_type": "execute_result"
    }
   ],
   "source": [
    "s = \"()[]{}\"\n",
    "isValid(s)"
   ]
  },
  {
   "cell_type": "code",
   "execution_count": 3,
   "id": "4106b955-11fb-43ba-8d4c-8a28568480de",
   "metadata": {},
   "outputs": [
    {
     "data": {
      "text/plain": [
       "False"
      ]
     },
     "execution_count": 3,
     "metadata": {},
     "output_type": "execute_result"
    }
   ],
   "source": [
    "s = \"([)]\"\n",
    "isValid(s)"
   ]
  },
  {
   "cell_type": "markdown",
   "id": "9e0cddad-0c48-4e3b-b494-11c5705913d5",
   "metadata": {},
   "source": [
    "## Second Solution"
   ]
  },
  {
   "cell_type": "code",
   "execution_count": 8,
   "id": "f012260b-37fe-46e1-b881-64a530cff9fe",
   "metadata": {},
   "outputs": [],
   "source": [
    "def isValid(s):\n",
    "    _dict = {'{':'}', '[':']', '(':')'}\n",
    "    stack = []\n",
    "    for i in s:\n",
    "        if i in _dict:\n",
    "            stack.append(i)\n",
    "        elif len(stack)==0 or i!=_dict[stack[-1]]:\n",
    "            return False\n",
    "        else:\n",
    "            stack.pop()\n",
    "    if len(stack):\n",
    "        return False\n",
    "    return True"
   ]
  },
  {
   "cell_type": "code",
   "execution_count": 9,
   "id": "44fae32a-fc63-4170-b717-bd57116f104a",
   "metadata": {},
   "outputs": [
    {
     "data": {
      "text/plain": [
       "True"
      ]
     },
     "execution_count": 9,
     "metadata": {},
     "output_type": "execute_result"
    }
   ],
   "source": [
    "s = \"()[]{}\"\n",
    "isValid(s)"
   ]
  },
  {
   "cell_type": "code",
   "execution_count": 10,
   "id": "3e25f948-57bb-4b75-a62f-8dcc117e09c8",
   "metadata": {},
   "outputs": [
    {
     "data": {
      "text/plain": [
       "False"
      ]
     },
     "execution_count": 10,
     "metadata": {},
     "output_type": "execute_result"
    }
   ],
   "source": [
    "s = \"([)]\"\n",
    "isValid(s)"
   ]
  },
  {
   "cell_type": "code",
   "execution_count": null,
   "id": "a7476cec-76a2-4139-99e8-18e6daabe3b8",
   "metadata": {},
   "outputs": [],
   "source": []
  }
 ],
 "metadata": {
  "kernelspec": {
   "display_name": "Python 3 (ipykernel)",
   "language": "python",
   "name": "python3"
  },
  "language_info": {
   "codemirror_mode": {
    "name": "ipython",
    "version": 3
   },
   "file_extension": ".py",
   "mimetype": "text/x-python",
   "name": "python",
   "nbconvert_exporter": "python",
   "pygments_lexer": "ipython3",
   "version": "3.10.11"
  }
 },
 "nbformat": 4,
 "nbformat_minor": 5
}
