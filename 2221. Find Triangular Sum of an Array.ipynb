{
 "cells": [
  {
   "cell_type": "markdown",
   "id": "33f15017-986f-41b9-ab32-5c4b95968df9",
   "metadata": {},
   "source": [
    "## First Solution"
   ]
  },
  {
   "cell_type": "code",
   "execution_count": 3,
   "id": "cd086469-43ee-4d17-8905-eca401b66165",
   "metadata": {},
   "outputs": [],
   "source": [
    "def triangularSum(nums):\n",
    "    if len(nums)==1:\n",
    "        return nums[0]\n",
    "    else:\n",
    "        newNums = []\n",
    "        length = len(nums)-1\n",
    "        for i in range(length):\n",
    "            newNums.append((nums[i]+nums[i+1])%10)\n",
    "        nums = newNums\n",
    "        return triangularSum(nums)"
   ]
  },
  {
   "cell_type": "code",
   "execution_count": 4,
   "id": "c7576668-477e-4d4f-b24d-e290d285a318",
   "metadata": {},
   "outputs": [
    {
     "data": {
      "text/plain": [
       "8"
      ]
     },
     "execution_count": 4,
     "metadata": {},
     "output_type": "execute_result"
    }
   ],
   "source": [
    "nums = [1,2,3,4,5]\n",
    "triangularSum(nums)"
   ]
  },
  {
   "cell_type": "markdown",
   "id": "5b78fbb4-d734-46a6-a340-a46e37b7bbb4",
   "metadata": {},
   "source": [
    "## Second Solution"
   ]
  },
  {
   "cell_type": "code",
   "execution_count": 5,
   "id": "99fbce7b-fc46-4b11-880f-84aa2998c3bb",
   "metadata": {},
   "outputs": [],
   "source": [
    "def triangularSum(nums):\n",
    "    length = len(nums)\n",
    "    newNums = nums\n",
    "    while length>1:\n",
    "        for i in range(length-1):\n",
    "            newNums[i] = (newNums[i]+newNums[i+1])%10\n",
    "        length-=1\n",
    "    return newNums[0]"
   ]
  },
  {
   "cell_type": "code",
   "execution_count": 6,
   "id": "c350a97d-1f08-45cb-9804-26765394b2b2",
   "metadata": {},
   "outputs": [
    {
     "data": {
      "text/plain": [
       "8"
      ]
     },
     "execution_count": 6,
     "metadata": {},
     "output_type": "execute_result"
    }
   ],
   "source": [
    "nums = [1,2,3,4,5]\n",
    "triangularSum(nums)"
   ]
  },
  {
   "cell_type": "code",
   "execution_count": null,
   "id": "585085ef-8e05-49a8-a032-a36946724121",
   "metadata": {},
   "outputs": [],
   "source": []
  }
 ],
 "metadata": {
  "kernelspec": {
   "display_name": "Python 3 (ipykernel)",
   "language": "python",
   "name": "python3"
  },
  "language_info": {
   "codemirror_mode": {
    "name": "ipython",
    "version": 3
   },
   "file_extension": ".py",
   "mimetype": "text/x-python",
   "name": "python",
   "nbconvert_exporter": "python",
   "pygments_lexer": "ipython3",
   "version": "3.10.11"
  }
 },
 "nbformat": 4,
 "nbformat_minor": 5
}
