{
 "cells": [
  {
   "cell_type": "code",
   "execution_count": 2,
   "id": "ef795fe9-5144-4474-b414-5eeacf3bbf7a",
   "metadata": {},
   "outputs": [],
   "source": [
    "def searchInsert(nums, target):\n",
    "    lo, hi = 0, len(nums)-1\n",
    "    while lo<=hi:\n",
    "        mid = (lo+hi)//2\n",
    "        if nums[mid]==target:\n",
    "            return mid\n",
    "        elif nums[mid]>target:\n",
    "            hi = mid-1\n",
    "        else:\n",
    "            lo = mid+1\n",
    "    return lo"
   ]
  },
  {
   "cell_type": "code",
   "execution_count": 3,
   "id": "3c57d04d-93f8-47b0-9fe3-fb7a1418ff32",
   "metadata": {},
   "outputs": [
    {
     "data": {
      "text/plain": [
       "4"
      ]
     },
     "execution_count": 3,
     "metadata": {},
     "output_type": "execute_result"
    }
   ],
   "source": [
    "nums = [1,3,5,6]\n",
    "target = 7\n",
    "searchInsert(nums, target)"
   ]
  },
  {
   "cell_type": "code",
   "execution_count": null,
   "id": "6813b732-574b-4b56-aa75-2870963d500c",
   "metadata": {},
   "outputs": [],
   "source": []
  }
 ],
 "metadata": {
  "kernelspec": {
   "display_name": "Python 3 (ipykernel)",
   "language": "python",
   "name": "python3"
  },
  "language_info": {
   "codemirror_mode": {
    "name": "ipython",
    "version": 3
   },
   "file_extension": ".py",
   "mimetype": "text/x-python",
   "name": "python",
   "nbconvert_exporter": "python",
   "pygments_lexer": "ipython3",
   "version": "3.10.11"
  }
 },
 "nbformat": 4,
 "nbformat_minor": 5
}
