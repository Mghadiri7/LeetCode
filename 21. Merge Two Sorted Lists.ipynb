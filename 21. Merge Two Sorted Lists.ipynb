{
 "cells": [
  {
   "cell_type": "code",
   "execution_count": 1,
   "id": "1fe2aec3-3068-488b-946d-2ea822460297",
   "metadata": {},
   "outputs": [],
   "source": [
    "# class ListNode:\n",
    "#     def __init__(self, val=0, next=None):\n",
    "#         self.val = val\n",
    "#         self.next = next\n",
    "\n",
    "def mergeTwoLists(list1, list2):\n",
    "    temp = ListNode(0, None)\n",
    "    cur = temp\n",
    "    while list1 and list2:\n",
    "        if list1.val<list2.val:\n",
    "            cur.next = list1\n",
    "            list1 = list1.next\n",
    "        else:\n",
    "            cur.next = list2\n",
    "            list2 = list2.next\n",
    "        cur = cur.next\n",
    "    if list1:\n",
    "        cur.next = list1\n",
    "    else:\n",
    "        cur.next = list2\n",
    "    return temp.next"
   ]
  },
  {
   "cell_type": "code",
   "execution_count": null,
   "id": "6e5b2f46-44a7-453e-b5c4-eeb5e838841b",
   "metadata": {},
   "outputs": [],
   "source": [
    "list1 = [1,2,4]\n",
    "list2 = [1,3,4]\n",
    "mergeTwoLists(list1, list2)"
   ]
  }
 ],
 "metadata": {
  "kernelspec": {
   "display_name": "Python 3 (ipykernel)",
   "language": "python",
   "name": "python3"
  },
  "language_info": {
   "codemirror_mode": {
    "name": "ipython",
    "version": 3
   },
   "file_extension": ".py",
   "mimetype": "text/x-python",
   "name": "python",
   "nbconvert_exporter": "python",
   "pygments_lexer": "ipython3",
   "version": "3.10.11"
  }
 },
 "nbformat": 4,
 "nbformat_minor": 5
}
