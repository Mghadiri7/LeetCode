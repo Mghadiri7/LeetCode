{
 "cells": [
  {
   "cell_type": "code",
   "execution_count": 1,
   "id": "e8dc5469-a92f-489d-96b0-45b106ea38e6",
   "metadata": {},
   "outputs": [],
   "source": [
    "def longestPalindrome(s):\n",
    "    length = len(s)\n",
    "    if length==0:\n",
    "        return s\n",
    "        \n",
    "    res = \"\"\n",
    "    res_length=0\n",
    "    for i in range(length):\n",
    "        #Odd\n",
    "        left, right = i, i\n",
    "        while left>=0 and right<length and s[left]==s[right]:\n",
    "            if right-left+1 > res_length:\n",
    "                res_length = right-left+1\n",
    "                res = s[left:right+1]\n",
    "            left-=1\n",
    "            right+=1\n",
    "        #Even\n",
    "        left, right = i, i+1\n",
    "        while left>=0 and right<length and s[left]==s[right]:\n",
    "            if right-left+1 > res_length:\n",
    "                res_length = right-left+1\n",
    "                res = s[left:right+1]\n",
    "            left-=1\n",
    "            right+=1\n",
    "    return res"
   ]
  },
  {
   "cell_type": "code",
   "execution_count": 2,
   "id": "4daebb14-283b-4cf0-b270-b88086f6f5e7",
   "metadata": {},
   "outputs": [
    {
     "data": {
      "text/plain": [
       "'aca'"
      ]
     },
     "execution_count": 2,
     "metadata": {},
     "output_type": "execute_result"
    }
   ],
   "source": [
    "s = \"aacabdfacad\"\n",
    "longestPalindrome(s)"
   ]
  }
 ],
 "metadata": {
  "kernelspec": {
   "display_name": "Python 3 (ipykernel)",
   "language": "python",
   "name": "python3"
  },
  "language_info": {
   "codemirror_mode": {
    "name": "ipython",
    "version": 3
   },
   "file_extension": ".py",
   "mimetype": "text/x-python",
   "name": "python",
   "nbconvert_exporter": "python",
   "pygments_lexer": "ipython3",
   "version": "3.10.11"
  }
 },
 "nbformat": 4,
 "nbformat_minor": 5
}
