{
 "cells": [
  {
   "cell_type": "code",
   "execution_count": 3,
   "id": "76482889-89e4-4ed6-9ce1-c4a7b9b7cb97",
   "metadata": {},
   "outputs": [],
   "source": [
    "def searchRange(nums, target):\n",
    "    lo, hi = 0, len(nums)-1\n",
    "    lst = [-1, -1]\n",
    "    while lo<=hi:\n",
    "        mid = (lo+hi)//2\n",
    "        if nums[mid]==target:\n",
    "            lst[0], lst[1] = mid, mid\n",
    "            temp_hi = mid-1\n",
    "            temp_lo = mid+1\n",
    "            while lo<=temp_hi:\n",
    "                mid = (lo+temp_hi)//2\n",
    "                if nums[mid]==target:\n",
    "                    temp_hi = mid-1\n",
    "                    lst[0] = mid\n",
    "                else:\n",
    "                    lo = mid+1\n",
    "            while temp_lo<=hi:\n",
    "                mid = (temp_lo+hi)//2\n",
    "                if nums[mid]==target:\n",
    "                    temp_lo = mid+1\n",
    "                    lst[1] = mid\n",
    "                else:\n",
    "                    hi = mid-1\n",
    "            return lst\n",
    "        elif nums[mid]>target:\n",
    "            hi = mid-1\n",
    "        else:\n",
    "            lo = mid+1\n",
    "    return lst"
   ]
  },
  {
   "cell_type": "code",
   "execution_count": 4,
   "id": "ae511120-1e1a-4bc7-8342-d0bea340b2e7",
   "metadata": {},
   "outputs": [
    {
     "data": {
      "text/plain": [
       "[3, 4]"
      ]
     },
     "execution_count": 4,
     "metadata": {},
     "output_type": "execute_result"
    }
   ],
   "source": [
    "nums = [5,7,7,8,8,10]\n",
    "target = 8\n",
    "searchRange(nums, target)"
   ]
  },
  {
   "cell_type": "code",
   "execution_count": null,
   "id": "47061187-ca4b-48f4-b26f-f2e0115948ef",
   "metadata": {},
   "outputs": [],
   "source": []
  }
 ],
 "metadata": {
  "kernelspec": {
   "display_name": "Python 3 (ipykernel)",
   "language": "python",
   "name": "python3"
  },
  "language_info": {
   "codemirror_mode": {
    "name": "ipython",
    "version": 3
   },
   "file_extension": ".py",
   "mimetype": "text/x-python",
   "name": "python",
   "nbconvert_exporter": "python",
   "pygments_lexer": "ipython3",
   "version": "3.10.11"
  }
 },
 "nbformat": 4,
 "nbformat_minor": 5
}
