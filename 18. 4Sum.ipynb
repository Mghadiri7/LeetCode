{
 "cells": [
  {
   "cell_type": "code",
   "execution_count": 6,
   "id": "5d75af95-002f-4fa4-9a68-7ae8b8f32629",
   "metadata": {},
   "outputs": [],
   "source": [
    "def fourSum(nums, target):\n",
    "    nums.sort()\n",
    "    lst, quad = [], []\n",
    "\n",
    "    def ksum(k, start, target):\n",
    "        if k!=2:\n",
    "            for i in range(start, len(nums)-k+1):\n",
    "                if i>start and nums[i]==nums[i-1]:\n",
    "                    continue\n",
    "                quad.append(nums[i])\n",
    "                ksum(k-1, i+1, target-nums[i])\n",
    "                quad.pop()\n",
    "            return\n",
    "        l, r = start, len(nums)-1\n",
    "        while l<r:\n",
    "            if nums[l]+nums[r]<target:\n",
    "                l+=1\n",
    "            elif nums[l]+nums[r]>target:\n",
    "                r-=1\n",
    "            else:\n",
    "                lst.append(quad+[nums[l], nums[r]])\n",
    "                l+=1\n",
    "                while l<r and nums[l]==nums[l-1]:\n",
    "                    l+=1\n",
    "\n",
    "    ksum(4, 0, target)\n",
    "    return lst  "
   ]
  },
  {
   "cell_type": "code",
   "execution_count": 7,
   "id": "061a1dd2-df4d-4ea3-b320-ecd1945d26c6",
   "metadata": {},
   "outputs": [
    {
     "name": "stdout",
     "output_type": "stream",
     "text": [
      "[-2, -1]\n",
      "*******\n",
      "[-2, 0]\n",
      "*******\n",
      "[-2]\n",
      "*******\n",
      "[-1, 0]\n",
      "*******\n",
      "[-1]\n",
      "*******\n",
      "[0, 0]\n",
      "*******\n",
      "[0]\n",
      "*******\n"
     ]
    },
    {
     "data": {
      "text/plain": [
       "[[-2, -1, 1, 2], [-2, 0, 0, 2], [-1, 0, 0, 1]]"
      ]
     },
     "execution_count": 7,
     "metadata": {},
     "output_type": "execute_result"
    }
   ],
   "source": [
    "nums = [1,0,-1,0,-2,2] \n",
    "target = 0\n",
    "fourSum(nums, target)"
   ]
  },
  {
   "cell_type": "code",
   "execution_count": null,
   "id": "92a51d39-316f-4a93-a0b6-957b70e4cdd0",
   "metadata": {},
   "outputs": [],
   "source": []
  }
 ],
 "metadata": {
  "kernelspec": {
   "display_name": "Python 3 (ipykernel)",
   "language": "python",
   "name": "python3"
  },
  "language_info": {
   "codemirror_mode": {
    "name": "ipython",
    "version": 3
   },
   "file_extension": ".py",
   "mimetype": "text/x-python",
   "name": "python",
   "nbconvert_exporter": "python",
   "pygments_lexer": "ipython3",
   "version": "3.10.11"
  }
 },
 "nbformat": 4,
 "nbformat_minor": 5
}
