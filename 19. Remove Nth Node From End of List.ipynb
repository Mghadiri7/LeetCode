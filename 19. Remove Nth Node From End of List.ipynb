{
 "cells": [
  {
   "cell_type": "code",
   "execution_count": 2,
   "id": "32a44206-4f3d-4f5d-88c3-b5b6aa232378",
   "metadata": {},
   "outputs": [],
   "source": [
    "# class ListNode:\n",
    "#     def __init__(self, val=0, next=None):\n",
    "#         self.val = val\n",
    "#         self.next = next\n",
    "\n",
    "def removeNthFromEnd(head, n):\n",
    "    temp = ListNode(0, head)\n",
    "    cur, pre = head, temp\n",
    "    while cur and n:\n",
    "        cur = cur.next\n",
    "        n-=1\n",
    "    while cur:\n",
    "        cur = cur.next\n",
    "        pre = pre.next\n",
    "    pre.next = pre.next.next\n",
    "    return temp.next"
   ]
  },
  {
   "cell_type": "code",
   "execution_count": null,
   "id": "0b22cf25-ec13-483b-98a6-fcf1f0105351",
   "metadata": {},
   "outputs": [],
   "source": [
    "head = [1,2,3,4,5]\n",
    "n = 2\n",
    "removeNthFromEnd(head, n)"
   ]
  }
 ],
 "metadata": {
  "kernelspec": {
   "display_name": "Python 3 (ipykernel)",
   "language": "python",
   "name": "python3"
  },
  "language_info": {
   "codemirror_mode": {
    "name": "ipython",
    "version": 3
   },
   "file_extension": ".py",
   "mimetype": "text/x-python",
   "name": "python",
   "nbconvert_exporter": "python",
   "pygments_lexer": "ipython3",
   "version": "3.10.11"
  }
 },
 "nbformat": 4,
 "nbformat_minor": 5
}
