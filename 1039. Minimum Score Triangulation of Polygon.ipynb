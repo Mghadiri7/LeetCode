{
 "cells": [
  {
   "cell_type": "code",
   "execution_count": 3,
   "id": "07a1c437-7976-4c58-9eec-defaee3eed01",
   "metadata": {},
   "outputs": [],
   "source": [
    "from functools import lru_cache\n",
    "\n",
    "def minScoreTriangulation(values):\n",
    "    length = len(values)-1\n",
    "    @lru_cache(None)\n",
    "    def fun(i, j):\n",
    "        if j-i<2:\n",
    "            return 0\n",
    "        _min = float('inf')\n",
    "        for k in range(i+1, j):\n",
    "            _sum = fun(i, k) + fun(k, j) + values[i]*values[j]*values[k]\n",
    "            _min = min(_min, _sum)\n",
    "        return _min\n",
    "    return fun(0, length)"
   ]
  },
  {
   "cell_type": "code",
   "execution_count": 4,
   "id": "4b76c48d-1736-460b-85b4-4ba34966b628",
   "metadata": {},
   "outputs": [
    {
     "data": {
      "text/plain": [
       "24"
      ]
     },
     "execution_count": 4,
     "metadata": {},
     "output_type": "execute_result"
    }
   ],
   "source": [
    "values = [2,1,4,4]\n",
    "minScoreTriangulation(values)"
   ]
  },
  {
   "cell_type": "code",
   "execution_count": 5,
   "id": "bb2f16ef-b740-4ee7-9103-f578121bedb0",
   "metadata": {},
   "outputs": [
    {
     "data": {
      "text/plain": [
       "1334781"
      ]
     },
     "execution_count": 5,
     "metadata": {},
     "output_type": "execute_result"
    }
   ],
   "source": [
    "values = [69,22,21,27,26,62,69,81,55,85,95,40,91,33,72,88,86]\n",
    "minScoreTriangulation(values)"
   ]
  },
  {
   "cell_type": "code",
   "execution_count": 6,
   "id": "4339bb3d-bab3-462a-9926-2575040dc2fc",
   "metadata": {},
   "outputs": [
    {
     "data": {
      "text/plain": [
       "24"
      ]
     },
     "execution_count": 6,
     "metadata": {},
     "output_type": "execute_result"
    }
   ],
   "source": [
    "values = [4,3,1,3]\n",
    "minScoreTriangulation(values)"
   ]
  },
  {
   "cell_type": "code",
   "execution_count": null,
   "id": "1b160921-5b04-4c38-ad39-fb665864fda4",
   "metadata": {},
   "outputs": [],
   "source": []
  }
 ],
 "metadata": {
  "kernelspec": {
   "display_name": "Python 3 (ipykernel)",
   "language": "python",
   "name": "python3"
  },
  "language_info": {
   "codemirror_mode": {
    "name": "ipython",
    "version": 3
   },
   "file_extension": ".py",
   "mimetype": "text/x-python",
   "name": "python",
   "nbconvert_exporter": "python",
   "pygments_lexer": "ipython3",
   "version": "3.10.11"
  }
 },
 "nbformat": 4,
 "nbformat_minor": 5
}
