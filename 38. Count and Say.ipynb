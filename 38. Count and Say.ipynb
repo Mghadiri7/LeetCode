{
 "cells": [
  {
   "cell_type": "code",
   "execution_count": 20,
   "id": "a5460de2-e5a9-4410-a4db-dea52fdb8d4c",
   "metadata": {},
   "outputs": [],
   "source": [
    "def countAndSay(n):\n",
    "    if n==1:\n",
    "        return \"1\"\n",
    "    else:\n",
    "        temp = countAndSay(n-1)\n",
    "        length = len(temp)\n",
    "        _str = \"\"\n",
    "        j = 0\n",
    "        for i in range(0, length):\n",
    "            if i==length-1 or temp[i]!=temp[i+1]:\n",
    "                _str = _str + str(i+1-j) + temp[i]\n",
    "                j = i+1\n",
    "        return _str"
   ]
  },
  {
   "cell_type": "code",
   "execution_count": 22,
   "id": "9c891ef5-7076-4863-bd56-91f38828b7b6",
   "metadata": {},
   "outputs": [
    {
     "data": {
      "text/plain": [
       "'1211'"
      ]
     },
     "execution_count": 22,
     "metadata": {},
     "output_type": "execute_result"
    }
   ],
   "source": [
    "n = 4\n",
    "countAndSay(n)"
   ]
  },
  {
   "cell_type": "code",
   "execution_count": null,
   "id": "9fc61ca4-8359-4032-bf99-5ef46087ba4f",
   "metadata": {},
   "outputs": [],
   "source": []
  }
 ],
 "metadata": {
  "kernelspec": {
   "display_name": "Python 3 (ipykernel)",
   "language": "python",
   "name": "python3"
  },
  "language_info": {
   "codemirror_mode": {
    "name": "ipython",
    "version": 3
   },
   "file_extension": ".py",
   "mimetype": "text/x-python",
   "name": "python",
   "nbconvert_exporter": "python",
   "pygments_lexer": "ipython3",
   "version": "3.10.11"
  }
 },
 "nbformat": 4,
 "nbformat_minor": 5
}
