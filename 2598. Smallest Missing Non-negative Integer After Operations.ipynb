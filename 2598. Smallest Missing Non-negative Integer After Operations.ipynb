{
 "cells": [
  {
   "cell_type": "code",
   "execution_count": 10,
   "id": "b95f3326-b023-4e41-9cc9-785d6e31434a",
   "metadata": {},
   "outputs": [],
   "source": [
    "def findSmallestInteger(nums, value):\n",
    "    lst = [0] * value\n",
    "    n = len(nums)\n",
    "    for num in nums:\n",
    "        temp = num % value\n",
    "        lst[temp]+=1\n",
    "    print(lst)\n",
    "    for i in range(n):\n",
    "        if lst[i%value]==0:\n",
    "            return i\n",
    "        lst[i%value]-=1\n",
    "    return n"
   ]
  },
  {
   "cell_type": "code",
   "execution_count": 11,
   "id": "31948e51-fd3d-45bd-8439-f797606a25b1",
   "metadata": {},
   "outputs": [
    {
     "name": "stdout",
     "output_type": "stream",
     "text": [
      "[1, 2, 1, 2, 0]\n"
     ]
    },
    {
     "data": {
      "text/plain": [
       "4"
      ]
     },
     "execution_count": 11,
     "metadata": {},
     "output_type": "execute_result"
    }
   ],
   "source": [
    "nums = [1,-10,7,13,6,8]\n",
    "value = 5\n",
    "findSmallestInteger(nums, value)"
   ]
  },
  {
   "cell_type": "code",
   "execution_count": null,
   "id": "c55c0db3-6ca7-4888-974b-9767b6e360d7",
   "metadata": {},
   "outputs": [],
   "source": []
  }
 ],
 "metadata": {
  "kernelspec": {
   "display_name": "Python 3 (ipykernel)",
   "language": "python",
   "name": "python3"
  },
  "language_info": {
   "codemirror_mode": {
    "name": "ipython",
    "version": 3
   },
   "file_extension": ".py",
   "mimetype": "text/x-python",
   "name": "python",
   "nbconvert_exporter": "python",
   "pygments_lexer": "ipython3",
   "version": "3.10.11"
  }
 },
 "nbformat": 4,
 "nbformat_minor": 5
}
