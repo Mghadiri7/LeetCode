{
 "cells": [
  {
   "cell_type": "code",
   "execution_count": 1,
   "id": "74ce2685-bbf7-4302-aa81-be8ea337001c",
   "metadata": {},
   "outputs": [],
   "source": [
    "def myAtoi(s):\n",
    "    s = s.lstrip()\n",
    "    n = len(s)\n",
    "    if not n:\n",
    "        return 0\n",
    "\n",
    "    sign =1\n",
    "    i = 0\n",
    "    if s[i]=='+':\n",
    "        i+=1\n",
    "    elif s[i]=='-':\n",
    "        sign = -1\n",
    "        i+=1\n",
    "\n",
    "    res = 0\n",
    "    while i<n:\n",
    "        cur = s[i]\n",
    "        if not cur.isdigit():\n",
    "            break\n",
    "        else:\n",
    "            res = res*10 + int(cur)\n",
    "        i+=1\n",
    "\n",
    "    res *= sign\n",
    "    if res>2**31-1:\n",
    "        return 2**31-1\n",
    "    elif res<-2**31:\n",
    "        return -2**31\n",
    "    return res"
   ]
  },
  {
   "cell_type": "code",
   "execution_count": 2,
   "id": "19792f5a-654c-415e-be11-2bd88b1b4d9a",
   "metadata": {},
   "outputs": [
    {
     "data": {
      "text/plain": [
       "-42"
      ]
     },
     "execution_count": 2,
     "metadata": {},
     "output_type": "execute_result"
    }
   ],
   "source": [
    "_str = \"   -042\"\n",
    "myAtoi(_str)"
   ]
  }
 ],
 "metadata": {
  "kernelspec": {
   "display_name": "Python 3 (ipykernel)",
   "language": "python",
   "name": "python3"
  },
  "language_info": {
   "codemirror_mode": {
    "name": "ipython",
    "version": 3
   },
   "file_extension": ".py",
   "mimetype": "text/x-python",
   "name": "python",
   "nbconvert_exporter": "python",
   "pygments_lexer": "ipython3",
   "version": "3.10.11"
  }
 },
 "nbformat": 4,
 "nbformat_minor": 5
}
