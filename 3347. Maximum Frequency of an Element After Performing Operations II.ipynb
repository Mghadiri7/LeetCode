{
 "cells": [
  {
   "cell_type": "code",
   "execution_count": 4,
   "id": "21401e39-c1c6-42f8-9560-842ad8d936a4",
   "metadata": {},
   "outputs": [],
   "source": [
    "from collections import Counter\n",
    "from bisect import bisect_left, bisect_right\n",
    "\n",
    "def maxFrequency(nums, k, numOperations):\n",
    "    nums.sort()\n",
    "    n = len(nums)\n",
    "    \n",
    "    _dict = Counter(nums)\n",
    "    max_freq1 = 0\n",
    "    for v in _dict.keys():\n",
    "        freq = min(bisect_right(nums, v+k) - bisect_left(nums, v-k), numOperations + _dict[v])\n",
    "        max_freq1 = max(max_freq1, freq)\n",
    "\n",
    "    left = 0\n",
    "    max_freq2 = 0\n",
    "    for right in range(n):\n",
    "        while nums[right] > nums[left] + 2*k:\n",
    "            left+=1\n",
    "        max_freq2 = max(max_freq2, right-left+1)\n",
    "        if max_freq2>=numOperations:\n",
    "            max_freq2 = numOperations\n",
    "            break\n",
    "\n",
    "    return max(max_freq1, max_freq2)"
   ]
  },
  {
   "cell_type": "code",
   "execution_count": 5,
   "id": "d967946c-b321-4f37-86c7-3834a621476f",
   "metadata": {},
   "outputs": [
    {
     "data": {
      "text/plain": [
       "28"
      ]
     },
     "execution_count": 5,
     "metadata": {},
     "output_type": "execute_result"
    }
   ],
   "source": [
    "nums = [705110,63707,171344,149391,88269,895293,240613,840378,644168,622957,516522,718199,542864,505174,285477,291482,973560,346971,592203,93565,334118,542041,879458,319820,809009,120805,805475,38650,815289,759660,282178,134051,747549,333600,893473,766202,880181,253464,40745,90529,150458,675647,677888,278436,502427,858706,917159,460515,157946,994135,437972,49076,154055,630463,509667,306321,85276,942332,502301,683212,554014,354975,789856,420040,292967,811148,168986,557992,396400,740753,497077,778072,745368,64863,392797,911152,137377,561062,704613,895328,165779,745108,662483,485428,854084,933042,238252,324938,721680,798857,87237,65484,513866,410928,364456,706484,460944,645494,309129,550753]\n",
    "k = 106748\n",
    "numOperations = 68\n",
    "maxFrequency(nums, k, numOperations)"
   ]
  }
 ],
 "metadata": {
  "kernelspec": {
   "display_name": "Python 3 (ipykernel)",
   "language": "python",
   "name": "python3"
  },
  "language_info": {
   "codemirror_mode": {
    "name": "ipython",
    "version": 3
   },
   "file_extension": ".py",
   "mimetype": "text/x-python",
   "name": "python",
   "nbconvert_exporter": "python",
   "pygments_lexer": "ipython3",
   "version": "3.10.11"
  }
 },
 "nbformat": 4,
 "nbformat_minor": 5
}
