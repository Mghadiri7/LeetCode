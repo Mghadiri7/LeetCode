{
 "cells": [
  {
   "cell_type": "code",
   "execution_count": 1,
   "id": "b9f16f43-ffdf-4421-a57e-ea0246cb54f2",
   "metadata": {},
   "outputs": [],
   "source": [
    "def permute(nums):\n",
    "    if len(nums)==1:\n",
    "        return [nums[:]]\n",
    "\n",
    "    res = []\n",
    "    for i in range(len(nums)):\n",
    "        n = nums.pop(0)\n",
    "        permutation = permute(nums)\n",
    "        for p in permutation:\n",
    "            p.append(n)\n",
    "            \n",
    "        res.extend(permutation)\n",
    "        nums.append(n)\n",
    "    return res"
   ]
  },
  {
   "cell_type": "code",
   "execution_count": 2,
   "id": "0fd8c3dd-b691-47f4-910a-90b9ad113b7a",
   "metadata": {},
   "outputs": [
    {
     "data": {
      "text/plain": [
       "[[3, 2, 1], [2, 3, 1], [1, 3, 2], [3, 1, 2], [2, 1, 3], [1, 2, 3]]"
      ]
     },
     "execution_count": 2,
     "metadata": {},
     "output_type": "execute_result"
    }
   ],
   "source": [
    "nums = [1,2,3]\n",
    "permute(nums)"
   ]
  },
  {
   "cell_type": "code",
   "execution_count": null,
   "id": "968e5010-ec3d-465c-a3dc-62b691aec785",
   "metadata": {},
   "outputs": [],
   "source": []
  }
 ],
 "metadata": {
  "kernelspec": {
   "display_name": "Python 3 (ipykernel)",
   "language": "python",
   "name": "python3"
  },
  "language_info": {
   "codemirror_mode": {
    "name": "ipython",
    "version": 3
   },
   "file_extension": ".py",
   "mimetype": "text/x-python",
   "name": "python",
   "nbconvert_exporter": "python",
   "pygments_lexer": "ipython3",
   "version": "3.10.11"
  }
 },
 "nbformat": 4,
 "nbformat_minor": 5
}
