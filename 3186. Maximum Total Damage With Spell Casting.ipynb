{
 "cells": [
  {
   "cell_type": "code",
   "execution_count": 20,
   "id": "d91d3429-4bcd-457a-9f61-6250140c4107",
   "metadata": {},
   "outputs": [],
   "source": [
    "from collections import Counter\n",
    "\n",
    "def maximumTotalDamage(power):\n",
    "    # freq = {}\n",
    "    # for i in power:\n",
    "    #     if i in freq:\n",
    "    #         freq[i]+=1\n",
    "    #     else:\n",
    "    #         freq[i] = 1\n",
    "    freq = Counter(power)\n",
    "    keys = sorted(freq)\n",
    "    n = len(keys)\n",
    "    dp = [0] * n\n",
    "    dp[0] = freq[keys[0]] * keys[0]\n",
    "    for i in range(1, n):\n",
    "        take = freq[keys[i]] * keys[i]\n",
    "        if keys[i-1]<keys[i]-2:\n",
    "            ans = i-1\n",
    "        elif i-2 >= 0 and keys[i-2]<keys[i]-2:\n",
    "            ans = i-2\n",
    "        else:\n",
    "            ans = i-3\n",
    "        if ans >= 0:\n",
    "            take += dp[ans]\n",
    "        dp[i] = max(dp[i-1], take)\n",
    "    return dp[-1]"
   ]
  },
  {
   "cell_type": "code",
   "execution_count": 21,
   "id": "8bd3fb78-62c7-457a-8dd5-97989265217c",
   "metadata": {},
   "outputs": [
    {
     "data": {
      "text/plain": [
       "13"
      ]
     },
     "execution_count": 21,
     "metadata": {},
     "output_type": "execute_result"
    }
   ],
   "source": [
    "power = [7,1,6,6]\n",
    "maximumTotalDamage(power)"
   ]
  },
  {
   "cell_type": "code",
   "execution_count": null,
   "id": "93248feb-8a16-4dcf-99e4-ee1e3dde5ec5",
   "metadata": {},
   "outputs": [],
   "source": []
  }
 ],
 "metadata": {
  "kernelspec": {
   "display_name": "Python 3 (ipykernel)",
   "language": "python",
   "name": "python3"
  },
  "language_info": {
   "codemirror_mode": {
    "name": "ipython",
    "version": 3
   },
   "file_extension": ".py",
   "mimetype": "text/x-python",
   "name": "python",
   "nbconvert_exporter": "python",
   "pygments_lexer": "ipython3",
   "version": "3.10.11"
  }
 },
 "nbformat": 4,
 "nbformat_minor": 5
}
