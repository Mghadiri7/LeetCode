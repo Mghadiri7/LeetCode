{
 "cells": [
  {
   "cell_type": "code",
   "execution_count": 8,
   "id": "99fa8ca6-9f1b-4bb2-8d83-e91047c8d748",
   "metadata": {},
   "outputs": [],
   "source": [
    "class ListNode:\n",
    "    def __init__(self, val=0, next=None):\n",
    "        self.val = val\n",
    "        self.next = next\n",
    "\n",
    "def swapPairs(head):\n",
    "    temp = ListNode(0, head)\n",
    "    pre = temp\n",
    "    while pre.next and pre.next.next:\n",
    "        first = pre.next\n",
    "        second = first.next\n",
    "        pre.next = second\n",
    "        first.next = second.next\n",
    "        second.next = first\n",
    "        pre = first\n",
    "    return temp.next"
   ]
  },
  {
   "cell_type": "code",
   "execution_count": 15,
   "id": "ee898f85-33fa-4eea-a8f1-283456bf30ea",
   "metadata": {},
   "outputs": [
    {
     "name": "stdout",
     "output_type": "stream",
     "text": [
      "2 -> 1 -> 4 -> 3 -> None\n"
     ]
    }
   ],
   "source": [
    "d = ListNode(4, None)\n",
    "c = ListNode(3, d)\n",
    "b = ListNode(2, c)\n",
    "a = ListNode(1, b)\n",
    "swapPairs(a)\n",
    "cur = b\n",
    "while cur:\n",
    "    print(cur.val, end=\" -> \")\n",
    "    cur = cur.next\n",
    "print(None)"
   ]
  }
 ],
 "metadata": {
  "kernelspec": {
   "display_name": "Python 3 (ipykernel)",
   "language": "python",
   "name": "python3"
  },
  "language_info": {
   "codemirror_mode": {
    "name": "ipython",
    "version": 3
   },
   "file_extension": ".py",
   "mimetype": "text/x-python",
   "name": "python",
   "nbconvert_exporter": "python",
   "pygments_lexer": "ipython3",
   "version": "3.10.11"
  }
 },
 "nbformat": 4,
 "nbformat_minor": 5
}
