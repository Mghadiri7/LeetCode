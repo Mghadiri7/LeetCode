{
 "cells": [
  {
   "cell_type": "markdown",
   "id": "2f8b92c3-0f16-42c2-9884-d177f24e3930",
   "metadata": {},
   "source": [
    "## First Solution"
   ]
  },
  {
   "cell_type": "code",
   "execution_count": 70,
   "id": "97b4d032-bbad-4ed1-95cc-5e1bf0bd4cf0",
   "metadata": {},
   "outputs": [],
   "source": [
    "def convert(s, numRows):\n",
    "    _dic = {}\n",
    "    _str = \"\"\n",
    "    length = len(s)\n",
    "    if numRows==1 or length<2:\n",
    "        return s\n",
    "    elif numRows==2:\n",
    "        flag = False\n",
    "        for i in range(0, length, 2):\n",
    "            if flag:\n",
    "                _dic[0]+=s[i]\n",
    "                if i+1>length:\n",
    "                    break\n",
    "                _dic[1]+=s[i+1]\n",
    "            else:\n",
    "                _dic[0]=s[0]\n",
    "                _dic[1]=s[1]\n",
    "                flag = True\n",
    "    else:\n",
    "        for i in range(0, length, 2*numRows-2):\n",
    "            for j in range(numRows):\n",
    "                key = j%numRows\n",
    "                if i+j>=length:\n",
    "                    break\n",
    "                if key in _dic:\n",
    "                    _dic[key]+=(s[i+j])\n",
    "                else:\n",
    "                    _dic[key] = s[j]\n",
    "            else:\n",
    "                for k in range(numRows-2):\n",
    "                    if i+j+k>=length-1:\n",
    "                        break\n",
    "                    _dic[numRows-2-k]+=(s[i+numRows+k])\n",
    "    for key in _dic:\n",
    "        _str+=_dic[key]\n",
    "    return _str"
   ]
  },
  {
   "cell_type": "code",
   "execution_count": 76,
   "id": "79143680-a2d0-409e-b597-f6d5bd021568",
   "metadata": {},
   "outputs": [
    {
     "name": "stdout",
     "output_type": "stream",
     "text": [
      "PINALSIGYAHRPI\n",
      "PAHNAPLSIIGYIR\n",
      "PYAIHRNAPLSIIG\n",
      "PAYPALISHIRING\n",
      "ABCED\n"
     ]
    }
   ],
   "source": [
    "print(convert(\"PAYPALISHIRING\", 4))\n",
    "print(convert(\"PAYPALISHIRING\", 3))\n",
    "print(convert(\"PAYPALISHIRING\", 2))\n",
    "print(convert(\"PAYPALISHIRING\", 1))\n",
    "print(convert(\"ABCDE\", 4))"
   ]
  },
  {
   "cell_type": "markdown",
   "id": "23266535-17d8-46c3-ad2c-b57239326ff2",
   "metadata": {},
   "source": [
    "## Second Solution"
   ]
  },
  {
   "cell_type": "code",
   "execution_count": 74,
   "id": "d79b3a05-a127-4ec9-991d-ce3eb6730588",
   "metadata": {},
   "outputs": [],
   "source": [
    "def convert(s, numRows):\n",
    "    if numRows==1:\n",
    "        return s\n",
    "    _lst = [[] for i in range(numRows)]\n",
    "    row, flag = 0, True\n",
    "    for ch in s:\n",
    "        if flag:\n",
    "            _lst[row].append(ch)\n",
    "            row+=1\n",
    "        else:\n",
    "            row-=1\n",
    "            _lst[row].append(ch)\n",
    "        if row==numRows:\n",
    "            flag = not flag\n",
    "            row-=1\n",
    "        elif row==0:\n",
    "            flag = not flag\n",
    "            row+=1\n",
    "    return \"\".join([\"\".join(i) for i in _lst])"
   ]
  },
  {
   "cell_type": "code",
   "execution_count": 73,
   "id": "504bc950-2edc-448b-a484-d67324497a78",
   "metadata": {},
   "outputs": [
    {
     "name": "stdout",
     "output_type": "stream",
     "text": [
      "PINALSIGYAHRPI\n",
      "PYAIHRNAPLSIIG\n",
      "PAYPALISHIRING\n",
      "ABCED\n"
     ]
    }
   ],
   "source": [
    "print(convert(\"PAYPALISHIRING\", 4))\n",
    "print(convert(\"PAYPALISHIRING\", 2))\n",
    "print(convert(\"PAYPALISHIRING\", 1))\n",
    "print(convert(\"ABCDE\", 4))"
   ]
  }
 ],
 "metadata": {
  "kernelspec": {
   "display_name": "Python 3 (ipykernel)",
   "language": "python",
   "name": "python3"
  },
  "language_info": {
   "codemirror_mode": {
    "name": "ipython",
    "version": 3
   },
   "file_extension": ".py",
   "mimetype": "text/x-python",
   "name": "python",
   "nbconvert_exporter": "python",
   "pygments_lexer": "ipython3",
   "version": "3.10.11"
  }
 },
 "nbformat": 4,
 "nbformat_minor": 5
}
