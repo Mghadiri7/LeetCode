{
 "cells": [
  {
   "cell_type": "markdown",
   "id": "becc2fd1-b9ab-4952-ae0a-3fa5efc13385",
   "metadata": {},
   "source": [
    "## First Solution"
   ]
  },
  {
   "cell_type": "code",
   "execution_count": 2,
   "id": "6e310340-2778-40c7-85b8-868875923dcc",
   "metadata": {},
   "outputs": [],
   "source": [
    "def reverse(x):\n",
    "    # sign = 1 if x>=0 else -1\n",
    "    # x = x*sign\n",
    "    sign, x = (1, x) if x>0 else (-1, -x)\n",
    "    res = 0\n",
    "    while x>0:\n",
    "        res = res*10 + x%10\n",
    "        x = x//10\n",
    "    res *= sign\n",
    "    if res<-2**31 or res>2**31-1:\n",
    "        return 0\n",
    "    else:\n",
    "        return res"
   ]
  },
  {
   "cell_type": "code",
   "execution_count": 3,
   "id": "06e10f3a-55cd-488f-8962-ed93f1497285",
   "metadata": {},
   "outputs": [
    {
     "data": {
      "text/plain": [
       "321"
      ]
     },
     "execution_count": 3,
     "metadata": {},
     "output_type": "execute_result"
    }
   ],
   "source": [
    "num = 123\n",
    "reverse(num)"
   ]
  },
  {
   "cell_type": "markdown",
   "id": "859dce2b-2895-4674-a302-06299f99686b",
   "metadata": {},
   "source": [
    "## Second Solution"
   ]
  },
  {
   "cell_type": "code",
   "execution_count": 4,
   "id": "98820f2a-2957-4f19-958d-77fb60a775c3",
   "metadata": {},
   "outputs": [],
   "source": [
    "def reverse(x):\n",
    "    res = 0\n",
    "    if x<0:\n",
    "        res = int(str(x)[1:][::-1])*-1\n",
    "    else:\n",
    "        res = int(str(x)[::-1])\n",
    "    if res<-2**31 or res>2**31-1:\n",
    "        return 0\n",
    "    else:\n",
    "        return res"
   ]
  },
  {
   "cell_type": "code",
   "execution_count": 5,
   "id": "85208583-6286-40ef-bcb3-f0ebaeb99706",
   "metadata": {},
   "outputs": [
    {
     "data": {
      "text/plain": [
       "21"
      ]
     },
     "execution_count": 5,
     "metadata": {},
     "output_type": "execute_result"
    }
   ],
   "source": [
    "num = 120\n",
    "reverse(num)"
   ]
  }
 ],
 "metadata": {
  "kernelspec": {
   "display_name": "Python 3 (ipykernel)",
   "language": "python",
   "name": "python3"
  },
  "language_info": {
   "codemirror_mode": {
    "name": "ipython",
    "version": 3
   },
   "file_extension": ".py",
   "mimetype": "text/x-python",
   "name": "python",
   "nbconvert_exporter": "python",
   "pygments_lexer": "ipython3",
   "version": "3.10.11"
  }
 },
 "nbformat": 4,
 "nbformat_minor": 5
}
