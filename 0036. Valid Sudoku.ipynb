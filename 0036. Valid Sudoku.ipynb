{
 "cells": [
  {
   "cell_type": "markdown",
   "id": "1e517a98-8497-4966-ada7-f4c8645e6238",
   "metadata": {},
   "source": [
    "## First Solution"
   ]
  },
  {
   "cell_type": "code",
   "execution_count": 11,
   "id": "c9945743-a75c-4652-b2e4-2229fb1f6522",
   "metadata": {},
   "outputs": [],
   "source": [
    "def isValidSudoku(board):\n",
    "    for i in range(9):\n",
    "        _dict = {}\n",
    "        for j in range(9):\n",
    "            _num = board[i][j]\n",
    "            if _num in _dict:\n",
    "                return False\n",
    "            elif _num!=\".\":\n",
    "                _dict[_num] = 1\n",
    "    for j in range(9):\n",
    "        _dict = {}\n",
    "        for i in range(9):\n",
    "            _num = board[i][j]\n",
    "            if _num in _dict:\n",
    "                return False\n",
    "            elif _num!=\".\":\n",
    "                _dict[_num] = 1\n",
    "    for i in range(0, 9, 3):\n",
    "        for j in range(0, 9, 3):\n",
    "            _dict = {}\n",
    "            for k in range(9):\n",
    "                _num = board[i+k//3][j+k%3]\n",
    "                if _num in _dict:\n",
    "                    return False\n",
    "                elif _num!=\".\":\n",
    "                    _dict[_num]=1\n",
    "    return True"
   ]
  },
  {
   "cell_type": "code",
   "execution_count": 12,
   "id": "fad424d2-a9b3-4aa5-ae6c-01d41a507803",
   "metadata": {},
   "outputs": [
    {
     "data": {
      "text/plain": [
       "True"
      ]
     },
     "execution_count": 12,
     "metadata": {},
     "output_type": "execute_result"
    }
   ],
   "source": [
    "board = [[\"5\",\"3\",\".\",\".\",\"7\",\".\",\".\",\".\",\".\"]\n",
    ",[\"6\",\".\",\".\",\"1\",\"9\",\"5\",\".\",\".\",\".\"]\n",
    ",[\".\",\"9\",\"8\",\".\",\".\",\".\",\".\",\"6\",\".\"]\n",
    ",[\"8\",\".\",\".\",\".\",\"6\",\".\",\".\",\".\",\"3\"]\n",
    ",[\"4\",\".\",\".\",\"8\",\".\",\"3\",\".\",\".\",\"1\"]\n",
    ",[\"7\",\".\",\".\",\".\",\"2\",\".\",\".\",\".\",\"6\"]\n",
    ",[\".\",\"6\",\".\",\".\",\".\",\".\",\"2\",\"8\",\".\"]\n",
    ",[\".\",\".\",\".\",\"4\",\"1\",\"9\",\".\",\".\",\"5\"]\n",
    ",[\".\",\".\",\".\",\".\",\"8\",\".\",\".\",\"7\",\"9\"]]\n",
    "\n",
    "isValidSudoku(board)"
   ]
  },
  {
   "cell_type": "code",
   "execution_count": 13,
   "id": "9598e2c1-1f91-42fa-9a26-3d1929c61a55",
   "metadata": {},
   "outputs": [
    {
     "data": {
      "text/plain": [
       "False"
      ]
     },
     "execution_count": 13,
     "metadata": {},
     "output_type": "execute_result"
    }
   ],
   "source": [
    "board = [[\"8\",\"3\",\".\",\".\",\"7\",\".\",\".\",\".\",\".\"]\n",
    ",[\"6\",\".\",\".\",\"1\",\"9\",\"5\",\".\",\".\",\".\"]\n",
    ",[\".\",\"9\",\"8\",\".\",\".\",\".\",\".\",\"6\",\".\"]\n",
    ",[\"8\",\".\",\".\",\".\",\"6\",\".\",\".\",\".\",\"3\"]\n",
    ",[\"4\",\".\",\".\",\"8\",\".\",\"3\",\".\",\".\",\"1\"]\n",
    ",[\"7\",\".\",\".\",\".\",\"2\",\".\",\".\",\".\",\"6\"]\n",
    ",[\".\",\"6\",\".\",\".\",\".\",\".\",\"2\",\"8\",\".\"]\n",
    ",[\".\",\".\",\".\",\"4\",\"1\",\"9\",\".\",\".\",\"5\"]\n",
    ",[\".\",\".\",\".\",\".\",\"8\",\".\",\".\",\"7\",\"9\"]]\n",
    "\n",
    "isValidSudoku(board)"
   ]
  },
  {
   "cell_type": "markdown",
   "id": "9ab6e68a-6d22-41c4-9008-31d9081921f1",
   "metadata": {},
   "source": [
    "## Second Solution"
   ]
  },
  {
   "cell_type": "code",
   "execution_count": 14,
   "id": "8687b3b8-9416-4d59-83b9-989f67719eed",
   "metadata": {},
   "outputs": [],
   "source": [
    "def isValidSudoku(board):\n",
    "    rows = [set() for _ in range(9)]\n",
    "    cols = [set() for _ in range(9)]\n",
    "    boxes = [set() for _ in range(9)]\n",
    "    \n",
    "    for r in range(9):\n",
    "        for c in range(9):\n",
    "            val = board[r][c]\n",
    "            if val == \".\":\n",
    "                continue\n",
    "                \n",
    "            box_idx = (r // 3) * 3 + (c // 3)\n",
    "            if (val in rows[r]) or (val in cols[c]) or (val in boxes[box_idx]):\n",
    "                return False\n",
    "    \n",
    "            rows[r].add(val)\n",
    "            cols[c].add(val)\n",
    "            boxes[box_idx].add(val)\n",
    "    \n",
    "    return True    "
   ]
  },
  {
   "cell_type": "code",
   "execution_count": 15,
   "id": "e163c7ce-ead5-4a59-bb6d-fd4f6b618ac7",
   "metadata": {},
   "outputs": [
    {
     "data": {
      "text/plain": [
       "False"
      ]
     },
     "execution_count": 15,
     "metadata": {},
     "output_type": "execute_result"
    }
   ],
   "source": [
    "board = [[\"8\",\"3\",\".\",\".\",\"7\",\".\",\".\",\".\",\".\"]\n",
    ",[\"6\",\".\",\".\",\"1\",\"9\",\"5\",\".\",\".\",\".\"]\n",
    ",[\".\",\"9\",\"8\",\".\",\".\",\".\",\".\",\"6\",\".\"]\n",
    ",[\"8\",\".\",\".\",\".\",\"6\",\".\",\".\",\".\",\"3\"]\n",
    ",[\"4\",\".\",\".\",\"8\",\".\",\"3\",\".\",\".\",\"1\"]\n",
    ",[\"7\",\".\",\".\",\".\",\"2\",\".\",\".\",\".\",\"6\"]\n",
    ",[\".\",\"6\",\".\",\".\",\".\",\".\",\"2\",\"8\",\".\"]\n",
    ",[\".\",\".\",\".\",\"4\",\"1\",\"9\",\".\",\".\",\"5\"]\n",
    ",[\".\",\".\",\".\",\".\",\"8\",\".\",\".\",\"7\",\"9\"]]\n",
    "\n",
    "isValidSudoku(board)"
   ]
  },
  {
   "cell_type": "code",
   "execution_count": null,
   "id": "7bc3d2f5-734f-49a7-a7b0-ec8aba226290",
   "metadata": {},
   "outputs": [],
   "source": []
  }
 ],
 "metadata": {
  "kernelspec": {
   "display_name": "Python 3 (ipykernel)",
   "language": "python",
   "name": "python3"
  },
  "language_info": {
   "codemirror_mode": {
    "name": "ipython",
    "version": 3
   },
   "file_extension": ".py",
   "mimetype": "text/x-python",
   "name": "python",
   "nbconvert_exporter": "python",
   "pygments_lexer": "ipython3",
   "version": "3.10.11"
  }
 },
 "nbformat": 4,
 "nbformat_minor": 5
}
