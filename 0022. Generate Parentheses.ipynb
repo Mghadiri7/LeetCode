{
 "cells": [
  {
   "cell_type": "code",
   "execution_count": 14,
   "id": "043d1d0b-42cc-4de1-b0ec-dee021bb8c68",
   "metadata": {},
   "outputs": [],
   "source": [
    "def generateParenthesis(n):\n",
    "    res, stack = [], []\n",
    "    def backtracker(op, cp):\n",
    "        if op==cp==n:\n",
    "            res.append(\"\".join(stack))\n",
    "            return\n",
    "        if op<n:\n",
    "            stack.append(\"(\")\n",
    "            backtracker(op+1, cp)\n",
    "            stack.pop()\n",
    "        if cp<op:\n",
    "            stack.append(\")\")\n",
    "            backtracker(op, cp+1)\n",
    "            stack.pop()\n",
    "\n",
    "    backtracker(0, 0)\n",
    "    return res"
   ]
  },
  {
   "cell_type": "code",
   "execution_count": 15,
   "id": "d86ee1c1-3bc4-49b7-86f4-234f1bf5d3bd",
   "metadata": {},
   "outputs": [
    {
     "data": {
      "text/plain": [
       "['((()))', '(()())', '(())()', '()(())', '()()()']"
      ]
     },
     "execution_count": 15,
     "metadata": {},
     "output_type": "execute_result"
    }
   ],
   "source": [
    "n = 3\n",
    "generateParenthesis(n)"
   ]
  },
  {
   "cell_type": "code",
   "execution_count": null,
   "id": "26f4b89c-5af8-4791-bf87-d3b23eb33e1b",
   "metadata": {},
   "outputs": [],
   "source": []
  }
 ],
 "metadata": {
  "kernelspec": {
   "display_name": "Python 3 (ipykernel)",
   "language": "python",
   "name": "python3"
  },
  "language_info": {
   "codemirror_mode": {
    "name": "ipython",
    "version": 3
   },
   "file_extension": ".py",
   "mimetype": "text/x-python",
   "name": "python",
   "nbconvert_exporter": "python",
   "pygments_lexer": "ipython3",
   "version": "3.10.11"
  }
 },
 "nbformat": 4,
 "nbformat_minor": 5
}
