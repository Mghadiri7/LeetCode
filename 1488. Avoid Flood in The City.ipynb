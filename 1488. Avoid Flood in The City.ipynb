{
 "cells": [
  {
   "cell_type": "markdown",
   "id": "dcaed834-35f1-4655-86ec-d7f08e67ddf1",
   "metadata": {},
   "source": [
    "## First Solution\n",
    "### (TLE)Time Limit Exceeded"
   ]
  },
  {
   "cell_type": "code",
   "execution_count": 4,
   "id": "1a2bff30-5a6c-459d-84ba-cbab31b91cf9",
   "metadata": {},
   "outputs": [],
   "source": [
    "def avoidFlood(rains):\n",
    "    length = len(rains)\n",
    "    lst = []\n",
    "    ans = []\n",
    "    seen = set()\n",
    "    for i in range(length):\n",
    "        lake = rains[i]\n",
    "        if lake==0:\n",
    "            for j in range(i+1, length):\n",
    "                if rains[j] in seen:\n",
    "                    seen.remove(rains[j])\n",
    "                    ans.append(rains[j])\n",
    "                    break\n",
    "            else:\n",
    "                ans.append(1)\n",
    "        else:\n",
    "            if lake in seen:\n",
    "                return []\n",
    "            ans.append(-1)\n",
    "            seen.add(lake)\n",
    "    return ans"
   ]
  },
  {
   "cell_type": "code",
   "execution_count": 5,
   "id": "3ae73364-22fd-4f8c-a90f-ce75af27c0b2",
   "metadata": {},
   "outputs": [
    {
     "data": {
      "text/plain": [
       "[-1, -1, 2, 1, -1, -1]"
      ]
     },
     "execution_count": 5,
     "metadata": {},
     "output_type": "execute_result"
    }
   ],
   "source": [
    "rains = [1,2,0,0,2,1]\n",
    "avoidFlood(rains)"
   ]
  },
  {
   "cell_type": "code",
   "execution_count": 6,
   "id": "231126e8-8bb4-4c1a-ba17-7569b69ed750",
   "metadata": {},
   "outputs": [
    {
     "data": {
      "text/plain": [
       "[]"
      ]
     },
     "execution_count": 6,
     "metadata": {},
     "output_type": "execute_result"
    }
   ],
   "source": [
    "rains = [1,2,0,1,2]\n",
    "avoidFlood(rains)"
   ]
  },
  {
   "cell_type": "markdown",
   "id": "336dfef3-f8f1-430c-a509-5bb8df57d17a",
   "metadata": {},
   "source": [
    "## Second Solution\n",
    "### Without TLE"
   ]
  },
  {
   "cell_type": "code",
   "execution_count": 52,
   "id": "50f5c559-5a6b-4b5d-a7b2-d1e1906309a1",
   "metadata": {},
   "outputs": [],
   "source": [
    "import bisect\n",
    "\n",
    "def avoidFlood(rains):\n",
    "    n = len(rains)\n",
    "    ans = [-1] * n\n",
    "    full = {}\n",
    "    dry = []\n",
    "\n",
    "    for i, lake in enumerate(rains):\n",
    "        if lake == 0:\n",
    "            ans[i] = 1\n",
    "            bisect.insort(dry, i)\n",
    "        else:\n",
    "            if lake in full:\n",
    "                prev = full[lake]\n",
    "                idx = bisect.bisect_right(dry, prev)\n",
    "                if idx == len(dry):\n",
    "                    return []\n",
    "                dry_day = dry.pop(idx)\n",
    "                ans[dry_day] = lake\n",
    "            full[lake] = i\n",
    "    return ans"
   ]
  },
  {
   "cell_type": "code",
   "execution_count": 53,
   "id": "221e817d-bfc4-4880-9ad7-a29bc8cfdb7b",
   "metadata": {},
   "outputs": [
    {
     "data": {
      "text/plain": [
       "[-1, -1, 2, 1, -1, -1]"
      ]
     },
     "execution_count": 53,
     "metadata": {},
     "output_type": "execute_result"
    }
   ],
   "source": [
    "rains = [1,2,0,0,2,1]\n",
    "avoidFlood(rains)"
   ]
  },
  {
   "cell_type": "code",
   "execution_count": 54,
   "id": "9611ef6f-f8aa-417d-a46d-251b8739045b",
   "metadata": {},
   "outputs": [
    {
     "data": {
      "text/plain": [
       "[]"
      ]
     },
     "execution_count": 54,
     "metadata": {},
     "output_type": "execute_result"
    }
   ],
   "source": [
    "rains = [0,1,1]\n",
    "avoidFlood(rains)"
   ]
  },
  {
   "cell_type": "code",
   "execution_count": 55,
   "id": "64bdf06a-e8c6-4359-bb8f-c1f5b20b53c8",
   "metadata": {},
   "outputs": [
    {
     "data": {
      "text/plain": [
       "[]"
      ]
     },
     "execution_count": 55,
     "metadata": {},
     "output_type": "execute_result"
    }
   ],
   "source": [
    "rains = [1,2,0,1,2]\n",
    "avoidFlood(rains)"
   ]
  },
  {
   "cell_type": "code",
   "execution_count": null,
   "id": "c21f5d6c-3b79-404d-be76-376778c8f964",
   "metadata": {},
   "outputs": [],
   "source": []
  }
 ],
 "metadata": {
  "kernelspec": {
   "display_name": "Python 3 (ipykernel)",
   "language": "python",
   "name": "python3"
  },
  "language_info": {
   "codemirror_mode": {
    "name": "ipython",
    "version": 3
   },
   "file_extension": ".py",
   "mimetype": "text/x-python",
   "name": "python",
   "nbconvert_exporter": "python",
   "pygments_lexer": "ipython3",
   "version": "3.10.11"
  }
 },
 "nbformat": 4,
 "nbformat_minor": 5
}
