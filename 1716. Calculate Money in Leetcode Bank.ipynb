{
 "cells": [
  {
   "cell_type": "code",
   "execution_count": 6,
   "id": "e68aa67d-f92a-4820-bc1e-ea509674b14c",
   "metadata": {},
   "outputs": [],
   "source": [
    "def totalMoney(n):\n",
    "    weeks = n//7\n",
    "    days = n%7\n",
    "    total = 0\n",
    "    for i in range(weeks):\n",
    "        # for j in range(7):\n",
    "        #     total += j+i+1\n",
    "        total += 28 + 7*i\n",
    "    for i in range(days):\n",
    "        total += i+weeks+1\n",
    "    return total"
   ]
  },
  {
   "cell_type": "code",
   "execution_count": 7,
   "id": "c5ecf33a-b578-4691-9ee1-516e9bb20508",
   "metadata": {},
   "outputs": [
    {
     "data": {
      "text/plain": [
       "37"
      ]
     },
     "execution_count": 7,
     "metadata": {},
     "output_type": "execute_result"
    }
   ],
   "source": [
    "n = 10\n",
    "totalMoney(n)"
   ]
  },
  {
   "cell_type": "code",
   "execution_count": 8,
   "id": "bd4b5a1a-aeb5-4d12-8af9-c802457ccfdd",
   "metadata": {},
   "outputs": [
    {
     "data": {
      "text/plain": [
       "96"
      ]
     },
     "execution_count": 8,
     "metadata": {},
     "output_type": "execute_result"
    }
   ],
   "source": [
    "n = 20\n",
    "totalMoney(n)"
   ]
  },
  {
   "cell_type": "code",
   "execution_count": null,
   "id": "eef9cf39-7c37-4c25-ba22-dfcb2451e726",
   "metadata": {},
   "outputs": [],
   "source": []
  }
 ],
 "metadata": {
  "kernelspec": {
   "display_name": "Python 3 (ipykernel)",
   "language": "python",
   "name": "python3"
  },
  "language_info": {
   "codemirror_mode": {
    "name": "ipython",
    "version": 3
   },
   "file_extension": ".py",
   "mimetype": "text/x-python",
   "name": "python",
   "nbconvert_exporter": "python",
   "pygments_lexer": "ipython3",
   "version": "3.10.11"
  }
 },
 "nbformat": 4,
 "nbformat_minor": 5
}
