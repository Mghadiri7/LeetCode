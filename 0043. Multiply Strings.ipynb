{
 "cells": [
  {
   "cell_type": "code",
   "execution_count": 28,
   "id": "a36e89bf-7687-4d5c-9360-8d1b7cf095e0",
   "metadata": {},
   "outputs": [],
   "source": [
    "def multiply(num1, num2):\n",
    "    if num1=='0' or num2=='0':\n",
    "        return 0\n",
    "        \n",
    "    n = len(num1)\n",
    "    m = len(num2)\n",
    "    res = [0] * (n+m)\n",
    "    for j in range(m-1, -1, -1):\n",
    "        for i in range(n-1, -1, -1):\n",
    "            _mul = (ord(num1[i])-ord('0')) * (ord(num2[j])-ord('0'))\n",
    "            _sum = res[i+j+1] + _mul\n",
    "            res[i+j+1] = _sum%10\n",
    "            res[i+j] += _sum//10\n",
    "    return ''.join(map(str, res)).lstrip('0')"
   ]
  },
  {
   "cell_type": "code",
   "execution_count": 29,
   "id": "33c10784-5da5-48ae-b50d-b9e862705fe7",
   "metadata": {},
   "outputs": [
    {
     "data": {
      "text/plain": [
       "'56088'"
      ]
     },
     "execution_count": 29,
     "metadata": {},
     "output_type": "execute_result"
    }
   ],
   "source": [
    "num1 = \"123\"\n",
    "num2 = \"456\"\n",
    "multiply(num1, num2)"
   ]
  },
  {
   "cell_type": "code",
   "execution_count": null,
   "id": "2ebf29ca-6884-4bbd-8af1-e5d39090493e",
   "metadata": {},
   "outputs": [],
   "source": []
  }
 ],
 "metadata": {
  "kernelspec": {
   "display_name": "Python 3 (ipykernel)",
   "language": "python",
   "name": "python3"
  },
  "language_info": {
   "codemirror_mode": {
    "name": "ipython",
    "version": 3
   },
   "file_extension": ".py",
   "mimetype": "text/x-python",
   "name": "python",
   "nbconvert_exporter": "python",
   "pygments_lexer": "ipython3",
   "version": "3.10.11"
  }
 },
 "nbformat": 4,
 "nbformat_minor": 5
}
